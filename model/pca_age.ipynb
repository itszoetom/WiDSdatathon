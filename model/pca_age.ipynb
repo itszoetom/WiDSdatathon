{
 "cells": [
  {
   "cell_type": "markdown",
   "id": "14649cef",
   "metadata": {},
   "source": [
    "### Load in the training data"
   ]
  },
  {
   "cell_type": "code",
   "execution_count": 73,
   "id": "0a73ebe7",
   "metadata": {
    "ExecuteTime": {
     "end_time": "2025-04-27T21:02:32.208285Z",
     "start_time": "2025-04-27T21:02:24.819081Z"
    }
   },
   "outputs": [],
   "source": [
    "import pandas as pd\n",
    "import numpy as np\n",
    "\n",
    "# Use read_excel and use participant_id as the index\n",
    "train_cat = pd.read_excel(\"../../widsdatathon2025/TRAIN_NEW/TRAIN_CATEGORICAL_METADATA_new.xlsx\")\n",
    "train_func = pd.read_csv(\"../../widsdatathon2025/TRAIN_NEW/\"\n",
    "                         \"TRAIN_FUNCTIONAL_CONNECTOME_MATRICES_new_36P_Pearson.csv\")\n",
    "train_quant = pd.read_excel(\"../../widsdatathon2025/TRAIN_NEW/TRAIN_QUANTITATIVE_METADATA_new.xlsx\")\n",
    "train_soln = pd.read_excel(\"../../widsdatathon2025/TRAIN_NEW/TRAINING_SOLUTIONS.xlsx\")\n",
    "\n",
    "# TEST\n",
    "test_cat = pd.read_excel(\"../../widsdatathon2025/TEST/TEST_CATEGORICAL.xlsx\")\n",
    "test_func = pd.read_csv(\"../../widsdatathon2025/TEST/TEST_FUNCTIONAL_CONNECTOME_MATRICES.csv\")\n",
    "test_quant = pd.read_excel(\"../../widsdatathon2025/TEST/TEST_QUANTITATIVE_METADATA.xlsx\")\n",
    "solutions_path = \"../../widsdatathon2025/TEST/TEST_SOLUTIONS.xlsx\""
   ]
  },
  {
   "cell_type": "code",
   "execution_count": 74,
   "id": "1d5a6a6a",
   "metadata": {
    "ExecuteTime": {
     "end_time": "2025-04-27T21:02:34.973103Z",
     "start_time": "2025-04-27T21:02:34.962563Z"
    }
   },
   "outputs": [],
   "source": [
    "# Set index for merging\n",
    "train_cat.set_index(\"participant_id\", inplace=True)\n",
    "train_quant.set_index(\"participant_id\", inplace=True)\n",
    "train_func.set_index(\"participant_id\", inplace=True)\n",
    "train_soln.set_index(\"participant_id\", inplace=True)\n",
    "\n",
    "# TEST\n",
    "test_cat.set_index(\"participant_id\", inplace=True)\n",
    "test_quant.set_index(\"participant_id\", inplace=True)\n",
    "test_func.set_index(\"participant_id\", inplace=True)"
   ]
  },
  {
   "cell_type": "code",
   "outputs": [
    {
     "data": {
      "text/plain": "                0throw_1thcolumn  0throw_2thcolumn  0throw_3thcolumn  \\\nparticipant_id                                                         \nCfwaf5FX7jWK            0.548480          0.713607          0.557319   \nvhGrzmvA3Hjq            0.427740          0.363022          0.402862   \nULliyEXjy4OV            0.139572          0.390106         -0.087041   \nLZfeAb1xMtql            0.133561          0.778326          0.416355   \nEnFOUv0YK1RG            0.126699          0.575446          0.509422   \n\n                0throw_4thcolumn  0throw_5thcolumn  0throw_6thcolumn  \\\nparticipant_id                                                         \nCfwaf5FX7jWK            0.524369          0.693364          0.770032   \nvhGrzmvA3Hjq            0.363003          0.534558          0.345347   \nULliyEXjy4OV            0.196852          0.088148          0.023843   \nLZfeAb1xMtql            0.471840          0.568460          0.633660   \nEnFOUv0YK1RG            0.363193          0.427544          0.449924   \n\n                0throw_7thcolumn  0throw_8thcolumn  0throw_9thcolumn  \\\nparticipant_id                                                         \nCfwaf5FX7jWK            0.724406          0.390118          0.547912   \nvhGrzmvA3Hjq            0.409471          0.303328          0.402515   \nULliyEXjy4OV            0.381782          0.068979          0.377488   \nLZfeAb1xMtql            0.501113          0.345461          0.467943   \nEnFOUv0YK1RG            0.451796          0.223927          0.298248   \n\n                0throw_10thcolumn  ...  195throw_196thcolumn  \\\nparticipant_id                     ...                         \nCfwaf5FX7jWK             0.470220  ...              0.080423   \nvhGrzmvA3Hjq             0.275052  ...              0.198009   \nULliyEXjy4OV             0.301871  ...              0.051319   \nLZfeAb1xMtql             0.417308  ...              0.046183   \nEnFOUv0YK1RG             0.304429  ...              0.315734   \n\n                195throw_197thcolumn  195throw_198thcolumn  \\\nparticipant_id                                               \nCfwaf5FX7jWK               -0.054581             -0.088163   \nvhGrzmvA3Hjq               -0.000724              0.083122   \nULliyEXjy4OV                0.023630             -0.056819   \nLZfeAb1xMtql               -0.238962              0.121868   \nEnFOUv0YK1RG                0.002234              0.290791   \n\n                195throw_199thcolumn  196throw_197thcolumn  \\\nparticipant_id                                               \nCfwaf5FX7jWK               -0.028574              0.444847   \nvhGrzmvA3Hjq                0.033043              0.687497   \nULliyEXjy4OV                0.117396              0.576086   \nLZfeAb1xMtql               -0.260970              0.646818   \nEnFOUv0YK1RG                0.344149              0.480214   \n\n                196throw_198thcolumn  196throw_199thcolumn  \\\nparticipant_id                                               \nCfwaf5FX7jWK                0.350149             -0.012601   \nvhGrzmvA3Hjq                0.306229              0.717485   \nULliyEXjy4OV                0.517831              0.527044   \nLZfeAb1xMtql                0.594902              0.608156   \nEnFOUv0YK1RG                0.539824              0.447322   \n\n                197throw_198thcolumn  197throw_199thcolumn  \\\nparticipant_id                                               \nCfwaf5FX7jWK                0.665750              0.560565   \nvhGrzmvA3Hjq                0.461809              0.559632   \nULliyEXjy4OV                0.605038              0.609856   \nLZfeAb1xMtql                0.595459              0.683189   \nEnFOUv0YK1RG                0.293088              0.148529   \n\n                198throw_199thcolumn  \nparticipant_id                        \nCfwaf5FX7jWK                0.555732  \nvhGrzmvA3Hjq                0.350027  \nULliyEXjy4OV                0.750987  \nLZfeAb1xMtql                0.542296  \nEnFOUv0YK1RG                0.539823  \n\n[5 rows x 19900 columns]",
      "text/html": "<div>\n<style scoped>\n    .dataframe tbody tr th:only-of-type {\n        vertical-align: middle;\n    }\n\n    .dataframe tbody tr th {\n        vertical-align: top;\n    }\n\n    .dataframe thead th {\n        text-align: right;\n    }\n</style>\n<table border=\"1\" class=\"dataframe\">\n  <thead>\n    <tr style=\"text-align: right;\">\n      <th></th>\n      <th>0throw_1thcolumn</th>\n      <th>0throw_2thcolumn</th>\n      <th>0throw_3thcolumn</th>\n      <th>0throw_4thcolumn</th>\n      <th>0throw_5thcolumn</th>\n      <th>0throw_6thcolumn</th>\n      <th>0throw_7thcolumn</th>\n      <th>0throw_8thcolumn</th>\n      <th>0throw_9thcolumn</th>\n      <th>0throw_10thcolumn</th>\n      <th>...</th>\n      <th>195throw_196thcolumn</th>\n      <th>195throw_197thcolumn</th>\n      <th>195throw_198thcolumn</th>\n      <th>195throw_199thcolumn</th>\n      <th>196throw_197thcolumn</th>\n      <th>196throw_198thcolumn</th>\n      <th>196throw_199thcolumn</th>\n      <th>197throw_198thcolumn</th>\n      <th>197throw_199thcolumn</th>\n      <th>198throw_199thcolumn</th>\n    </tr>\n    <tr>\n      <th>participant_id</th>\n      <th></th>\n      <th></th>\n      <th></th>\n      <th></th>\n      <th></th>\n      <th></th>\n      <th></th>\n      <th></th>\n      <th></th>\n      <th></th>\n      <th></th>\n      <th></th>\n      <th></th>\n      <th></th>\n      <th></th>\n      <th></th>\n      <th></th>\n      <th></th>\n      <th></th>\n      <th></th>\n      <th></th>\n    </tr>\n  </thead>\n  <tbody>\n    <tr>\n      <th>Cfwaf5FX7jWK</th>\n      <td>0.548480</td>\n      <td>0.713607</td>\n      <td>0.557319</td>\n      <td>0.524369</td>\n      <td>0.693364</td>\n      <td>0.770032</td>\n      <td>0.724406</td>\n      <td>0.390118</td>\n      <td>0.547912</td>\n      <td>0.470220</td>\n      <td>...</td>\n      <td>0.080423</td>\n      <td>-0.054581</td>\n      <td>-0.088163</td>\n      <td>-0.028574</td>\n      <td>0.444847</td>\n      <td>0.350149</td>\n      <td>-0.012601</td>\n      <td>0.665750</td>\n      <td>0.560565</td>\n      <td>0.555732</td>\n    </tr>\n    <tr>\n      <th>vhGrzmvA3Hjq</th>\n      <td>0.427740</td>\n      <td>0.363022</td>\n      <td>0.402862</td>\n      <td>0.363003</td>\n      <td>0.534558</td>\n      <td>0.345347</td>\n      <td>0.409471</td>\n      <td>0.303328</td>\n      <td>0.402515</td>\n      <td>0.275052</td>\n      <td>...</td>\n      <td>0.198009</td>\n      <td>-0.000724</td>\n      <td>0.083122</td>\n      <td>0.033043</td>\n      <td>0.687497</td>\n      <td>0.306229</td>\n      <td>0.717485</td>\n      <td>0.461809</td>\n      <td>0.559632</td>\n      <td>0.350027</td>\n    </tr>\n    <tr>\n      <th>ULliyEXjy4OV</th>\n      <td>0.139572</td>\n      <td>0.390106</td>\n      <td>-0.087041</td>\n      <td>0.196852</td>\n      <td>0.088148</td>\n      <td>0.023843</td>\n      <td>0.381782</td>\n      <td>0.068979</td>\n      <td>0.377488</td>\n      <td>0.301871</td>\n      <td>...</td>\n      <td>0.051319</td>\n      <td>0.023630</td>\n      <td>-0.056819</td>\n      <td>0.117396</td>\n      <td>0.576086</td>\n      <td>0.517831</td>\n      <td>0.527044</td>\n      <td>0.605038</td>\n      <td>0.609856</td>\n      <td>0.750987</td>\n    </tr>\n    <tr>\n      <th>LZfeAb1xMtql</th>\n      <td>0.133561</td>\n      <td>0.778326</td>\n      <td>0.416355</td>\n      <td>0.471840</td>\n      <td>0.568460</td>\n      <td>0.633660</td>\n      <td>0.501113</td>\n      <td>0.345461</td>\n      <td>0.467943</td>\n      <td>0.417308</td>\n      <td>...</td>\n      <td>0.046183</td>\n      <td>-0.238962</td>\n      <td>0.121868</td>\n      <td>-0.260970</td>\n      <td>0.646818</td>\n      <td>0.594902</td>\n      <td>0.608156</td>\n      <td>0.595459</td>\n      <td>0.683189</td>\n      <td>0.542296</td>\n    </tr>\n    <tr>\n      <th>EnFOUv0YK1RG</th>\n      <td>0.126699</td>\n      <td>0.575446</td>\n      <td>0.509422</td>\n      <td>0.363193</td>\n      <td>0.427544</td>\n      <td>0.449924</td>\n      <td>0.451796</td>\n      <td>0.223927</td>\n      <td>0.298248</td>\n      <td>0.304429</td>\n      <td>...</td>\n      <td>0.315734</td>\n      <td>0.002234</td>\n      <td>0.290791</td>\n      <td>0.344149</td>\n      <td>0.480214</td>\n      <td>0.539824</td>\n      <td>0.447322</td>\n      <td>0.293088</td>\n      <td>0.148529</td>\n      <td>0.539823</td>\n    </tr>\n  </tbody>\n</table>\n<p>5 rows × 19900 columns</p>\n</div>"
     },
     "execution_count": 75,
     "metadata": {},
     "output_type": "execute_result"
    }
   ],
   "source": [
    "test_func.head()\n",
    "# train_func.head()\n",
    "# train_quant.head()\n",
    "# train_soln.head()"
   ],
   "metadata": {
    "collapsed": false,
    "ExecuteTime": {
     "end_time": "2025-04-27T21:02:35.745428Z",
     "start_time": "2025-04-27T21:02:35.729466Z"
    }
   },
   "id": "fd5a7b91f88e16c7",
   "execution_count": 75
  },
  {
   "cell_type": "markdown",
   "id": "406df64c16f6625a",
   "metadata": {
    "collapsed": false
   },
   "source": [
    "## PCA for the functional connectome matrix to reduce dimension"
   ]
  },
  {
   "cell_type": "code",
   "execution_count": 76,
   "id": "ac7849a1151a7af0",
   "metadata": {
    "ExecuteTime": {
     "end_time": "2025-04-27T21:02:52.332673Z",
     "start_time": "2025-04-27T21:02:37.522476Z"
    }
   },
   "outputs": [
    {
     "data": {
      "text/plain": "                fmri_pca_1  fmri_pca_2  fmri_pca_3  fmri_pca_4  fmri_pca_5  \\\nparticipant_id                                                               \n70z8Q2xdTXM3      6.322800   -0.365680   -4.918161   -3.823234   -5.706922   \nWHWymJu6zNZi      5.468294   -3.985252    1.542399    0.104718   -0.529034   \n4PAQp1M6EyAo      0.447190    0.733000    3.051331    1.763899    1.932819   \nobEacy4Of68I     -9.149799   -2.044626    0.519359   -2.703924   -4.444125   \ns7WzzDcmDOhF      0.812814   -1.933265    1.834524    0.383155   -0.512339   \n\n                fmri_pca_6  fmri_pca_7  fmri_pca_8  fmri_pca_9  fmri_pca_10  \\\nparticipant_id                                                                \n70z8Q2xdTXM3     -0.875162    1.567538   -1.347504   -1.717390     1.626988   \nWHWymJu6zNZi     -2.951969    0.786361    0.794942   -2.772015    -2.408706   \n4PAQp1M6EyAo      6.451149   -3.356865    1.946043   -1.165683    -2.876667   \nobEacy4Of68I      2.916933    1.036388    0.080342   -0.148153     0.384175   \ns7WzzDcmDOhF      2.972217    3.151062    3.419844    0.283665    -2.997835   \n\n                ...  fmri_pca_41  fmri_pca_42  fmri_pca_43  fmri_pca_44  \\\nparticipant_id  ...                                                       \n70z8Q2xdTXM3    ...     0.763749    -0.476313     0.375003    -0.365422   \nWHWymJu6zNZi    ...     1.148160     0.630849    -0.786697    -0.110392   \n4PAQp1M6EyAo    ...    -2.294714    -0.117025     2.886661     0.931904   \nobEacy4Of68I    ...    -0.098490    -1.726940     0.131844    -1.138782   \ns7WzzDcmDOhF    ...     2.268290    -1.848774    -2.776586    -0.812665   \n\n                fmri_pca_45  fmri_pca_46  fmri_pca_47  fmri_pca_48  \\\nparticipant_id                                                       \n70z8Q2xdTXM3       3.257316    -3.575255     2.411314    -0.449233   \nWHWymJu6zNZi      -2.148501    -0.811568    -0.681116    -0.884776   \n4PAQp1M6EyAo       0.218781    -1.568619     0.322839    -0.714864   \nobEacy4Of68I      -0.209235    -0.773317     0.265963    -0.430477   \ns7WzzDcmDOhF      -0.810443     0.679452     0.028633    -0.241316   \n\n                fmri_pca_49  fmri_pca_50  \nparticipant_id                            \n70z8Q2xdTXM3       0.273353    -2.268761  \nWHWymJu6zNZi      -0.456536     1.464358  \n4PAQp1M6EyAo      -0.204625     0.579417  \nobEacy4Of68I       0.422861    -0.471907  \ns7WzzDcmDOhF       2.503731     2.392134  \n\n[5 rows x 50 columns]",
      "text/html": "<div>\n<style scoped>\n    .dataframe tbody tr th:only-of-type {\n        vertical-align: middle;\n    }\n\n    .dataframe tbody tr th {\n        vertical-align: top;\n    }\n\n    .dataframe thead th {\n        text-align: right;\n    }\n</style>\n<table border=\"1\" class=\"dataframe\">\n  <thead>\n    <tr style=\"text-align: right;\">\n      <th></th>\n      <th>fmri_pca_1</th>\n      <th>fmri_pca_2</th>\n      <th>fmri_pca_3</th>\n      <th>fmri_pca_4</th>\n      <th>fmri_pca_5</th>\n      <th>fmri_pca_6</th>\n      <th>fmri_pca_7</th>\n      <th>fmri_pca_8</th>\n      <th>fmri_pca_9</th>\n      <th>fmri_pca_10</th>\n      <th>...</th>\n      <th>fmri_pca_41</th>\n      <th>fmri_pca_42</th>\n      <th>fmri_pca_43</th>\n      <th>fmri_pca_44</th>\n      <th>fmri_pca_45</th>\n      <th>fmri_pca_46</th>\n      <th>fmri_pca_47</th>\n      <th>fmri_pca_48</th>\n      <th>fmri_pca_49</th>\n      <th>fmri_pca_50</th>\n    </tr>\n    <tr>\n      <th>participant_id</th>\n      <th></th>\n      <th></th>\n      <th></th>\n      <th></th>\n      <th></th>\n      <th></th>\n      <th></th>\n      <th></th>\n      <th></th>\n      <th></th>\n      <th></th>\n      <th></th>\n      <th></th>\n      <th></th>\n      <th></th>\n      <th></th>\n      <th></th>\n      <th></th>\n      <th></th>\n      <th></th>\n      <th></th>\n    </tr>\n  </thead>\n  <tbody>\n    <tr>\n      <th>70z8Q2xdTXM3</th>\n      <td>6.322800</td>\n      <td>-0.365680</td>\n      <td>-4.918161</td>\n      <td>-3.823234</td>\n      <td>-5.706922</td>\n      <td>-0.875162</td>\n      <td>1.567538</td>\n      <td>-1.347504</td>\n      <td>-1.717390</td>\n      <td>1.626988</td>\n      <td>...</td>\n      <td>0.763749</td>\n      <td>-0.476313</td>\n      <td>0.375003</td>\n      <td>-0.365422</td>\n      <td>3.257316</td>\n      <td>-3.575255</td>\n      <td>2.411314</td>\n      <td>-0.449233</td>\n      <td>0.273353</td>\n      <td>-2.268761</td>\n    </tr>\n    <tr>\n      <th>WHWymJu6zNZi</th>\n      <td>5.468294</td>\n      <td>-3.985252</td>\n      <td>1.542399</td>\n      <td>0.104718</td>\n      <td>-0.529034</td>\n      <td>-2.951969</td>\n      <td>0.786361</td>\n      <td>0.794942</td>\n      <td>-2.772015</td>\n      <td>-2.408706</td>\n      <td>...</td>\n      <td>1.148160</td>\n      <td>0.630849</td>\n      <td>-0.786697</td>\n      <td>-0.110392</td>\n      <td>-2.148501</td>\n      <td>-0.811568</td>\n      <td>-0.681116</td>\n      <td>-0.884776</td>\n      <td>-0.456536</td>\n      <td>1.464358</td>\n    </tr>\n    <tr>\n      <th>4PAQp1M6EyAo</th>\n      <td>0.447190</td>\n      <td>0.733000</td>\n      <td>3.051331</td>\n      <td>1.763899</td>\n      <td>1.932819</td>\n      <td>6.451149</td>\n      <td>-3.356865</td>\n      <td>1.946043</td>\n      <td>-1.165683</td>\n      <td>-2.876667</td>\n      <td>...</td>\n      <td>-2.294714</td>\n      <td>-0.117025</td>\n      <td>2.886661</td>\n      <td>0.931904</td>\n      <td>0.218781</td>\n      <td>-1.568619</td>\n      <td>0.322839</td>\n      <td>-0.714864</td>\n      <td>-0.204625</td>\n      <td>0.579417</td>\n    </tr>\n    <tr>\n      <th>obEacy4Of68I</th>\n      <td>-9.149799</td>\n      <td>-2.044626</td>\n      <td>0.519359</td>\n      <td>-2.703924</td>\n      <td>-4.444125</td>\n      <td>2.916933</td>\n      <td>1.036388</td>\n      <td>0.080342</td>\n      <td>-0.148153</td>\n      <td>0.384175</td>\n      <td>...</td>\n      <td>-0.098490</td>\n      <td>-1.726940</td>\n      <td>0.131844</td>\n      <td>-1.138782</td>\n      <td>-0.209235</td>\n      <td>-0.773317</td>\n      <td>0.265963</td>\n      <td>-0.430477</td>\n      <td>0.422861</td>\n      <td>-0.471907</td>\n    </tr>\n    <tr>\n      <th>s7WzzDcmDOhF</th>\n      <td>0.812814</td>\n      <td>-1.933265</td>\n      <td>1.834524</td>\n      <td>0.383155</td>\n      <td>-0.512339</td>\n      <td>2.972217</td>\n      <td>3.151062</td>\n      <td>3.419844</td>\n      <td>0.283665</td>\n      <td>-2.997835</td>\n      <td>...</td>\n      <td>2.268290</td>\n      <td>-1.848774</td>\n      <td>-2.776586</td>\n      <td>-0.812665</td>\n      <td>-0.810443</td>\n      <td>0.679452</td>\n      <td>0.028633</td>\n      <td>-0.241316</td>\n      <td>2.503731</td>\n      <td>2.392134</td>\n    </tr>\n  </tbody>\n</table>\n<p>5 rows × 50 columns</p>\n</div>"
     },
     "execution_count": 76,
     "metadata": {},
     "output_type": "execute_result"
    }
   ],
   "source": [
    "from sklearn.decomposition import PCA\n",
    "\n",
    "# Select only fMRI columns\n",
    "fmri_data = train_func.drop(columns=['participant_id'], errors='ignore')\n",
    "fmri_data_test = test_func.drop(columns=['participant_id'], errors='ignore')\n",
    "\n",
    "# Apply PCA to reduce to top N components (e.g. 50)\n",
    "pca = PCA(n_components=50)\n",
    "fmri_pca = pca.fit_transform(fmri_data)\n",
    "fmri_pca_test = pca.fit_transform(fmri_data_test)\n",
    "\n",
    "train_func_pca = pd.DataFrame(fmri_pca, index=train_func.index,\n",
    "                           columns=[f'fmri_pca_{i}' for i in range(1, 51)])\n",
    "test_func_pca = pd.DataFrame(fmri_pca_test, index=test_func.index,\n",
    "                           columns=[f'fmri_pca_{i}' for i in range(1, 51)])\n",
    "train_func_pca.head()"
   ]
  },
  {
   "cell_type": "code",
   "outputs": [
    {
     "data": {
      "text/plain": "                fmri_pca_1  fmri_pca_2  fmri_pca_3  fmri_pca_4  fmri_pca_5  \\\nparticipant_id                                                               \nCfwaf5FX7jWK     -0.241573    0.798620   -3.338365   -2.945730    0.935485   \nvhGrzmvA3Hjq     -6.393446   -2.606063   -1.673228   -4.574098    2.661956   \nULliyEXjy4OV     -1.601297    0.157037    0.352906    6.263209   -2.054009   \nLZfeAb1xMtql     -1.571668   -2.720598   -2.393926    0.868357    0.737472   \nEnFOUv0YK1RG      2.889024   -1.047001   -2.082233   -0.431934   -2.277369   \n\n                fmri_pca_6  fmri_pca_7  fmri_pca_8  fmri_pca_9  fmri_pca_10  \\\nparticipant_id                                                                \nCfwaf5FX7jWK      2.380042   -2.108530    0.727716   -1.825227    -2.339715   \nvhGrzmvA3Hjq     -2.814177   -0.420013    0.547968    0.260094    -2.889240   \nULliyEXjy4OV     -1.135146    2.228638   -0.690495    2.496552    -0.638298   \nLZfeAb1xMtql     -0.501450    2.458480   -0.002225    0.104631    -1.108050   \nEnFOUv0YK1RG     -1.308704   -0.252739    0.279537    1.585714     0.285816   \n\n                ...  fmri_pca_41  fmri_pca_42  fmri_pca_43  fmri_pca_44  \\\nparticipant_id  ...                                                       \nCfwaf5FX7jWK    ...     0.180244    -1.594318    -0.774946    -1.808223   \nvhGrzmvA3Hjq    ...    -0.308447     0.014417    -1.092795     1.585590   \nULliyEXjy4OV    ...    -0.434658     0.298066    -1.775209    -0.597397   \nLZfeAb1xMtql    ...    -1.315546     0.578891    -0.388128     0.442122   \nEnFOUv0YK1RG    ...     0.260851    -0.449771     0.748327     0.389085   \n\n                fmri_pca_45  fmri_pca_46  fmri_pca_47  fmri_pca_48  \\\nparticipant_id                                                       \nCfwaf5FX7jWK       0.611929    -4.189920     1.562126     0.011852   \nvhGrzmvA3Hjq      -2.695314     3.748906     1.680684    -0.173057   \nULliyEXjy4OV       0.671241    -1.105910     0.044946    -0.193182   \nLZfeAb1xMtql       0.001584    -0.590576     1.628386     0.423327   \nEnFOUv0YK1RG       0.948853     2.090336     2.259653    -1.170112   \n\n                fmri_pca_49  fmri_pca_50  \nparticipant_id                            \nCfwaf5FX7jWK       3.471165     2.008843  \nvhGrzmvA3Hjq      -0.311072    -0.324432  \nULliyEXjy4OV      -1.217737     3.561735  \nLZfeAb1xMtql      -1.035141     1.569984  \nEnFOUv0YK1RG      -2.119113    -1.464002  \n\n[5 rows x 50 columns]",
      "text/html": "<div>\n<style scoped>\n    .dataframe tbody tr th:only-of-type {\n        vertical-align: middle;\n    }\n\n    .dataframe tbody tr th {\n        vertical-align: top;\n    }\n\n    .dataframe thead th {\n        text-align: right;\n    }\n</style>\n<table border=\"1\" class=\"dataframe\">\n  <thead>\n    <tr style=\"text-align: right;\">\n      <th></th>\n      <th>fmri_pca_1</th>\n      <th>fmri_pca_2</th>\n      <th>fmri_pca_3</th>\n      <th>fmri_pca_4</th>\n      <th>fmri_pca_5</th>\n      <th>fmri_pca_6</th>\n      <th>fmri_pca_7</th>\n      <th>fmri_pca_8</th>\n      <th>fmri_pca_9</th>\n      <th>fmri_pca_10</th>\n      <th>...</th>\n      <th>fmri_pca_41</th>\n      <th>fmri_pca_42</th>\n      <th>fmri_pca_43</th>\n      <th>fmri_pca_44</th>\n      <th>fmri_pca_45</th>\n      <th>fmri_pca_46</th>\n      <th>fmri_pca_47</th>\n      <th>fmri_pca_48</th>\n      <th>fmri_pca_49</th>\n      <th>fmri_pca_50</th>\n    </tr>\n    <tr>\n      <th>participant_id</th>\n      <th></th>\n      <th></th>\n      <th></th>\n      <th></th>\n      <th></th>\n      <th></th>\n      <th></th>\n      <th></th>\n      <th></th>\n      <th></th>\n      <th></th>\n      <th></th>\n      <th></th>\n      <th></th>\n      <th></th>\n      <th></th>\n      <th></th>\n      <th></th>\n      <th></th>\n      <th></th>\n      <th></th>\n    </tr>\n  </thead>\n  <tbody>\n    <tr>\n      <th>Cfwaf5FX7jWK</th>\n      <td>-0.241573</td>\n      <td>0.798620</td>\n      <td>-3.338365</td>\n      <td>-2.945730</td>\n      <td>0.935485</td>\n      <td>2.380042</td>\n      <td>-2.108530</td>\n      <td>0.727716</td>\n      <td>-1.825227</td>\n      <td>-2.339715</td>\n      <td>...</td>\n      <td>0.180244</td>\n      <td>-1.594318</td>\n      <td>-0.774946</td>\n      <td>-1.808223</td>\n      <td>0.611929</td>\n      <td>-4.189920</td>\n      <td>1.562126</td>\n      <td>0.011852</td>\n      <td>3.471165</td>\n      <td>2.008843</td>\n    </tr>\n    <tr>\n      <th>vhGrzmvA3Hjq</th>\n      <td>-6.393446</td>\n      <td>-2.606063</td>\n      <td>-1.673228</td>\n      <td>-4.574098</td>\n      <td>2.661956</td>\n      <td>-2.814177</td>\n      <td>-0.420013</td>\n      <td>0.547968</td>\n      <td>0.260094</td>\n      <td>-2.889240</td>\n      <td>...</td>\n      <td>-0.308447</td>\n      <td>0.014417</td>\n      <td>-1.092795</td>\n      <td>1.585590</td>\n      <td>-2.695314</td>\n      <td>3.748906</td>\n      <td>1.680684</td>\n      <td>-0.173057</td>\n      <td>-0.311072</td>\n      <td>-0.324432</td>\n    </tr>\n    <tr>\n      <th>ULliyEXjy4OV</th>\n      <td>-1.601297</td>\n      <td>0.157037</td>\n      <td>0.352906</td>\n      <td>6.263209</td>\n      <td>-2.054009</td>\n      <td>-1.135146</td>\n      <td>2.228638</td>\n      <td>-0.690495</td>\n      <td>2.496552</td>\n      <td>-0.638298</td>\n      <td>...</td>\n      <td>-0.434658</td>\n      <td>0.298066</td>\n      <td>-1.775209</td>\n      <td>-0.597397</td>\n      <td>0.671241</td>\n      <td>-1.105910</td>\n      <td>0.044946</td>\n      <td>-0.193182</td>\n      <td>-1.217737</td>\n      <td>3.561735</td>\n    </tr>\n    <tr>\n      <th>LZfeAb1xMtql</th>\n      <td>-1.571668</td>\n      <td>-2.720598</td>\n      <td>-2.393926</td>\n      <td>0.868357</td>\n      <td>0.737472</td>\n      <td>-0.501450</td>\n      <td>2.458480</td>\n      <td>-0.002225</td>\n      <td>0.104631</td>\n      <td>-1.108050</td>\n      <td>...</td>\n      <td>-1.315546</td>\n      <td>0.578891</td>\n      <td>-0.388128</td>\n      <td>0.442122</td>\n      <td>0.001584</td>\n      <td>-0.590576</td>\n      <td>1.628386</td>\n      <td>0.423327</td>\n      <td>-1.035141</td>\n      <td>1.569984</td>\n    </tr>\n    <tr>\n      <th>EnFOUv0YK1RG</th>\n      <td>2.889024</td>\n      <td>-1.047001</td>\n      <td>-2.082233</td>\n      <td>-0.431934</td>\n      <td>-2.277369</td>\n      <td>-1.308704</td>\n      <td>-0.252739</td>\n      <td>0.279537</td>\n      <td>1.585714</td>\n      <td>0.285816</td>\n      <td>...</td>\n      <td>0.260851</td>\n      <td>-0.449771</td>\n      <td>0.748327</td>\n      <td>0.389085</td>\n      <td>0.948853</td>\n      <td>2.090336</td>\n      <td>2.259653</td>\n      <td>-1.170112</td>\n      <td>-2.119113</td>\n      <td>-1.464002</td>\n    </tr>\n  </tbody>\n</table>\n<p>5 rows × 50 columns</p>\n</div>"
     },
     "execution_count": 77,
     "metadata": {},
     "output_type": "execute_result"
    }
   ],
   "source": [
    "test_func_pca.head()"
   ],
   "metadata": {
    "collapsed": false,
    "ExecuteTime": {
     "end_time": "2025-04-27T21:02:52.341968Z",
     "start_time": "2025-04-27T21:02:52.336832Z"
    }
   },
   "id": "b0111f0e1637444e",
   "execution_count": 77
  },
  {
   "cell_type": "markdown",
   "id": "f9a5a24f4a19a842",
   "metadata": {
    "collapsed": false
   },
   "source": [
    "## Interpolate missing values with mean for quant and cat dfs"
   ]
  },
  {
   "cell_type": "code",
   "execution_count": 78,
   "id": "ea3161a9934e682c",
   "metadata": {
    "ExecuteTime": {
     "end_time": "2025-04-27T21:02:52.566719Z",
     "start_time": "2025-04-27T21:02:52.347960Z"
    }
   },
   "outputs": [
    {
     "name": "stdout",
     "output_type": "stream",
     "text": [
      "Using regression to impute 'MRI_Track_Age_at_Scan' in train_quant\n",
      "Using regression to impute 'PreInt_Demos_Fam_Child_Race' in train_cat\n",
      "Using regression to impute 'Barratt_Barratt_P2_Edu' in train_cat\n",
      "Using regression to impute 'Barratt_Barratt_P2_Occ' in train_cat\n"
     ]
    }
   ],
   "source": [
    "from sklearn.linear_model import LinearRegression\n",
    "from sklearn.impute import SimpleImputer\n",
    "\n",
    "def impute_with_regression(df, target_col):\n",
    "    \"\"\"Impute missing values in target_col of df using linear regression.\"\"\"\n",
    "    df = df.copy()\n",
    "    train_df = df.dropna(subset=[target_col])\n",
    "    if train_df.empty:\n",
    "        return df  # skip if no data to train on\n",
    "    X_train = train_df.drop(columns=[target_col])\n",
    "    y_train = train_df[target_col]\n",
    "    X_train_imp = SimpleImputer(strategy='mean').fit_transform(X_train)\n",
    "    reg = LinearRegression().fit(X_train_imp, y_train)\n",
    "\n",
    "    missing_mask = df[target_col].isna()\n",
    "    X_missing = df.loc[missing_mask].drop(columns=[target_col])\n",
    "    X_missing_imp = SimpleImputer(strategy='mean').fit_transform(X_missing)\n",
    "    df.loc[missing_mask, target_col] = reg.predict(X_missing_imp)\n",
    "    return df\n",
    "\n",
    "# Function to process any dataframe (quant or cat)\n",
    "def process_df(df, name='df'):\n",
    "    missing = df.isnull().sum()\n",
    "    for col in missing[missing > 0].index:\n",
    "        if missing[col] < 50:\n",
    "            df[col] = df[col].fillna(df[col].mean())\n",
    "        else:\n",
    "            print(f\"Using regression to impute '{col}' in {name}\")\n",
    "            df = impute_with_regression(df, col)\n",
    "    return df\n",
    "\n",
    "# Apply to all four\n",
    "train_quant = process_df(train_quant, 'train_quant')\n",
    "train_cat = process_df(train_cat, 'train_cat')\n",
    "test_quant = process_df(test_quant, 'test_quant')\n",
    "test_cat = process_df(test_cat, 'test_cat')"
   ]
  },
  {
   "cell_type": "code",
   "execution_count": 79,
   "id": "2138a83a91362272",
   "metadata": {
    "ExecuteTime": {
     "end_time": "2025-04-27T21:02:52.567216Z",
     "start_time": "2025-04-27T21:02:52.508811Z"
    }
   },
   "outputs": [
    {
     "name": "stdout",
     "output_type": "stream",
     "text": [
      "Missing values in train_quant:\n",
      " Series([], dtype: int64)\n"
     ]
    }
   ],
   "source": [
    "# Check missing values *before* merging\n",
    "missing = test_cat.isnull().sum()\n",
    "print(\"Missing values in train_quant:\\n\", missing[missing > 0])"
   ]
  },
  {
   "cell_type": "code",
   "outputs": [
    {
     "data": {
      "text/plain": "                EHQ_EHQ_Total  ColorVision_CV_Score  APQ_P_APQ_P_CP  \\\nparticipant_id                                                        \n00aIpNTbG5uh           100.00                  13.0             3.0   \n00fV0OyyoLfw            92.27                  14.0             3.0   \n04X1eiS79T4B            86.67                  14.0             3.0   \n05ocQutkURd6            93.34                  14.0             3.0   \n06YUNBA9ZRLq             0.00                  14.0             8.0   \n\n                APQ_P_APQ_P_ID  APQ_P_APQ_P_INV  APQ_P_APQ_P_OPD  \\\nparticipant_id                                                     \n00aIpNTbG5uh              15.0             44.0             14.0   \n00fV0OyyoLfw              12.0             35.0             25.0   \n04X1eiS79T4B              21.0             37.0             18.0   \n05ocQutkURd6              11.0             42.0             15.0   \n06YUNBA9ZRLq              12.0             35.0             22.0   \n\n                APQ_P_APQ_P_PM  APQ_P_APQ_P_PP  SDQ_SDQ_Conduct_Problems  \\\nparticipant_id                                                             \n00aIpNTbG5uh              20.0            27.0                       3.0   \n00fV0OyyoLfw              28.0            30.0                       5.0   \n04X1eiS79T4B              26.0            28.0                       3.0   \n05ocQutkURd6              20.0            28.0                       0.0   \n06YUNBA9ZRLq              12.0            24.0                       6.0   \n\n                SDQ_SDQ_Difficulties_Total  SDQ_SDQ_Emotional_Problems  \\\nparticipant_id                                                           \n00aIpNTbG5uh                          17.0                         4.0   \n00fV0OyyoLfw                          20.0                         4.0   \n04X1eiS79T4B                          24.0                         7.0   \n05ocQutkURd6                           5.0                         0.0   \n06YUNBA9ZRLq                          23.0                         7.0   \n\n                SDQ_SDQ_Externalizing  SDQ_SDQ_Generating_Impact  \\\nparticipant_id                                                     \n00aIpNTbG5uh                     11.0                        5.0   \n00fV0OyyoLfw                     13.0                        5.0   \n04X1eiS79T4B                     10.0                       10.0   \n05ocQutkURd6                      3.0                        0.0   \n06YUNBA9ZRLq                     15.0                        8.0   \n\n                SDQ_SDQ_Hyperactivity  SDQ_SDQ_Internalizing  \\\nparticipant_id                                                 \n00aIpNTbG5uh                      8.0                    6.0   \n00fV0OyyoLfw                      8.0                    7.0   \n04X1eiS79T4B                      7.0                   14.0   \n05ocQutkURd6                      3.0                    2.0   \n06YUNBA9ZRLq                      9.0                    8.0   \n\n                SDQ_SDQ_Peer_Problems  SDQ_SDQ_Prosocial  \\\nparticipant_id                                             \n00aIpNTbG5uh                      2.0                9.0   \n00fV0OyyoLfw                      3.0                8.0   \n04X1eiS79T4B                      7.0                7.0   \n05ocQutkURd6                      2.0                6.0   \n06YUNBA9ZRLq                      1.0                4.0   \n\n                MRI_Track_Age_at_Scan  \nparticipant_id                         \n00aIpNTbG5uh                14.274127  \n00fV0OyyoLfw                14.278626  \n04X1eiS79T4B                13.463381  \n05ocQutkURd6                 9.572553  \n06YUNBA9ZRLq                 6.654574  ",
      "text/html": "<div>\n<style scoped>\n    .dataframe tbody tr th:only-of-type {\n        vertical-align: middle;\n    }\n\n    .dataframe tbody tr th {\n        vertical-align: top;\n    }\n\n    .dataframe thead th {\n        text-align: right;\n    }\n</style>\n<table border=\"1\" class=\"dataframe\">\n  <thead>\n    <tr style=\"text-align: right;\">\n      <th></th>\n      <th>EHQ_EHQ_Total</th>\n      <th>ColorVision_CV_Score</th>\n      <th>APQ_P_APQ_P_CP</th>\n      <th>APQ_P_APQ_P_ID</th>\n      <th>APQ_P_APQ_P_INV</th>\n      <th>APQ_P_APQ_P_OPD</th>\n      <th>APQ_P_APQ_P_PM</th>\n      <th>APQ_P_APQ_P_PP</th>\n      <th>SDQ_SDQ_Conduct_Problems</th>\n      <th>SDQ_SDQ_Difficulties_Total</th>\n      <th>SDQ_SDQ_Emotional_Problems</th>\n      <th>SDQ_SDQ_Externalizing</th>\n      <th>SDQ_SDQ_Generating_Impact</th>\n      <th>SDQ_SDQ_Hyperactivity</th>\n      <th>SDQ_SDQ_Internalizing</th>\n      <th>SDQ_SDQ_Peer_Problems</th>\n      <th>SDQ_SDQ_Prosocial</th>\n      <th>MRI_Track_Age_at_Scan</th>\n    </tr>\n    <tr>\n      <th>participant_id</th>\n      <th></th>\n      <th></th>\n      <th></th>\n      <th></th>\n      <th></th>\n      <th></th>\n      <th></th>\n      <th></th>\n      <th></th>\n      <th></th>\n      <th></th>\n      <th></th>\n      <th></th>\n      <th></th>\n      <th></th>\n      <th></th>\n      <th></th>\n      <th></th>\n    </tr>\n  </thead>\n  <tbody>\n    <tr>\n      <th>00aIpNTbG5uh</th>\n      <td>100.00</td>\n      <td>13.0</td>\n      <td>3.0</td>\n      <td>15.0</td>\n      <td>44.0</td>\n      <td>14.0</td>\n      <td>20.0</td>\n      <td>27.0</td>\n      <td>3.0</td>\n      <td>17.0</td>\n      <td>4.0</td>\n      <td>11.0</td>\n      <td>5.0</td>\n      <td>8.0</td>\n      <td>6.0</td>\n      <td>2.0</td>\n      <td>9.0</td>\n      <td>14.274127</td>\n    </tr>\n    <tr>\n      <th>00fV0OyyoLfw</th>\n      <td>92.27</td>\n      <td>14.0</td>\n      <td>3.0</td>\n      <td>12.0</td>\n      <td>35.0</td>\n      <td>25.0</td>\n      <td>28.0</td>\n      <td>30.0</td>\n      <td>5.0</td>\n      <td>20.0</td>\n      <td>4.0</td>\n      <td>13.0</td>\n      <td>5.0</td>\n      <td>8.0</td>\n      <td>7.0</td>\n      <td>3.0</td>\n      <td>8.0</td>\n      <td>14.278626</td>\n    </tr>\n    <tr>\n      <th>04X1eiS79T4B</th>\n      <td>86.67</td>\n      <td>14.0</td>\n      <td>3.0</td>\n      <td>21.0</td>\n      <td>37.0</td>\n      <td>18.0</td>\n      <td>26.0</td>\n      <td>28.0</td>\n      <td>3.0</td>\n      <td>24.0</td>\n      <td>7.0</td>\n      <td>10.0</td>\n      <td>10.0</td>\n      <td>7.0</td>\n      <td>14.0</td>\n      <td>7.0</td>\n      <td>7.0</td>\n      <td>13.463381</td>\n    </tr>\n    <tr>\n      <th>05ocQutkURd6</th>\n      <td>93.34</td>\n      <td>14.0</td>\n      <td>3.0</td>\n      <td>11.0</td>\n      <td>42.0</td>\n      <td>15.0</td>\n      <td>20.0</td>\n      <td>28.0</td>\n      <td>0.0</td>\n      <td>5.0</td>\n      <td>0.0</td>\n      <td>3.0</td>\n      <td>0.0</td>\n      <td>3.0</td>\n      <td>2.0</td>\n      <td>2.0</td>\n      <td>6.0</td>\n      <td>9.572553</td>\n    </tr>\n    <tr>\n      <th>06YUNBA9ZRLq</th>\n      <td>0.00</td>\n      <td>14.0</td>\n      <td>8.0</td>\n      <td>12.0</td>\n      <td>35.0</td>\n      <td>22.0</td>\n      <td>12.0</td>\n      <td>24.0</td>\n      <td>6.0</td>\n      <td>23.0</td>\n      <td>7.0</td>\n      <td>15.0</td>\n      <td>8.0</td>\n      <td>9.0</td>\n      <td>8.0</td>\n      <td>1.0</td>\n      <td>4.0</td>\n      <td>6.654574</td>\n    </tr>\n  </tbody>\n</table>\n</div>"
     },
     "execution_count": 80,
     "metadata": {},
     "output_type": "execute_result"
    }
   ],
   "source": [
    "train_quant.head()"
   ],
   "metadata": {
    "collapsed": false,
    "ExecuteTime": {
     "end_time": "2025-04-27T21:02:52.643935Z",
     "start_time": "2025-04-27T21:02:52.525254Z"
    }
   },
   "id": "eb79b5c07ad49fd1",
   "execution_count": 80
  },
  {
   "cell_type": "code",
   "execution_count": 81,
   "id": "268e809ef085e969",
   "metadata": {
    "ExecuteTime": {
     "end_time": "2025-04-27T21:02:52.649036Z",
     "start_time": "2025-04-27T21:02:52.545379Z"
    }
   },
   "outputs": [
    {
     "data": {
      "text/plain": "                EHQ_EHQ_Total  ColorVision_CV_Score  APQ_P_APQ_P_CP  \\\nparticipant_id                                                        \nCfwaf5FX7jWK            60.03                  14.0             5.0   \nvhGrzmvA3Hjq            86.71                  12.0             3.0   \nULliyEXjy4OV            26.68                  13.0             3.0   \nLZfeAb1xMtql            93.38                  13.0             3.0   \nEnFOUv0YK1RG           -93.38                  14.0             3.0   \n\n                APQ_P_APQ_P_ID  APQ_P_APQ_P_INV  APQ_P_APQ_P_OPD  \\\nparticipant_id                                                     \nCfwaf5FX7jWK              16.0             41.0             19.0   \nvhGrzmvA3Hjq              13.0             43.0             18.0   \nULliyEXjy4OV              14.0             36.0             16.0   \nLZfeAb1xMtql              19.0             41.0             17.0   \nEnFOUv0YK1RG              13.0             42.0             19.0   \n\n                APQ_P_APQ_P_PM  APQ_P_APQ_P_PP  SDQ_SDQ_Conduct_Problems  \\\nparticipant_id                                                             \nCfwaf5FX7jWK              11.0            26.0                       2.0   \nvhGrzmvA3Hjq              15.0            28.0                       2.0   \nULliyEXjy4OV              14.0            25.0                       1.0   \nLZfeAb1xMtql              18.0            27.0                       4.0   \nEnFOUv0YK1RG              16.0            28.0                       2.0   \n\n                SDQ_SDQ_Difficulties_Total  ...  fmri_pca_41  fmri_pca_42  \\\nparticipant_id                              ...                             \nCfwaf5FX7jWK                          12.0  ...     0.180244    -1.594318   \nvhGrzmvA3Hjq                          16.0  ...    -0.308447     0.014417   \nULliyEXjy4OV                           7.0  ...    -0.434658     0.298066   \nLZfeAb1xMtql                          15.0  ...    -1.315546     0.578891   \nEnFOUv0YK1RG                          18.0  ...     0.260851    -0.449771   \n\n                fmri_pca_43  fmri_pca_44  fmri_pca_45  fmri_pca_46  \\\nparticipant_id                                                       \nCfwaf5FX7jWK      -0.774946    -1.808223     0.611929    -4.189920   \nvhGrzmvA3Hjq      -1.092795     1.585590    -2.695314     3.748906   \nULliyEXjy4OV      -1.775209    -0.597397     0.671241    -1.105910   \nLZfeAb1xMtql      -0.388128     0.442122     0.001584    -0.590576   \nEnFOUv0YK1RG       0.748327     0.389085     0.948853     2.090336   \n\n                fmri_pca_47  fmri_pca_48  fmri_pca_49  fmri_pca_50  \nparticipant_id                                                      \nCfwaf5FX7jWK       1.562126     0.011852     3.471165     2.008843  \nvhGrzmvA3Hjq       1.680684    -0.173057    -0.311072    -0.324432  \nULliyEXjy4OV       0.044946    -0.193182    -1.217737     3.561735  \nLZfeAb1xMtql       1.628386     0.423327    -1.035141     1.569984  \nEnFOUv0YK1RG       2.259653    -1.170112    -2.119113    -1.464002  \n\n[5 rows x 77 columns]",
      "text/html": "<div>\n<style scoped>\n    .dataframe tbody tr th:only-of-type {\n        vertical-align: middle;\n    }\n\n    .dataframe tbody tr th {\n        vertical-align: top;\n    }\n\n    .dataframe thead th {\n        text-align: right;\n    }\n</style>\n<table border=\"1\" class=\"dataframe\">\n  <thead>\n    <tr style=\"text-align: right;\">\n      <th></th>\n      <th>EHQ_EHQ_Total</th>\n      <th>ColorVision_CV_Score</th>\n      <th>APQ_P_APQ_P_CP</th>\n      <th>APQ_P_APQ_P_ID</th>\n      <th>APQ_P_APQ_P_INV</th>\n      <th>APQ_P_APQ_P_OPD</th>\n      <th>APQ_P_APQ_P_PM</th>\n      <th>APQ_P_APQ_P_PP</th>\n      <th>SDQ_SDQ_Conduct_Problems</th>\n      <th>SDQ_SDQ_Difficulties_Total</th>\n      <th>...</th>\n      <th>fmri_pca_41</th>\n      <th>fmri_pca_42</th>\n      <th>fmri_pca_43</th>\n      <th>fmri_pca_44</th>\n      <th>fmri_pca_45</th>\n      <th>fmri_pca_46</th>\n      <th>fmri_pca_47</th>\n      <th>fmri_pca_48</th>\n      <th>fmri_pca_49</th>\n      <th>fmri_pca_50</th>\n    </tr>\n    <tr>\n      <th>participant_id</th>\n      <th></th>\n      <th></th>\n      <th></th>\n      <th></th>\n      <th></th>\n      <th></th>\n      <th></th>\n      <th></th>\n      <th></th>\n      <th></th>\n      <th></th>\n      <th></th>\n      <th></th>\n      <th></th>\n      <th></th>\n      <th></th>\n      <th></th>\n      <th></th>\n      <th></th>\n      <th></th>\n      <th></th>\n    </tr>\n  </thead>\n  <tbody>\n    <tr>\n      <th>Cfwaf5FX7jWK</th>\n      <td>60.03</td>\n      <td>14.0</td>\n      <td>5.0</td>\n      <td>16.0</td>\n      <td>41.0</td>\n      <td>19.0</td>\n      <td>11.0</td>\n      <td>26.0</td>\n      <td>2.0</td>\n      <td>12.0</td>\n      <td>...</td>\n      <td>0.180244</td>\n      <td>-1.594318</td>\n      <td>-0.774946</td>\n      <td>-1.808223</td>\n      <td>0.611929</td>\n      <td>-4.189920</td>\n      <td>1.562126</td>\n      <td>0.011852</td>\n      <td>3.471165</td>\n      <td>2.008843</td>\n    </tr>\n    <tr>\n      <th>vhGrzmvA3Hjq</th>\n      <td>86.71</td>\n      <td>12.0</td>\n      <td>3.0</td>\n      <td>13.0</td>\n      <td>43.0</td>\n      <td>18.0</td>\n      <td>15.0</td>\n      <td>28.0</td>\n      <td>2.0</td>\n      <td>16.0</td>\n      <td>...</td>\n      <td>-0.308447</td>\n      <td>0.014417</td>\n      <td>-1.092795</td>\n      <td>1.585590</td>\n      <td>-2.695314</td>\n      <td>3.748906</td>\n      <td>1.680684</td>\n      <td>-0.173057</td>\n      <td>-0.311072</td>\n      <td>-0.324432</td>\n    </tr>\n    <tr>\n      <th>ULliyEXjy4OV</th>\n      <td>26.68</td>\n      <td>13.0</td>\n      <td>3.0</td>\n      <td>14.0</td>\n      <td>36.0</td>\n      <td>16.0</td>\n      <td>14.0</td>\n      <td>25.0</td>\n      <td>1.0</td>\n      <td>7.0</td>\n      <td>...</td>\n      <td>-0.434658</td>\n      <td>0.298066</td>\n      <td>-1.775209</td>\n      <td>-0.597397</td>\n      <td>0.671241</td>\n      <td>-1.105910</td>\n      <td>0.044946</td>\n      <td>-0.193182</td>\n      <td>-1.217737</td>\n      <td>3.561735</td>\n    </tr>\n    <tr>\n      <th>LZfeAb1xMtql</th>\n      <td>93.38</td>\n      <td>13.0</td>\n      <td>3.0</td>\n      <td>19.0</td>\n      <td>41.0</td>\n      <td>17.0</td>\n      <td>18.0</td>\n      <td>27.0</td>\n      <td>4.0</td>\n      <td>15.0</td>\n      <td>...</td>\n      <td>-1.315546</td>\n      <td>0.578891</td>\n      <td>-0.388128</td>\n      <td>0.442122</td>\n      <td>0.001584</td>\n      <td>-0.590576</td>\n      <td>1.628386</td>\n      <td>0.423327</td>\n      <td>-1.035141</td>\n      <td>1.569984</td>\n    </tr>\n    <tr>\n      <th>EnFOUv0YK1RG</th>\n      <td>-93.38</td>\n      <td>14.0</td>\n      <td>3.0</td>\n      <td>13.0</td>\n      <td>42.0</td>\n      <td>19.0</td>\n      <td>16.0</td>\n      <td>28.0</td>\n      <td>2.0</td>\n      <td>18.0</td>\n      <td>...</td>\n      <td>0.260851</td>\n      <td>-0.449771</td>\n      <td>0.748327</td>\n      <td>0.389085</td>\n      <td>0.948853</td>\n      <td>2.090336</td>\n      <td>2.259653</td>\n      <td>-1.170112</td>\n      <td>-2.119113</td>\n      <td>-1.464002</td>\n    </tr>\n  </tbody>\n</table>\n<p>5 rows × 77 columns</p>\n</div>"
     },
     "execution_count": 81,
     "metadata": {},
     "output_type": "execute_result"
    }
   ],
   "source": [
    "# make participant_id a column\n",
    "train_quant = train_quant.reset_index()\n",
    "train_cat = train_cat.reset_index()\n",
    "train_soln = train_soln.reset_index()\n",
    "test_quant = test_quant.reset_index()\n",
    "test_cat = test_cat.reset_index()\n",
    "\n",
    "# Merge everything on participant_id\n",
    "X_full = train_quant.merge(train_cat, on='participant_id').merge(train_func_pca, on='participant_id')\n",
    "X_full_test = test_quant.merge(test_cat, on='participant_id').merge(test_func_pca, on='participant_id')\n",
    "\n",
    "# Target labels for model training\n",
    "y = train_soln[['participant_id', 'ADHD_Outcome', 'Sex_F']]\n",
    "\n",
    "# Align rows across X and y\n",
    "X_full = X_full.merge(y, on='participant_id')\n",
    "X_full = X_full.drop(columns=['ADHD_Outcome', 'Sex_F'])\n",
    "X_full.set_index(\"participant_id\", inplace=True)\n",
    "X_full_test.set_index(\"participant_id\", inplace=True)\n",
    "X_full_test.head()"
   ]
  },
  {
   "cell_type": "code",
   "outputs": [
    {
     "data": {
      "text/plain": "                EHQ_EHQ_Total  ColorVision_CV_Score  APQ_P_APQ_P_CP  \\\nparticipant_id                                                        \n00aIpNTbG5uh           100.00                  13.0             3.0   \n00fV0OyyoLfw            92.27                  14.0             3.0   \n04X1eiS79T4B            86.67                  14.0             3.0   \n05ocQutkURd6            93.34                  14.0             3.0   \n06YUNBA9ZRLq             0.00                  14.0             8.0   \n\n                APQ_P_APQ_P_ID  APQ_P_APQ_P_INV  APQ_P_APQ_P_OPD  \\\nparticipant_id                                                     \n00aIpNTbG5uh              15.0             44.0             14.0   \n00fV0OyyoLfw              12.0             35.0             25.0   \n04X1eiS79T4B              21.0             37.0             18.0   \n05ocQutkURd6              11.0             42.0             15.0   \n06YUNBA9ZRLq              12.0             35.0             22.0   \n\n                APQ_P_APQ_P_PM  APQ_P_APQ_P_PP  SDQ_SDQ_Conduct_Problems  \\\nparticipant_id                                                             \n00aIpNTbG5uh              20.0            27.0                       3.0   \n00fV0OyyoLfw              28.0            30.0                       5.0   \n04X1eiS79T4B              26.0            28.0                       3.0   \n05ocQutkURd6              20.0            28.0                       0.0   \n06YUNBA9ZRLq              12.0            24.0                       6.0   \n\n                SDQ_SDQ_Difficulties_Total  ...  fmri_pca_41  fmri_pca_42  \\\nparticipant_id                              ...                             \n00aIpNTbG5uh                          17.0  ...     0.227346    -0.845894   \n00fV0OyyoLfw                          20.0  ...    -0.682375    -0.605339   \n04X1eiS79T4B                          24.0  ...     3.302735    -2.700238   \n05ocQutkURd6                           5.0  ...     1.336626    -0.165706   \n06YUNBA9ZRLq                          23.0  ...     1.885678     1.166388   \n\n                fmri_pca_43  fmri_pca_44  fmri_pca_45  fmri_pca_46  \\\nparticipant_id                                                       \n00aIpNTbG5uh      -1.529469    -1.023541     0.172934    -2.178640   \n00fV0OyyoLfw       0.127799    -1.357792     0.524511     0.953753   \n04X1eiS79T4B      -2.145076    -0.111795    -2.289428    -0.662995   \n05ocQutkURd6       2.951199    -1.815690    -2.630526    -3.077335   \n06YUNBA9ZRLq       0.424844    -0.209563    -1.849197     0.357205   \n\n                fmri_pca_47  fmri_pca_48  fmri_pca_49  fmri_pca_50  \nparticipant_id                                                      \n00aIpNTbG5uh      -0.877372     2.474064    -2.204624     5.195602  \n00fV0OyyoLfw       2.535061    -0.274999    -2.232800     1.326270  \n04X1eiS79T4B      -0.589727    -2.427714    -1.350853    -1.885541  \n05ocQutkURd6      -1.530428     0.109178    -1.550451    -3.928289  \n06YUNBA9ZRLq       1.275416     0.755532    -1.009892    -0.741534  \n\n[5 rows x 77 columns]",
      "text/html": "<div>\n<style scoped>\n    .dataframe tbody tr th:only-of-type {\n        vertical-align: middle;\n    }\n\n    .dataframe tbody tr th {\n        vertical-align: top;\n    }\n\n    .dataframe thead th {\n        text-align: right;\n    }\n</style>\n<table border=\"1\" class=\"dataframe\">\n  <thead>\n    <tr style=\"text-align: right;\">\n      <th></th>\n      <th>EHQ_EHQ_Total</th>\n      <th>ColorVision_CV_Score</th>\n      <th>APQ_P_APQ_P_CP</th>\n      <th>APQ_P_APQ_P_ID</th>\n      <th>APQ_P_APQ_P_INV</th>\n      <th>APQ_P_APQ_P_OPD</th>\n      <th>APQ_P_APQ_P_PM</th>\n      <th>APQ_P_APQ_P_PP</th>\n      <th>SDQ_SDQ_Conduct_Problems</th>\n      <th>SDQ_SDQ_Difficulties_Total</th>\n      <th>...</th>\n      <th>fmri_pca_41</th>\n      <th>fmri_pca_42</th>\n      <th>fmri_pca_43</th>\n      <th>fmri_pca_44</th>\n      <th>fmri_pca_45</th>\n      <th>fmri_pca_46</th>\n      <th>fmri_pca_47</th>\n      <th>fmri_pca_48</th>\n      <th>fmri_pca_49</th>\n      <th>fmri_pca_50</th>\n    </tr>\n    <tr>\n      <th>participant_id</th>\n      <th></th>\n      <th></th>\n      <th></th>\n      <th></th>\n      <th></th>\n      <th></th>\n      <th></th>\n      <th></th>\n      <th></th>\n      <th></th>\n      <th></th>\n      <th></th>\n      <th></th>\n      <th></th>\n      <th></th>\n      <th></th>\n      <th></th>\n      <th></th>\n      <th></th>\n      <th></th>\n      <th></th>\n    </tr>\n  </thead>\n  <tbody>\n    <tr>\n      <th>00aIpNTbG5uh</th>\n      <td>100.00</td>\n      <td>13.0</td>\n      <td>3.0</td>\n      <td>15.0</td>\n      <td>44.0</td>\n      <td>14.0</td>\n      <td>20.0</td>\n      <td>27.0</td>\n      <td>3.0</td>\n      <td>17.0</td>\n      <td>...</td>\n      <td>0.227346</td>\n      <td>-0.845894</td>\n      <td>-1.529469</td>\n      <td>-1.023541</td>\n      <td>0.172934</td>\n      <td>-2.178640</td>\n      <td>-0.877372</td>\n      <td>2.474064</td>\n      <td>-2.204624</td>\n      <td>5.195602</td>\n    </tr>\n    <tr>\n      <th>00fV0OyyoLfw</th>\n      <td>92.27</td>\n      <td>14.0</td>\n      <td>3.0</td>\n      <td>12.0</td>\n      <td>35.0</td>\n      <td>25.0</td>\n      <td>28.0</td>\n      <td>30.0</td>\n      <td>5.0</td>\n      <td>20.0</td>\n      <td>...</td>\n      <td>-0.682375</td>\n      <td>-0.605339</td>\n      <td>0.127799</td>\n      <td>-1.357792</td>\n      <td>0.524511</td>\n      <td>0.953753</td>\n      <td>2.535061</td>\n      <td>-0.274999</td>\n      <td>-2.232800</td>\n      <td>1.326270</td>\n    </tr>\n    <tr>\n      <th>04X1eiS79T4B</th>\n      <td>86.67</td>\n      <td>14.0</td>\n      <td>3.0</td>\n      <td>21.0</td>\n      <td>37.0</td>\n      <td>18.0</td>\n      <td>26.0</td>\n      <td>28.0</td>\n      <td>3.0</td>\n      <td>24.0</td>\n      <td>...</td>\n      <td>3.302735</td>\n      <td>-2.700238</td>\n      <td>-2.145076</td>\n      <td>-0.111795</td>\n      <td>-2.289428</td>\n      <td>-0.662995</td>\n      <td>-0.589727</td>\n      <td>-2.427714</td>\n      <td>-1.350853</td>\n      <td>-1.885541</td>\n    </tr>\n    <tr>\n      <th>05ocQutkURd6</th>\n      <td>93.34</td>\n      <td>14.0</td>\n      <td>3.0</td>\n      <td>11.0</td>\n      <td>42.0</td>\n      <td>15.0</td>\n      <td>20.0</td>\n      <td>28.0</td>\n      <td>0.0</td>\n      <td>5.0</td>\n      <td>...</td>\n      <td>1.336626</td>\n      <td>-0.165706</td>\n      <td>2.951199</td>\n      <td>-1.815690</td>\n      <td>-2.630526</td>\n      <td>-3.077335</td>\n      <td>-1.530428</td>\n      <td>0.109178</td>\n      <td>-1.550451</td>\n      <td>-3.928289</td>\n    </tr>\n    <tr>\n      <th>06YUNBA9ZRLq</th>\n      <td>0.00</td>\n      <td>14.0</td>\n      <td>8.0</td>\n      <td>12.0</td>\n      <td>35.0</td>\n      <td>22.0</td>\n      <td>12.0</td>\n      <td>24.0</td>\n      <td>6.0</td>\n      <td>23.0</td>\n      <td>...</td>\n      <td>1.885678</td>\n      <td>1.166388</td>\n      <td>0.424844</td>\n      <td>-0.209563</td>\n      <td>-1.849197</td>\n      <td>0.357205</td>\n      <td>1.275416</td>\n      <td>0.755532</td>\n      <td>-1.009892</td>\n      <td>-0.741534</td>\n    </tr>\n  </tbody>\n</table>\n<p>5 rows × 77 columns</p>\n</div>"
     },
     "execution_count": 82,
     "metadata": {},
     "output_type": "execute_result"
    }
   ],
   "source": [
    "X_full.head()"
   ],
   "metadata": {
    "collapsed": false,
    "ExecuteTime": {
     "end_time": "2025-04-27T21:02:52.686751Z",
     "start_time": "2025-04-27T21:02:52.575854Z"
    }
   },
   "id": "e572a29625ac1946",
   "execution_count": 82
  },
  {
   "cell_type": "code",
   "outputs": [
    {
     "name": "stdout",
     "output_type": "stream",
     "text": [
      "Sex class weights: {np.int64(0): np.float64(0.7613814756671899), np.int64(1): np.float64(1.4564564564564564)}\n",
      "\n",
      "Validation Weighted F1 Score - ADHD Outcome: 0.6400\n",
      "Classification Report - ADHD Outcome:\n",
      "              precision    recall  f1-score   support\n",
      "\n",
      "           0       0.29      0.17      0.22        64\n",
      "           1       0.74      0.85      0.79       179\n",
      "\n",
      "    accuracy                           0.67       243\n",
      "   macro avg       0.52      0.51      0.50       243\n",
      "weighted avg       0.62      0.67      0.64       243\n",
      "\n",
      "\n",
      "Validation Weighted F1 Score - Sex_F: 0.5508\n",
      "Classification Report - Sex_F:\n",
      "              precision    recall  f1-score   support\n",
      "\n",
      "           0       0.65      0.75      0.70       160\n",
      "           1       0.32      0.23      0.27        83\n",
      "\n",
      "    accuracy                           0.57       243\n",
      "   macro avg       0.49      0.49      0.48       243\n",
      "weighted avg       0.54      0.57      0.55       243\n"
     ]
    },
    {
     "data": {
      "text/plain": "  participant_id  ADHD_Outcome  Sex_F\n0   Cfwaf5FX7jWK             1      0\n1   vhGrzmvA3Hjq             1      0\n2   ULliyEXjy4OV             1      1\n3   LZfeAb1xMtql             0      1\n4   EnFOUv0YK1RG             1      1",
      "text/html": "<div>\n<style scoped>\n    .dataframe tbody tr th:only-of-type {\n        vertical-align: middle;\n    }\n\n    .dataframe tbody tr th {\n        vertical-align: top;\n    }\n\n    .dataframe thead th {\n        text-align: right;\n    }\n</style>\n<table border=\"1\" class=\"dataframe\">\n  <thead>\n    <tr style=\"text-align: right;\">\n      <th></th>\n      <th>participant_id</th>\n      <th>ADHD_Outcome</th>\n      <th>Sex_F</th>\n    </tr>\n  </thead>\n  <tbody>\n    <tr>\n      <th>0</th>\n      <td>Cfwaf5FX7jWK</td>\n      <td>1</td>\n      <td>0</td>\n    </tr>\n    <tr>\n      <th>1</th>\n      <td>vhGrzmvA3Hjq</td>\n      <td>1</td>\n      <td>0</td>\n    </tr>\n    <tr>\n      <th>2</th>\n      <td>ULliyEXjy4OV</td>\n      <td>1</td>\n      <td>1</td>\n    </tr>\n    <tr>\n      <th>3</th>\n      <td>LZfeAb1xMtql</td>\n      <td>0</td>\n      <td>1</td>\n    </tr>\n    <tr>\n      <th>4</th>\n      <td>EnFOUv0YK1RG</td>\n      <td>1</td>\n      <td>1</td>\n    </tr>\n  </tbody>\n</table>\n</div>"
     },
     "execution_count": 92,
     "metadata": {},
     "output_type": "execute_result"
    }
   ],
   "source": [
    "import xgboost as xgb\n",
    "from sklearn.model_selection import train_test_split\n",
    "from sklearn.metrics import f1_score, classification_report\n",
    "from sklearn.utils.class_weight import compute_class_weight\n",
    "import numpy as np\n",
    "import pandas as pd\n",
    "\n",
    "# Split the train set into train and validation\n",
    "X_train, X_val, y_train, y_val = train_test_split(\n",
    "    X_full, y, test_size=0.2, random_state=42, stratify=y['Sex_F']\n",
    ")\n",
    "\n",
    "# Compute class weights for Sex_F\n",
    "sex_classes = np.unique(y_train['Sex_F'])\n",
    "sex_class_weights = compute_class_weight(\n",
    "    class_weight='balanced', classes=sex_classes, y=y_train['Sex_F']\n",
    ")\n",
    "sex_class_weights_dict = {i: w for i, w in zip(sex_classes, sex_class_weights)}\n",
    "print(f\"Sex class weights: {sex_class_weights_dict}\")\n",
    "\n",
    "# ADHD Outcome Model\n",
    "adhd_model = xgb.XGBClassifier(\n",
    "    eval_metric='logloss',\n",
    "    random_state=42,\n",
    ")\n",
    "adhd_model.fit(X_train, y_train['ADHD_Outcome'])\n",
    "\n",
    "adhd_preds_val = adhd_model.predict(X_val)\n",
    "\n",
    "# Sex_F Model (use class weights)\n",
    "sex_model = xgb.XGBClassifier(\n",
    "    eval_metric='logloss',\n",
    "    scale_pos_weight=sex_class_weights_dict[1] / sex_class_weights_dict[0],\n",
    "    random_state=42,\n",
    ")\n",
    "sex_model.fit(X_train, y_train['Sex_F'])\n",
    "\n",
    "sex_preds_val = sex_model.predict(X_val)\n",
    "\n",
    "# Evaluation on validation split\n",
    "adhd_f1_weighted = f1_score(y_val['ADHD_Outcome'], adhd_preds_val, average='weighted')\n",
    "sex_f1_weighted = f1_score(y_val['Sex_F'], sex_preds_val, average='weighted')\n",
    "\n",
    "print(f\"\\nValidation Weighted F1 Score - ADHD Outcome: {adhd_f1_weighted:.4f}\")\n",
    "print(f\"Classification Report - ADHD Outcome:\\n{classification_report(y_val['ADHD_Outcome'], adhd_preds_val)}\")\n",
    "\n",
    "print(f\"\\nValidation Weighted F1 Score - Sex_F: {sex_f1_weighted:.4f}\")\n",
    "print(f\"Classification Report - Sex_F:\\n{classification_report(y_val['Sex_F'], sex_preds_val)}\")\n",
    "\n",
    "# Retrain ADHD model\n",
    "adhd_model_final = xgb.XGBClassifier(\n",
    "    eval_metric='logloss',\n",
    "    random_state=42,\n",
    ")\n",
    "adhd_model_final.fit(X_full, y['ADHD_Outcome'])\n",
    "\n",
    "# Retrain Sex_F model\n",
    "sex_model_final = xgb.XGBClassifier(\n",
    "    eval_metric='logloss',\n",
    "    scale_pos_weight=sex_class_weights_dict[1] / sex_class_weights_dict[0],\n",
    "    random_state=42,\n",
    ")\n",
    "sex_model_final.fit(X_full, y['Sex_F'])\n",
    "\n",
    "# Predict on X_full_test\n",
    "adhd_preds_test = adhd_model_final.predict(X_full_test)\n",
    "sex_preds_test = sex_model_final.predict(X_full_test)\n",
    "\n",
    "# Build the test_soln DataFrame\n",
    "test_soln = pd.DataFrame({\n",
    "    'participant_id': X_full_test.index,\n",
    "    'ADHD_Outcome': adhd_preds_test,\n",
    "    'Sex_F': sex_preds_test\n",
    "}).reset_index(drop=True)\n",
    "test_soln.head()"
   ],
   "metadata": {
    "collapsed": false,
    "ExecuteTime": {
     "end_time": "2025-04-27T21:48:53.205478Z",
     "start_time": "2025-04-27T21:48:50.875591Z"
    }
   },
   "id": "4aef922b30b6a1bf",
   "execution_count": 92
  },
  {
   "cell_type": "markdown",
   "source": [
    "## Testing and Submission"
   ],
   "metadata": {
    "collapsed": false
   },
   "id": "e1226e02566ee980"
  },
  {
   "cell_type": "code",
   "outputs": [],
   "source": [
    "test_soln.to_csv('submission.csv', index=True)"
   ],
   "metadata": {
    "collapsed": false,
    "ExecuteTime": {
     "end_time": "2025-04-27T21:50:09.119765Z",
     "start_time": "2025-04-27T21:50:09.112376Z"
    }
   },
   "id": "e6f2115a91900652",
   "execution_count": 94
  },
  {
   "cell_type": "code",
   "outputs": [],
   "source": [],
   "metadata": {
    "collapsed": false
   },
   "id": "9ce05b05017e0a20"
  }
 ],
 "metadata": {
  "kernelspec": {
   "display_name": "base",
   "language": "python",
   "name": "python3"
  },
  "language_info": {
   "codemirror_mode": {
    "name": "ipython",
    "version": 3
   },
   "file_extension": ".py",
   "mimetype": "text/x-python",
   "name": "python",
   "nbconvert_exporter": "python",
   "pygments_lexer": "ipython3",
   "version": "3.11.7"
  }
 },
 "nbformat": 4,
 "nbformat_minor": 5
}
