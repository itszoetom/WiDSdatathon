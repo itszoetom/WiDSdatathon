{
 "cells": [
  {
   "cell_type": "markdown",
   "id": "14649cef",
   "metadata": {},
   "source": [
    "### Load in the training and test datasets"
   ]
  },
  {
   "cell_type": "code",
   "execution_count": 1,
   "id": "0a73ebe7",
   "metadata": {
    "ExecuteTime": {
     "end_time": "2025-04-27T21:51:27.765284Z",
     "start_time": "2025-04-27T21:51:19.287111Z"
    }
   },
   "outputs": [],
   "source": [
    "import pandas as pd\n",
    "import numpy as np\n",
    "\n",
    "# Use read_excel and use participant_id as the index\n",
    "train_cat = pd.read_excel(\"../../widsdatathon2025/TRAIN_NEW/TRAIN_CATEGORICAL_METADATA_new.xlsx\")\n",
    "train_func = pd.read_csv(\"../../widsdatathon2025/TRAIN_NEW/\"\n",
    "                         \"TRAIN_FUNCTIONAL_CONNECTOME_MATRICES_new_36P_Pearson.csv\")\n",
    "train_quant = pd.read_excel(\"../../widsdatathon2025/TRAIN_NEW/TRAIN_QUANTITATIVE_METADATA_new.xlsx\")\n",
    "train_soln = pd.read_excel(\"../../widsdatathon2025/TRAIN_NEW/TRAINING_SOLUTIONS.xlsx\")\n",
    "\n",
    "# TEST\n",
    "test_cat = pd.read_excel(\"../../widsdatathon2025/TEST/TEST_CATEGORICAL.xlsx\")\n",
    "test_func = pd.read_csv(\"../../widsdatathon2025/TEST/TEST_FUNCTIONAL_CONNECTOME_MATRICES.csv\")\n",
    "test_quant = pd.read_excel(\"../../widsdatathon2025/TEST/TEST_QUANTITATIVE_METADATA.xlsx\")\n",
    "solutions_path = \"../../widsdatathon2025/TEST/TEST_SOLUTIONS.xlsx\""
   ]
  },
  {
   "cell_type": "code",
   "execution_count": 2,
   "id": "1d5a6a6a",
   "metadata": {
    "ExecuteTime": {
     "end_time": "2025-04-27T21:51:32.637307Z",
     "start_time": "2025-04-27T21:51:32.631617Z"
    }
   },
   "outputs": [],
   "source": [
    "# Set index for merging\n",
    "train_cat.set_index(\"participant_id\", inplace=True)\n",
    "train_quant.set_index(\"participant_id\", inplace=True)\n",
    "train_func.set_index(\"participant_id\", inplace=True)\n",
    "train_soln.set_index(\"participant_id\", inplace=True)\n",
    "\n",
    "# TEST\n",
    "test_cat.set_index(\"participant_id\", inplace=True)\n",
    "test_quant.set_index(\"participant_id\", inplace=True)\n",
    "test_func.set_index(\"participant_id\", inplace=True)"
   ]
  },
  {
   "cell_type": "code",
   "outputs": [
    {
     "data": {
      "text/plain": "                0throw_1thcolumn  0throw_2thcolumn  0throw_3thcolumn  \\\nparticipant_id                                                         \nCfwaf5FX7jWK            0.548480          0.713607          0.557319   \nvhGrzmvA3Hjq            0.427740          0.363022          0.402862   \nULliyEXjy4OV            0.139572          0.390106         -0.087041   \nLZfeAb1xMtql            0.133561          0.778326          0.416355   \nEnFOUv0YK1RG            0.126699          0.575446          0.509422   \n\n                0throw_4thcolumn  0throw_5thcolumn  0throw_6thcolumn  \\\nparticipant_id                                                         \nCfwaf5FX7jWK            0.524369          0.693364          0.770032   \nvhGrzmvA3Hjq            0.363003          0.534558          0.345347   \nULliyEXjy4OV            0.196852          0.088148          0.023843   \nLZfeAb1xMtql            0.471840          0.568460          0.633660   \nEnFOUv0YK1RG            0.363193          0.427544          0.449924   \n\n                0throw_7thcolumn  0throw_8thcolumn  0throw_9thcolumn  \\\nparticipant_id                                                         \nCfwaf5FX7jWK            0.724406          0.390118          0.547912   \nvhGrzmvA3Hjq            0.409471          0.303328          0.402515   \nULliyEXjy4OV            0.381782          0.068979          0.377488   \nLZfeAb1xMtql            0.501113          0.345461          0.467943   \nEnFOUv0YK1RG            0.451796          0.223927          0.298248   \n\n                0throw_10thcolumn  ...  195throw_196thcolumn  \\\nparticipant_id                     ...                         \nCfwaf5FX7jWK             0.470220  ...              0.080423   \nvhGrzmvA3Hjq             0.275052  ...              0.198009   \nULliyEXjy4OV             0.301871  ...              0.051319   \nLZfeAb1xMtql             0.417308  ...              0.046183   \nEnFOUv0YK1RG             0.304429  ...              0.315734   \n\n                195throw_197thcolumn  195throw_198thcolumn  \\\nparticipant_id                                               \nCfwaf5FX7jWK               -0.054581             -0.088163   \nvhGrzmvA3Hjq               -0.000724              0.083122   \nULliyEXjy4OV                0.023630             -0.056819   \nLZfeAb1xMtql               -0.238962              0.121868   \nEnFOUv0YK1RG                0.002234              0.290791   \n\n                195throw_199thcolumn  196throw_197thcolumn  \\\nparticipant_id                                               \nCfwaf5FX7jWK               -0.028574              0.444847   \nvhGrzmvA3Hjq                0.033043              0.687497   \nULliyEXjy4OV                0.117396              0.576086   \nLZfeAb1xMtql               -0.260970              0.646818   \nEnFOUv0YK1RG                0.344149              0.480214   \n\n                196throw_198thcolumn  196throw_199thcolumn  \\\nparticipant_id                                               \nCfwaf5FX7jWK                0.350149             -0.012601   \nvhGrzmvA3Hjq                0.306229              0.717485   \nULliyEXjy4OV                0.517831              0.527044   \nLZfeAb1xMtql                0.594902              0.608156   \nEnFOUv0YK1RG                0.539824              0.447322   \n\n                197throw_198thcolumn  197throw_199thcolumn  \\\nparticipant_id                                               \nCfwaf5FX7jWK                0.665750              0.560565   \nvhGrzmvA3Hjq                0.461809              0.559632   \nULliyEXjy4OV                0.605038              0.609856   \nLZfeAb1xMtql                0.595459              0.683189   \nEnFOUv0YK1RG                0.293088              0.148529   \n\n                198throw_199thcolumn  \nparticipant_id                        \nCfwaf5FX7jWK                0.555732  \nvhGrzmvA3Hjq                0.350027  \nULliyEXjy4OV                0.750987  \nLZfeAb1xMtql                0.542296  \nEnFOUv0YK1RG                0.539823  \n\n[5 rows x 19900 columns]",
      "text/html": "<div>\n<style scoped>\n    .dataframe tbody tr th:only-of-type {\n        vertical-align: middle;\n    }\n\n    .dataframe tbody tr th {\n        vertical-align: top;\n    }\n\n    .dataframe thead th {\n        text-align: right;\n    }\n</style>\n<table border=\"1\" class=\"dataframe\">\n  <thead>\n    <tr style=\"text-align: right;\">\n      <th></th>\n      <th>0throw_1thcolumn</th>\n      <th>0throw_2thcolumn</th>\n      <th>0throw_3thcolumn</th>\n      <th>0throw_4thcolumn</th>\n      <th>0throw_5thcolumn</th>\n      <th>0throw_6thcolumn</th>\n      <th>0throw_7thcolumn</th>\n      <th>0throw_8thcolumn</th>\n      <th>0throw_9thcolumn</th>\n      <th>0throw_10thcolumn</th>\n      <th>...</th>\n      <th>195throw_196thcolumn</th>\n      <th>195throw_197thcolumn</th>\n      <th>195throw_198thcolumn</th>\n      <th>195throw_199thcolumn</th>\n      <th>196throw_197thcolumn</th>\n      <th>196throw_198thcolumn</th>\n      <th>196throw_199thcolumn</th>\n      <th>197throw_198thcolumn</th>\n      <th>197throw_199thcolumn</th>\n      <th>198throw_199thcolumn</th>\n    </tr>\n    <tr>\n      <th>participant_id</th>\n      <th></th>\n      <th></th>\n      <th></th>\n      <th></th>\n      <th></th>\n      <th></th>\n      <th></th>\n      <th></th>\n      <th></th>\n      <th></th>\n      <th></th>\n      <th></th>\n      <th></th>\n      <th></th>\n      <th></th>\n      <th></th>\n      <th></th>\n      <th></th>\n      <th></th>\n      <th></th>\n      <th></th>\n    </tr>\n  </thead>\n  <tbody>\n    <tr>\n      <th>Cfwaf5FX7jWK</th>\n      <td>0.548480</td>\n      <td>0.713607</td>\n      <td>0.557319</td>\n      <td>0.524369</td>\n      <td>0.693364</td>\n      <td>0.770032</td>\n      <td>0.724406</td>\n      <td>0.390118</td>\n      <td>0.547912</td>\n      <td>0.470220</td>\n      <td>...</td>\n      <td>0.080423</td>\n      <td>-0.054581</td>\n      <td>-0.088163</td>\n      <td>-0.028574</td>\n      <td>0.444847</td>\n      <td>0.350149</td>\n      <td>-0.012601</td>\n      <td>0.665750</td>\n      <td>0.560565</td>\n      <td>0.555732</td>\n    </tr>\n    <tr>\n      <th>vhGrzmvA3Hjq</th>\n      <td>0.427740</td>\n      <td>0.363022</td>\n      <td>0.402862</td>\n      <td>0.363003</td>\n      <td>0.534558</td>\n      <td>0.345347</td>\n      <td>0.409471</td>\n      <td>0.303328</td>\n      <td>0.402515</td>\n      <td>0.275052</td>\n      <td>...</td>\n      <td>0.198009</td>\n      <td>-0.000724</td>\n      <td>0.083122</td>\n      <td>0.033043</td>\n      <td>0.687497</td>\n      <td>0.306229</td>\n      <td>0.717485</td>\n      <td>0.461809</td>\n      <td>0.559632</td>\n      <td>0.350027</td>\n    </tr>\n    <tr>\n      <th>ULliyEXjy4OV</th>\n      <td>0.139572</td>\n      <td>0.390106</td>\n      <td>-0.087041</td>\n      <td>0.196852</td>\n      <td>0.088148</td>\n      <td>0.023843</td>\n      <td>0.381782</td>\n      <td>0.068979</td>\n      <td>0.377488</td>\n      <td>0.301871</td>\n      <td>...</td>\n      <td>0.051319</td>\n      <td>0.023630</td>\n      <td>-0.056819</td>\n      <td>0.117396</td>\n      <td>0.576086</td>\n      <td>0.517831</td>\n      <td>0.527044</td>\n      <td>0.605038</td>\n      <td>0.609856</td>\n      <td>0.750987</td>\n    </tr>\n    <tr>\n      <th>LZfeAb1xMtql</th>\n      <td>0.133561</td>\n      <td>0.778326</td>\n      <td>0.416355</td>\n      <td>0.471840</td>\n      <td>0.568460</td>\n      <td>0.633660</td>\n      <td>0.501113</td>\n      <td>0.345461</td>\n      <td>0.467943</td>\n      <td>0.417308</td>\n      <td>...</td>\n      <td>0.046183</td>\n      <td>-0.238962</td>\n      <td>0.121868</td>\n      <td>-0.260970</td>\n      <td>0.646818</td>\n      <td>0.594902</td>\n      <td>0.608156</td>\n      <td>0.595459</td>\n      <td>0.683189</td>\n      <td>0.542296</td>\n    </tr>\n    <tr>\n      <th>EnFOUv0YK1RG</th>\n      <td>0.126699</td>\n      <td>0.575446</td>\n      <td>0.509422</td>\n      <td>0.363193</td>\n      <td>0.427544</td>\n      <td>0.449924</td>\n      <td>0.451796</td>\n      <td>0.223927</td>\n      <td>0.298248</td>\n      <td>0.304429</td>\n      <td>...</td>\n      <td>0.315734</td>\n      <td>0.002234</td>\n      <td>0.290791</td>\n      <td>0.344149</td>\n      <td>0.480214</td>\n      <td>0.539824</td>\n      <td>0.447322</td>\n      <td>0.293088</td>\n      <td>0.148529</td>\n      <td>0.539823</td>\n    </tr>\n  </tbody>\n</table>\n<p>5 rows × 19900 columns</p>\n</div>"
     },
     "execution_count": 3,
     "metadata": {},
     "output_type": "execute_result"
    }
   ],
   "source": [
    "test_func.head()\n",
    "# train_func.head()\n",
    "# train_quant.head()\n",
    "# train_soln.head()"
   ],
   "metadata": {
    "collapsed": false,
    "ExecuteTime": {
     "end_time": "2025-04-27T21:51:34.623036Z",
     "start_time": "2025-04-27T21:51:34.585448Z"
    }
   },
   "id": "fd5a7b91f88e16c7",
   "execution_count": 3
  },
  {
   "cell_type": "markdown",
   "id": "406df64c16f6625a",
   "metadata": {
    "collapsed": false
   },
   "source": [
    "## PCA for the functional connectome matrix to reduce dimension"
   ]
  },
  {
   "cell_type": "code",
   "execution_count": 4,
   "id": "ac7849a1151a7af0",
   "metadata": {
    "ExecuteTime": {
     "end_time": "2025-04-27T21:51:56.465954Z",
     "start_time": "2025-04-27T21:51:40.225503Z"
    }
   },
   "outputs": [
    {
     "data": {
      "text/plain": "                fmri_pca_1  fmri_pca_2  fmri_pca_3  fmri_pca_4  fmri_pca_5  \\\nparticipant_id                                                               \n70z8Q2xdTXM3      6.322800   -0.365680   -4.918161   -3.823232   -5.706920   \nWHWymJu6zNZi      5.468294   -3.985252    1.542399    0.104717   -0.529033   \n4PAQp1M6EyAo      0.447190    0.733000    3.051331    1.763902    1.932819   \nobEacy4Of68I     -9.149799   -2.044626    0.519359   -2.703922   -4.444127   \ns7WzzDcmDOhF      0.812814   -1.933265    1.834524    0.383157   -0.512341   \n\n                fmri_pca_6  fmri_pca_7  fmri_pca_8  fmri_pca_9  fmri_pca_10  \\\nparticipant_id                                                                \n70z8Q2xdTXM3     -0.875162    1.567523   -1.347518   -1.717427     1.626777   \nWHWymJu6zNZi     -2.951971    0.786361    0.794939   -2.772054    -2.408742   \n4PAQp1M6EyAo      6.451160   -3.356867    1.946047   -1.165669    -2.876914   \nobEacy4Of68I      2.916929    1.036385    0.080352   -0.148121     0.384170   \ns7WzzDcmDOhF      2.972215    3.151071    3.419853    0.283723    -2.997841   \n\n                ...  fmri_pca_41  fmri_pca_42  fmri_pca_43  fmri_pca_44  \\\nparticipant_id  ...                                                       \n70z8Q2xdTXM3    ...    -0.700429     1.121223     0.806392     0.487863   \nWHWymJu6zNZi    ...    -1.317848    -0.099000    -0.702003    -0.529044   \n4PAQp1M6EyAo    ...     2.705387    -0.852947     1.701029     0.686384   \nobEacy4Of68I    ...     0.395511     1.584922     1.185720    -0.410873   \ns7WzzDcmDOhF    ...    -2.318394     2.920521    -1.609283    -0.852692   \n\n                fmri_pca_45  fmri_pca_46  fmri_pca_47  fmri_pca_48  \\\nparticipant_id                                                       \n70z8Q2xdTXM3      -1.078968     4.874758     1.000130     0.497940   \nWHWymJu6zNZi       1.634401    -0.246858    -0.448421    -1.545799   \n4PAQp1M6EyAo      -0.031653     1.806995     0.973496    -1.922737   \nobEacy4Of68I       1.216775    -0.065100     0.721908    -0.158146   \ns7WzzDcmDOhF      -0.133424    -1.059160     1.188180    -0.155662   \n\n                fmri_pca_49  fmri_pca_50  \nparticipant_id                            \n70z8Q2xdTXM3      -1.314523    -0.334021  \nWHWymJu6zNZi       0.016255    -0.905541  \n4PAQp1M6EyAo       0.069176    -2.304174  \nobEacy4Of68I       0.247976    -2.405702  \ns7WzzDcmDOhF       2.718990     0.827381  \n\n[5 rows x 50 columns]",
      "text/html": "<div>\n<style scoped>\n    .dataframe tbody tr th:only-of-type {\n        vertical-align: middle;\n    }\n\n    .dataframe tbody tr th {\n        vertical-align: top;\n    }\n\n    .dataframe thead th {\n        text-align: right;\n    }\n</style>\n<table border=\"1\" class=\"dataframe\">\n  <thead>\n    <tr style=\"text-align: right;\">\n      <th></th>\n      <th>fmri_pca_1</th>\n      <th>fmri_pca_2</th>\n      <th>fmri_pca_3</th>\n      <th>fmri_pca_4</th>\n      <th>fmri_pca_5</th>\n      <th>fmri_pca_6</th>\n      <th>fmri_pca_7</th>\n      <th>fmri_pca_8</th>\n      <th>fmri_pca_9</th>\n      <th>fmri_pca_10</th>\n      <th>...</th>\n      <th>fmri_pca_41</th>\n      <th>fmri_pca_42</th>\n      <th>fmri_pca_43</th>\n      <th>fmri_pca_44</th>\n      <th>fmri_pca_45</th>\n      <th>fmri_pca_46</th>\n      <th>fmri_pca_47</th>\n      <th>fmri_pca_48</th>\n      <th>fmri_pca_49</th>\n      <th>fmri_pca_50</th>\n    </tr>\n    <tr>\n      <th>participant_id</th>\n      <th></th>\n      <th></th>\n      <th></th>\n      <th></th>\n      <th></th>\n      <th></th>\n      <th></th>\n      <th></th>\n      <th></th>\n      <th></th>\n      <th></th>\n      <th></th>\n      <th></th>\n      <th></th>\n      <th></th>\n      <th></th>\n      <th></th>\n      <th></th>\n      <th></th>\n      <th></th>\n      <th></th>\n    </tr>\n  </thead>\n  <tbody>\n    <tr>\n      <th>70z8Q2xdTXM3</th>\n      <td>6.322800</td>\n      <td>-0.365680</td>\n      <td>-4.918161</td>\n      <td>-3.823232</td>\n      <td>-5.706920</td>\n      <td>-0.875162</td>\n      <td>1.567523</td>\n      <td>-1.347518</td>\n      <td>-1.717427</td>\n      <td>1.626777</td>\n      <td>...</td>\n      <td>-0.700429</td>\n      <td>1.121223</td>\n      <td>0.806392</td>\n      <td>0.487863</td>\n      <td>-1.078968</td>\n      <td>4.874758</td>\n      <td>1.000130</td>\n      <td>0.497940</td>\n      <td>-1.314523</td>\n      <td>-0.334021</td>\n    </tr>\n    <tr>\n      <th>WHWymJu6zNZi</th>\n      <td>5.468294</td>\n      <td>-3.985252</td>\n      <td>1.542399</td>\n      <td>0.104717</td>\n      <td>-0.529033</td>\n      <td>-2.951971</td>\n      <td>0.786361</td>\n      <td>0.794939</td>\n      <td>-2.772054</td>\n      <td>-2.408742</td>\n      <td>...</td>\n      <td>-1.317848</td>\n      <td>-0.099000</td>\n      <td>-0.702003</td>\n      <td>-0.529044</td>\n      <td>1.634401</td>\n      <td>-0.246858</td>\n      <td>-0.448421</td>\n      <td>-1.545799</td>\n      <td>0.016255</td>\n      <td>-0.905541</td>\n    </tr>\n    <tr>\n      <th>4PAQp1M6EyAo</th>\n      <td>0.447190</td>\n      <td>0.733000</td>\n      <td>3.051331</td>\n      <td>1.763902</td>\n      <td>1.932819</td>\n      <td>6.451160</td>\n      <td>-3.356867</td>\n      <td>1.946047</td>\n      <td>-1.165669</td>\n      <td>-2.876914</td>\n      <td>...</td>\n      <td>2.705387</td>\n      <td>-0.852947</td>\n      <td>1.701029</td>\n      <td>0.686384</td>\n      <td>-0.031653</td>\n      <td>1.806995</td>\n      <td>0.973496</td>\n      <td>-1.922737</td>\n      <td>0.069176</td>\n      <td>-2.304174</td>\n    </tr>\n    <tr>\n      <th>obEacy4Of68I</th>\n      <td>-9.149799</td>\n      <td>-2.044626</td>\n      <td>0.519359</td>\n      <td>-2.703922</td>\n      <td>-4.444127</td>\n      <td>2.916929</td>\n      <td>1.036385</td>\n      <td>0.080352</td>\n      <td>-0.148121</td>\n      <td>0.384170</td>\n      <td>...</td>\n      <td>0.395511</td>\n      <td>1.584922</td>\n      <td>1.185720</td>\n      <td>-0.410873</td>\n      <td>1.216775</td>\n      <td>-0.065100</td>\n      <td>0.721908</td>\n      <td>-0.158146</td>\n      <td>0.247976</td>\n      <td>-2.405702</td>\n    </tr>\n    <tr>\n      <th>s7WzzDcmDOhF</th>\n      <td>0.812814</td>\n      <td>-1.933265</td>\n      <td>1.834524</td>\n      <td>0.383157</td>\n      <td>-0.512341</td>\n      <td>2.972215</td>\n      <td>3.151071</td>\n      <td>3.419853</td>\n      <td>0.283723</td>\n      <td>-2.997841</td>\n      <td>...</td>\n      <td>-2.318394</td>\n      <td>2.920521</td>\n      <td>-1.609283</td>\n      <td>-0.852692</td>\n      <td>-0.133424</td>\n      <td>-1.059160</td>\n      <td>1.188180</td>\n      <td>-0.155662</td>\n      <td>2.718990</td>\n      <td>0.827381</td>\n    </tr>\n  </tbody>\n</table>\n<p>5 rows × 50 columns</p>\n</div>"
     },
     "execution_count": 4,
     "metadata": {},
     "output_type": "execute_result"
    }
   ],
   "source": [
    "from sklearn.decomposition import PCA\n",
    "\n",
    "# Select only fMRI columns\n",
    "fmri_data = train_func.drop(columns=['participant_id'], errors='ignore')\n",
    "fmri_data_test = test_func.drop(columns=['participant_id'], errors='ignore')\n",
    "\n",
    "# Apply PCA to reduce to top N components (e.g. 50)\n",
    "pca = PCA(n_components=50)\n",
    "fmri_pca = pca.fit_transform(fmri_data)\n",
    "fmri_pca_test = pca.fit_transform(fmri_data_test)\n",
    "\n",
    "train_func_pca = pd.DataFrame(fmri_pca, index=train_func.index,\n",
    "                           columns=[f'fmri_pca_{i}' for i in range(1, 51)])\n",
    "test_func_pca = pd.DataFrame(fmri_pca_test, index=test_func.index,\n",
    "                           columns=[f'fmri_pca_{i}' for i in range(1, 51)])\n",
    "train_func_pca.head()"
   ]
  },
  {
   "cell_type": "code",
   "outputs": [
    {
     "data": {
      "text/plain": "                fmri_pca_1  fmri_pca_2  fmri_pca_3  fmri_pca_4  fmri_pca_5  \\\nparticipant_id                                                               \nCfwaf5FX7jWK     -0.241573    0.798620   -3.338365   -2.945730    0.935485   \nvhGrzmvA3Hjq     -6.393446   -2.606063   -1.673228   -4.574098    2.661956   \nULliyEXjy4OV     -1.601297    0.157037    0.352906    6.263209   -2.054009   \nLZfeAb1xMtql     -1.571668   -2.720598   -2.393926    0.868357    0.737472   \nEnFOUv0YK1RG      2.889024   -1.047001   -2.082233   -0.431934   -2.277369   \n\n                fmri_pca_6  fmri_pca_7  fmri_pca_8  fmri_pca_9  fmri_pca_10  \\\nparticipant_id                                                                \nCfwaf5FX7jWK      2.380042   -2.108530    0.727716   -1.825227    -2.339715   \nvhGrzmvA3Hjq     -2.814177   -0.420013    0.547968    0.260094    -2.889240   \nULliyEXjy4OV     -1.135146    2.228638   -0.690495    2.496552    -0.638298   \nLZfeAb1xMtql     -0.501450    2.458480   -0.002225    0.104631    -1.108050   \nEnFOUv0YK1RG     -1.308704   -0.252739    0.279537    1.585714     0.285816   \n\n                ...  fmri_pca_41  fmri_pca_42  fmri_pca_43  fmri_pca_44  \\\nparticipant_id  ...                                                       \nCfwaf5FX7jWK    ...     0.180244    -1.594318    -0.774946    -1.808223   \nvhGrzmvA3Hjq    ...    -0.308447     0.014417    -1.092795     1.585590   \nULliyEXjy4OV    ...    -0.434658     0.298066    -1.775209    -0.597397   \nLZfeAb1xMtql    ...    -1.315546     0.578891    -0.388128     0.442122   \nEnFOUv0YK1RG    ...     0.260851    -0.449771     0.748327     0.389085   \n\n                fmri_pca_45  fmri_pca_46  fmri_pca_47  fmri_pca_48  \\\nparticipant_id                                                       \nCfwaf5FX7jWK       0.611929    -4.189920     1.562126     0.011852   \nvhGrzmvA3Hjq      -2.695314     3.748906     1.680684    -0.173057   \nULliyEXjy4OV       0.671241    -1.105910     0.044946    -0.193182   \nLZfeAb1xMtql       0.001584    -0.590576     1.628386     0.423327   \nEnFOUv0YK1RG       0.948853     2.090336     2.259653    -1.170112   \n\n                fmri_pca_49  fmri_pca_50  \nparticipant_id                            \nCfwaf5FX7jWK       3.471165     2.008843  \nvhGrzmvA3Hjq      -0.311072    -0.324432  \nULliyEXjy4OV      -1.217737     3.561735  \nLZfeAb1xMtql      -1.035141     1.569984  \nEnFOUv0YK1RG      -2.119113    -1.464002  \n\n[5 rows x 50 columns]",
      "text/html": "<div>\n<style scoped>\n    .dataframe tbody tr th:only-of-type {\n        vertical-align: middle;\n    }\n\n    .dataframe tbody tr th {\n        vertical-align: top;\n    }\n\n    .dataframe thead th {\n        text-align: right;\n    }\n</style>\n<table border=\"1\" class=\"dataframe\">\n  <thead>\n    <tr style=\"text-align: right;\">\n      <th></th>\n      <th>fmri_pca_1</th>\n      <th>fmri_pca_2</th>\n      <th>fmri_pca_3</th>\n      <th>fmri_pca_4</th>\n      <th>fmri_pca_5</th>\n      <th>fmri_pca_6</th>\n      <th>fmri_pca_7</th>\n      <th>fmri_pca_8</th>\n      <th>fmri_pca_9</th>\n      <th>fmri_pca_10</th>\n      <th>...</th>\n      <th>fmri_pca_41</th>\n      <th>fmri_pca_42</th>\n      <th>fmri_pca_43</th>\n      <th>fmri_pca_44</th>\n      <th>fmri_pca_45</th>\n      <th>fmri_pca_46</th>\n      <th>fmri_pca_47</th>\n      <th>fmri_pca_48</th>\n      <th>fmri_pca_49</th>\n      <th>fmri_pca_50</th>\n    </tr>\n    <tr>\n      <th>participant_id</th>\n      <th></th>\n      <th></th>\n      <th></th>\n      <th></th>\n      <th></th>\n      <th></th>\n      <th></th>\n      <th></th>\n      <th></th>\n      <th></th>\n      <th></th>\n      <th></th>\n      <th></th>\n      <th></th>\n      <th></th>\n      <th></th>\n      <th></th>\n      <th></th>\n      <th></th>\n      <th></th>\n      <th></th>\n    </tr>\n  </thead>\n  <tbody>\n    <tr>\n      <th>Cfwaf5FX7jWK</th>\n      <td>-0.241573</td>\n      <td>0.798620</td>\n      <td>-3.338365</td>\n      <td>-2.945730</td>\n      <td>0.935485</td>\n      <td>2.380042</td>\n      <td>-2.108530</td>\n      <td>0.727716</td>\n      <td>-1.825227</td>\n      <td>-2.339715</td>\n      <td>...</td>\n      <td>0.180244</td>\n      <td>-1.594318</td>\n      <td>-0.774946</td>\n      <td>-1.808223</td>\n      <td>0.611929</td>\n      <td>-4.189920</td>\n      <td>1.562126</td>\n      <td>0.011852</td>\n      <td>3.471165</td>\n      <td>2.008843</td>\n    </tr>\n    <tr>\n      <th>vhGrzmvA3Hjq</th>\n      <td>-6.393446</td>\n      <td>-2.606063</td>\n      <td>-1.673228</td>\n      <td>-4.574098</td>\n      <td>2.661956</td>\n      <td>-2.814177</td>\n      <td>-0.420013</td>\n      <td>0.547968</td>\n      <td>0.260094</td>\n      <td>-2.889240</td>\n      <td>...</td>\n      <td>-0.308447</td>\n      <td>0.014417</td>\n      <td>-1.092795</td>\n      <td>1.585590</td>\n      <td>-2.695314</td>\n      <td>3.748906</td>\n      <td>1.680684</td>\n      <td>-0.173057</td>\n      <td>-0.311072</td>\n      <td>-0.324432</td>\n    </tr>\n    <tr>\n      <th>ULliyEXjy4OV</th>\n      <td>-1.601297</td>\n      <td>0.157037</td>\n      <td>0.352906</td>\n      <td>6.263209</td>\n      <td>-2.054009</td>\n      <td>-1.135146</td>\n      <td>2.228638</td>\n      <td>-0.690495</td>\n      <td>2.496552</td>\n      <td>-0.638298</td>\n      <td>...</td>\n      <td>-0.434658</td>\n      <td>0.298066</td>\n      <td>-1.775209</td>\n      <td>-0.597397</td>\n      <td>0.671241</td>\n      <td>-1.105910</td>\n      <td>0.044946</td>\n      <td>-0.193182</td>\n      <td>-1.217737</td>\n      <td>3.561735</td>\n    </tr>\n    <tr>\n      <th>LZfeAb1xMtql</th>\n      <td>-1.571668</td>\n      <td>-2.720598</td>\n      <td>-2.393926</td>\n      <td>0.868357</td>\n      <td>0.737472</td>\n      <td>-0.501450</td>\n      <td>2.458480</td>\n      <td>-0.002225</td>\n      <td>0.104631</td>\n      <td>-1.108050</td>\n      <td>...</td>\n      <td>-1.315546</td>\n      <td>0.578891</td>\n      <td>-0.388128</td>\n      <td>0.442122</td>\n      <td>0.001584</td>\n      <td>-0.590576</td>\n      <td>1.628386</td>\n      <td>0.423327</td>\n      <td>-1.035141</td>\n      <td>1.569984</td>\n    </tr>\n    <tr>\n      <th>EnFOUv0YK1RG</th>\n      <td>2.889024</td>\n      <td>-1.047001</td>\n      <td>-2.082233</td>\n      <td>-0.431934</td>\n      <td>-2.277369</td>\n      <td>-1.308704</td>\n      <td>-0.252739</td>\n      <td>0.279537</td>\n      <td>1.585714</td>\n      <td>0.285816</td>\n      <td>...</td>\n      <td>0.260851</td>\n      <td>-0.449771</td>\n      <td>0.748327</td>\n      <td>0.389085</td>\n      <td>0.948853</td>\n      <td>2.090336</td>\n      <td>2.259653</td>\n      <td>-1.170112</td>\n      <td>-2.119113</td>\n      <td>-1.464002</td>\n    </tr>\n  </tbody>\n</table>\n<p>5 rows × 50 columns</p>\n</div>"
     },
     "execution_count": 77,
     "metadata": {},
     "output_type": "execute_result"
    }
   ],
   "source": [
    "test_func_pca.head()"
   ],
   "metadata": {
    "collapsed": false,
    "ExecuteTime": {
     "end_time": "2025-04-27T21:02:52.341968Z",
     "start_time": "2025-04-27T21:02:52.336832Z"
    }
   },
   "id": "b0111f0e1637444e",
   "execution_count": 77
  },
  {
   "cell_type": "markdown",
   "id": "f9a5a24f4a19a842",
   "metadata": {
    "collapsed": false
   },
   "source": [
    "## Interpolate missing values with mean for quant and cat dfs"
   ]
  },
  {
   "cell_type": "code",
   "execution_count": 5,
   "id": "ea3161a9934e682c",
   "metadata": {
    "ExecuteTime": {
     "end_time": "2025-04-27T21:52:45.996173Z",
     "start_time": "2025-04-27T21:52:45.842257Z"
    }
   },
   "outputs": [
    {
     "name": "stdout",
     "output_type": "stream",
     "text": [
      "Using regression to impute 'MRI_Track_Age_at_Scan' in train_quant\n",
      "Using regression to impute 'PreInt_Demos_Fam_Child_Race' in train_cat\n",
      "Using regression to impute 'Barratt_Barratt_P2_Edu' in train_cat\n",
      "Using regression to impute 'Barratt_Barratt_P2_Occ' in train_cat\n"
     ]
    }
   ],
   "source": [
    "from sklearn.linear_model import LinearRegression\n",
    "from sklearn.impute import SimpleImputer\n",
    "\n",
    "def impute_with_regression(df, target_col):\n",
    "    \"\"\"Impute missing values in target_col of df using linear regression.\"\"\"\n",
    "    df = df.copy()\n",
    "    train_df = df.dropna(subset=[target_col])\n",
    "    if train_df.empty:\n",
    "        return df  # skip if no data to train on\n",
    "    X_train = train_df.drop(columns=[target_col])\n",
    "    y_train = train_df[target_col]\n",
    "    X_train_imp = SimpleImputer(strategy='mean').fit_transform(X_train)\n",
    "    reg = LinearRegression().fit(X_train_imp, y_train)\n",
    "\n",
    "    missing_mask = df[target_col].isna()\n",
    "    X_missing = df.loc[missing_mask].drop(columns=[target_col])\n",
    "    X_missing_imp = SimpleImputer(strategy='mean').fit_transform(X_missing)\n",
    "    df.loc[missing_mask, target_col] = reg.predict(X_missing_imp)\n",
    "    return df\n",
    "\n",
    "# Function to process any dataframe (quant or cat)\n",
    "def process_df(df, name='df'):\n",
    "    missing = df.isnull().sum()\n",
    "    for col in missing[missing > 0].index:\n",
    "        if missing[col] < 50:\n",
    "            df[col] = df[col].fillna(df[col].mean())\n",
    "        else:\n",
    "            print(f\"Using regression to impute '{col}' in {name}\")\n",
    "            df = impute_with_regression(df, col)\n",
    "    return df\n",
    "\n",
    "# Apply to all four\n",
    "train_quant = process_df(train_quant, 'train_quant')\n",
    "train_cat = process_df(train_cat, 'train_cat')\n",
    "test_quant = process_df(test_quant, 'test_quant')\n",
    "test_cat = process_df(test_cat, 'test_cat')"
   ]
  },
  {
   "cell_type": "code",
   "execution_count": 6,
   "id": "2138a83a91362272",
   "metadata": {
    "ExecuteTime": {
     "end_time": "2025-04-27T21:52:48.728944Z",
     "start_time": "2025-04-27T21:52:48.715259Z"
    }
   },
   "outputs": [
    {
     "name": "stdout",
     "output_type": "stream",
     "text": [
      "Missing values in train_quant:\n",
      " Series([], dtype: int64)\n"
     ]
    }
   ],
   "source": [
    "# Check missing values *before* merging\n",
    "missing = test_cat.isnull().sum()\n",
    "print(\"Missing values in train_quant:\\n\", missing[missing > 0])"
   ]
  },
  {
   "cell_type": "code",
   "outputs": [
    {
     "data": {
      "text/plain": "                EHQ_EHQ_Total  ColorVision_CV_Score  APQ_P_APQ_P_CP  \\\nparticipant_id                                                        \n00aIpNTbG5uh           100.00                  13.0             3.0   \n00fV0OyyoLfw            92.27                  14.0             3.0   \n04X1eiS79T4B            86.67                  14.0             3.0   \n05ocQutkURd6            93.34                  14.0             3.0   \n06YUNBA9ZRLq             0.00                  14.0             8.0   \n\n                APQ_P_APQ_P_ID  APQ_P_APQ_P_INV  APQ_P_APQ_P_OPD  \\\nparticipant_id                                                     \n00aIpNTbG5uh              15.0             44.0             14.0   \n00fV0OyyoLfw              12.0             35.0             25.0   \n04X1eiS79T4B              21.0             37.0             18.0   \n05ocQutkURd6              11.0             42.0             15.0   \n06YUNBA9ZRLq              12.0             35.0             22.0   \n\n                APQ_P_APQ_P_PM  APQ_P_APQ_P_PP  SDQ_SDQ_Conduct_Problems  \\\nparticipant_id                                                             \n00aIpNTbG5uh              20.0            27.0                       3.0   \n00fV0OyyoLfw              28.0            30.0                       5.0   \n04X1eiS79T4B              26.0            28.0                       3.0   \n05ocQutkURd6              20.0            28.0                       0.0   \n06YUNBA9ZRLq              12.0            24.0                       6.0   \n\n                SDQ_SDQ_Difficulties_Total  SDQ_SDQ_Emotional_Problems  \\\nparticipant_id                                                           \n00aIpNTbG5uh                          17.0                         4.0   \n00fV0OyyoLfw                          20.0                         4.0   \n04X1eiS79T4B                          24.0                         7.0   \n05ocQutkURd6                           5.0                         0.0   \n06YUNBA9ZRLq                          23.0                         7.0   \n\n                SDQ_SDQ_Externalizing  SDQ_SDQ_Generating_Impact  \\\nparticipant_id                                                     \n00aIpNTbG5uh                     11.0                        5.0   \n00fV0OyyoLfw                     13.0                        5.0   \n04X1eiS79T4B                     10.0                       10.0   \n05ocQutkURd6                      3.0                        0.0   \n06YUNBA9ZRLq                     15.0                        8.0   \n\n                SDQ_SDQ_Hyperactivity  SDQ_SDQ_Internalizing  \\\nparticipant_id                                                 \n00aIpNTbG5uh                      8.0                    6.0   \n00fV0OyyoLfw                      8.0                    7.0   \n04X1eiS79T4B                      7.0                   14.0   \n05ocQutkURd6                      3.0                    2.0   \n06YUNBA9ZRLq                      9.0                    8.0   \n\n                SDQ_SDQ_Peer_Problems  SDQ_SDQ_Prosocial  \\\nparticipant_id                                             \n00aIpNTbG5uh                      2.0                9.0   \n00fV0OyyoLfw                      3.0                8.0   \n04X1eiS79T4B                      7.0                7.0   \n05ocQutkURd6                      2.0                6.0   \n06YUNBA9ZRLq                      1.0                4.0   \n\n                MRI_Track_Age_at_Scan  \nparticipant_id                         \n00aIpNTbG5uh                14.274127  \n00fV0OyyoLfw                14.278626  \n04X1eiS79T4B                13.463381  \n05ocQutkURd6                 9.572553  \n06YUNBA9ZRLq                 6.654574  ",
      "text/html": "<div>\n<style scoped>\n    .dataframe tbody tr th:only-of-type {\n        vertical-align: middle;\n    }\n\n    .dataframe tbody tr th {\n        vertical-align: top;\n    }\n\n    .dataframe thead th {\n        text-align: right;\n    }\n</style>\n<table border=\"1\" class=\"dataframe\">\n  <thead>\n    <tr style=\"text-align: right;\">\n      <th></th>\n      <th>EHQ_EHQ_Total</th>\n      <th>ColorVision_CV_Score</th>\n      <th>APQ_P_APQ_P_CP</th>\n      <th>APQ_P_APQ_P_ID</th>\n      <th>APQ_P_APQ_P_INV</th>\n      <th>APQ_P_APQ_P_OPD</th>\n      <th>APQ_P_APQ_P_PM</th>\n      <th>APQ_P_APQ_P_PP</th>\n      <th>SDQ_SDQ_Conduct_Problems</th>\n      <th>SDQ_SDQ_Difficulties_Total</th>\n      <th>SDQ_SDQ_Emotional_Problems</th>\n      <th>SDQ_SDQ_Externalizing</th>\n      <th>SDQ_SDQ_Generating_Impact</th>\n      <th>SDQ_SDQ_Hyperactivity</th>\n      <th>SDQ_SDQ_Internalizing</th>\n      <th>SDQ_SDQ_Peer_Problems</th>\n      <th>SDQ_SDQ_Prosocial</th>\n      <th>MRI_Track_Age_at_Scan</th>\n    </tr>\n    <tr>\n      <th>participant_id</th>\n      <th></th>\n      <th></th>\n      <th></th>\n      <th></th>\n      <th></th>\n      <th></th>\n      <th></th>\n      <th></th>\n      <th></th>\n      <th></th>\n      <th></th>\n      <th></th>\n      <th></th>\n      <th></th>\n      <th></th>\n      <th></th>\n      <th></th>\n      <th></th>\n    </tr>\n  </thead>\n  <tbody>\n    <tr>\n      <th>00aIpNTbG5uh</th>\n      <td>100.00</td>\n      <td>13.0</td>\n      <td>3.0</td>\n      <td>15.0</td>\n      <td>44.0</td>\n      <td>14.0</td>\n      <td>20.0</td>\n      <td>27.0</td>\n      <td>3.0</td>\n      <td>17.0</td>\n      <td>4.0</td>\n      <td>11.0</td>\n      <td>5.0</td>\n      <td>8.0</td>\n      <td>6.0</td>\n      <td>2.0</td>\n      <td>9.0</td>\n      <td>14.274127</td>\n    </tr>\n    <tr>\n      <th>00fV0OyyoLfw</th>\n      <td>92.27</td>\n      <td>14.0</td>\n      <td>3.0</td>\n      <td>12.0</td>\n      <td>35.0</td>\n      <td>25.0</td>\n      <td>28.0</td>\n      <td>30.0</td>\n      <td>5.0</td>\n      <td>20.0</td>\n      <td>4.0</td>\n      <td>13.0</td>\n      <td>5.0</td>\n      <td>8.0</td>\n      <td>7.0</td>\n      <td>3.0</td>\n      <td>8.0</td>\n      <td>14.278626</td>\n    </tr>\n    <tr>\n      <th>04X1eiS79T4B</th>\n      <td>86.67</td>\n      <td>14.0</td>\n      <td>3.0</td>\n      <td>21.0</td>\n      <td>37.0</td>\n      <td>18.0</td>\n      <td>26.0</td>\n      <td>28.0</td>\n      <td>3.0</td>\n      <td>24.0</td>\n      <td>7.0</td>\n      <td>10.0</td>\n      <td>10.0</td>\n      <td>7.0</td>\n      <td>14.0</td>\n      <td>7.0</td>\n      <td>7.0</td>\n      <td>13.463381</td>\n    </tr>\n    <tr>\n      <th>05ocQutkURd6</th>\n      <td>93.34</td>\n      <td>14.0</td>\n      <td>3.0</td>\n      <td>11.0</td>\n      <td>42.0</td>\n      <td>15.0</td>\n      <td>20.0</td>\n      <td>28.0</td>\n      <td>0.0</td>\n      <td>5.0</td>\n      <td>0.0</td>\n      <td>3.0</td>\n      <td>0.0</td>\n      <td>3.0</td>\n      <td>2.0</td>\n      <td>2.0</td>\n      <td>6.0</td>\n      <td>9.572553</td>\n    </tr>\n    <tr>\n      <th>06YUNBA9ZRLq</th>\n      <td>0.00</td>\n      <td>14.0</td>\n      <td>8.0</td>\n      <td>12.0</td>\n      <td>35.0</td>\n      <td>22.0</td>\n      <td>12.0</td>\n      <td>24.0</td>\n      <td>6.0</td>\n      <td>23.0</td>\n      <td>7.0</td>\n      <td>15.0</td>\n      <td>8.0</td>\n      <td>9.0</td>\n      <td>8.0</td>\n      <td>1.0</td>\n      <td>4.0</td>\n      <td>6.654574</td>\n    </tr>\n  </tbody>\n</table>\n</div>"
     },
     "execution_count": 80,
     "metadata": {},
     "output_type": "execute_result"
    }
   ],
   "source": [
    "train_quant.head()"
   ],
   "metadata": {
    "collapsed": false,
    "ExecuteTime": {
     "end_time": "2025-04-27T21:02:52.643935Z",
     "start_time": "2025-04-27T21:02:52.525254Z"
    }
   },
   "id": "eb79b5c07ad49fd1",
   "execution_count": 80
  },
  {
   "cell_type": "code",
   "execution_count": 7,
   "id": "268e809ef085e969",
   "metadata": {
    "ExecuteTime": {
     "end_time": "2025-04-27T21:54:16.030805Z",
     "start_time": "2025-04-27T21:54:15.959213Z"
    }
   },
   "outputs": [
    {
     "data": {
      "text/plain": "                EHQ_EHQ_Total  ColorVision_CV_Score  APQ_P_APQ_P_CP  \\\nparticipant_id                                                        \nCfwaf5FX7jWK            60.03                  14.0             5.0   \nvhGrzmvA3Hjq            86.71                  12.0             3.0   \nULliyEXjy4OV            26.68                  13.0             3.0   \nLZfeAb1xMtql            93.38                  13.0             3.0   \nEnFOUv0YK1RG           -93.38                  14.0             3.0   \n\n                APQ_P_APQ_P_ID  APQ_P_APQ_P_INV  APQ_P_APQ_P_OPD  \\\nparticipant_id                                                     \nCfwaf5FX7jWK              16.0             41.0             19.0   \nvhGrzmvA3Hjq              13.0             43.0             18.0   \nULliyEXjy4OV              14.0             36.0             16.0   \nLZfeAb1xMtql              19.0             41.0             17.0   \nEnFOUv0YK1RG              13.0             42.0             19.0   \n\n                APQ_P_APQ_P_PM  APQ_P_APQ_P_PP  SDQ_SDQ_Conduct_Problems  \\\nparticipant_id                                                             \nCfwaf5FX7jWK              11.0            26.0                       2.0   \nvhGrzmvA3Hjq              15.0            28.0                       2.0   \nULliyEXjy4OV              14.0            25.0                       1.0   \nLZfeAb1xMtql              18.0            27.0                       4.0   \nEnFOUv0YK1RG              16.0            28.0                       2.0   \n\n                SDQ_SDQ_Difficulties_Total  ...  fmri_pca_41  fmri_pca_42  \\\nparticipant_id                              ...                             \nCfwaf5FX7jWK                          12.0  ...    -2.354827    -0.245859   \nvhGrzmvA3Hjq                          16.0  ...    -0.657587     0.792164   \nULliyEXjy4OV                           7.0  ...    -0.273305    -0.529575   \nLZfeAb1xMtql                          15.0  ...    -1.906388    -1.247441   \nEnFOUv0YK1RG                          18.0  ...    -0.532027     1.331892   \n\n                fmri_pca_43  fmri_pca_44  fmri_pca_45  fmri_pca_46  \\\nparticipant_id                                                       \nCfwaf5FX7jWK      -2.495723    -0.612933     0.316750     0.435766   \nvhGrzmvA3Hjq      -1.406735     3.491856     3.084778    -0.259822   \nULliyEXjy4OV      -1.577311    -0.063774     2.484738    -1.782543   \nLZfeAb1xMtql       0.946841    -0.119457     3.118051    -0.334814   \nEnFOUv0YK1RG      -1.102122     1.359646    -0.757888    -0.122841   \n\n                fmri_pca_47  fmri_pca_48  fmri_pca_49  fmri_pca_50  \nparticipant_id                                                      \nCfwaf5FX7jWK      -5.143142     1.376251    -0.692517    -0.919421  \nvhGrzmvA3Hjq       0.500463    -1.507016     1.506525    -0.459680  \nULliyEXjy4OV      -3.936662     0.881311     0.411183    -1.568857  \nLZfeAb1xMtql       0.302098    -0.204796     1.547164    -0.057709  \nEnFOUv0YK1RG       0.668749     0.207636     0.730948     1.833062  \n\n[5 rows x 77 columns]",
      "text/html": "<div>\n<style scoped>\n    .dataframe tbody tr th:only-of-type {\n        vertical-align: middle;\n    }\n\n    .dataframe tbody tr th {\n        vertical-align: top;\n    }\n\n    .dataframe thead th {\n        text-align: right;\n    }\n</style>\n<table border=\"1\" class=\"dataframe\">\n  <thead>\n    <tr style=\"text-align: right;\">\n      <th></th>\n      <th>EHQ_EHQ_Total</th>\n      <th>ColorVision_CV_Score</th>\n      <th>APQ_P_APQ_P_CP</th>\n      <th>APQ_P_APQ_P_ID</th>\n      <th>APQ_P_APQ_P_INV</th>\n      <th>APQ_P_APQ_P_OPD</th>\n      <th>APQ_P_APQ_P_PM</th>\n      <th>APQ_P_APQ_P_PP</th>\n      <th>SDQ_SDQ_Conduct_Problems</th>\n      <th>SDQ_SDQ_Difficulties_Total</th>\n      <th>...</th>\n      <th>fmri_pca_41</th>\n      <th>fmri_pca_42</th>\n      <th>fmri_pca_43</th>\n      <th>fmri_pca_44</th>\n      <th>fmri_pca_45</th>\n      <th>fmri_pca_46</th>\n      <th>fmri_pca_47</th>\n      <th>fmri_pca_48</th>\n      <th>fmri_pca_49</th>\n      <th>fmri_pca_50</th>\n    </tr>\n    <tr>\n      <th>participant_id</th>\n      <th></th>\n      <th></th>\n      <th></th>\n      <th></th>\n      <th></th>\n      <th></th>\n      <th></th>\n      <th></th>\n      <th></th>\n      <th></th>\n      <th></th>\n      <th></th>\n      <th></th>\n      <th></th>\n      <th></th>\n      <th></th>\n      <th></th>\n      <th></th>\n      <th></th>\n      <th></th>\n      <th></th>\n    </tr>\n  </thead>\n  <tbody>\n    <tr>\n      <th>Cfwaf5FX7jWK</th>\n      <td>60.03</td>\n      <td>14.0</td>\n      <td>5.0</td>\n      <td>16.0</td>\n      <td>41.0</td>\n      <td>19.0</td>\n      <td>11.0</td>\n      <td>26.0</td>\n      <td>2.0</td>\n      <td>12.0</td>\n      <td>...</td>\n      <td>-2.354827</td>\n      <td>-0.245859</td>\n      <td>-2.495723</td>\n      <td>-0.612933</td>\n      <td>0.316750</td>\n      <td>0.435766</td>\n      <td>-5.143142</td>\n      <td>1.376251</td>\n      <td>-0.692517</td>\n      <td>-0.919421</td>\n    </tr>\n    <tr>\n      <th>vhGrzmvA3Hjq</th>\n      <td>86.71</td>\n      <td>12.0</td>\n      <td>3.0</td>\n      <td>13.0</td>\n      <td>43.0</td>\n      <td>18.0</td>\n      <td>15.0</td>\n      <td>28.0</td>\n      <td>2.0</td>\n      <td>16.0</td>\n      <td>...</td>\n      <td>-0.657587</td>\n      <td>0.792164</td>\n      <td>-1.406735</td>\n      <td>3.491856</td>\n      <td>3.084778</td>\n      <td>-0.259822</td>\n      <td>0.500463</td>\n      <td>-1.507016</td>\n      <td>1.506525</td>\n      <td>-0.459680</td>\n    </tr>\n    <tr>\n      <th>ULliyEXjy4OV</th>\n      <td>26.68</td>\n      <td>13.0</td>\n      <td>3.0</td>\n      <td>14.0</td>\n      <td>36.0</td>\n      <td>16.0</td>\n      <td>14.0</td>\n      <td>25.0</td>\n      <td>1.0</td>\n      <td>7.0</td>\n      <td>...</td>\n      <td>-0.273305</td>\n      <td>-0.529575</td>\n      <td>-1.577311</td>\n      <td>-0.063774</td>\n      <td>2.484738</td>\n      <td>-1.782543</td>\n      <td>-3.936662</td>\n      <td>0.881311</td>\n      <td>0.411183</td>\n      <td>-1.568857</td>\n    </tr>\n    <tr>\n      <th>LZfeAb1xMtql</th>\n      <td>93.38</td>\n      <td>13.0</td>\n      <td>3.0</td>\n      <td>19.0</td>\n      <td>41.0</td>\n      <td>17.0</td>\n      <td>18.0</td>\n      <td>27.0</td>\n      <td>4.0</td>\n      <td>15.0</td>\n      <td>...</td>\n      <td>-1.906388</td>\n      <td>-1.247441</td>\n      <td>0.946841</td>\n      <td>-0.119457</td>\n      <td>3.118051</td>\n      <td>-0.334814</td>\n      <td>0.302098</td>\n      <td>-0.204796</td>\n      <td>1.547164</td>\n      <td>-0.057709</td>\n    </tr>\n    <tr>\n      <th>EnFOUv0YK1RG</th>\n      <td>-93.38</td>\n      <td>14.0</td>\n      <td>3.0</td>\n      <td>13.0</td>\n      <td>42.0</td>\n      <td>19.0</td>\n      <td>16.0</td>\n      <td>28.0</td>\n      <td>2.0</td>\n      <td>18.0</td>\n      <td>...</td>\n      <td>-0.532027</td>\n      <td>1.331892</td>\n      <td>-1.102122</td>\n      <td>1.359646</td>\n      <td>-0.757888</td>\n      <td>-0.122841</td>\n      <td>0.668749</td>\n      <td>0.207636</td>\n      <td>0.730948</td>\n      <td>1.833062</td>\n    </tr>\n  </tbody>\n</table>\n<p>5 rows × 77 columns</p>\n</div>"
     },
     "execution_count": 7,
     "metadata": {},
     "output_type": "execute_result"
    }
   ],
   "source": [
    "# make participant_id a column\n",
    "train_quant = train_quant.reset_index()\n",
    "train_cat = train_cat.reset_index()\n",
    "train_soln = train_soln.reset_index()\n",
    "test_quant = test_quant.reset_index()\n",
    "test_cat = test_cat.reset_index()\n",
    "\n",
    "# Merge everything on participant_id\n",
    "X_full = train_quant.merge(train_cat, on='participant_id').merge(train_func_pca, on='participant_id')\n",
    "X_full_test = test_quant.merge(test_cat, on='participant_id').merge(test_func_pca, on='participant_id')\n",
    "\n",
    "# Target labels for model training\n",
    "y = train_soln[['participant_id', 'ADHD_Outcome', 'Sex_F']]\n",
    "\n",
    "# Align rows across X and y\n",
    "X_full = X_full.merge(y, on='participant_id')\n",
    "X_full = X_full.drop(columns=['ADHD_Outcome', 'Sex_F'])\n",
    "X_full.set_index(\"participant_id\", inplace=True)\n",
    "X_full_test.set_index(\"participant_id\", inplace=True)\n",
    "X_full_test.head()"
   ]
  },
  {
   "cell_type": "code",
   "outputs": [
    {
     "data": {
      "text/plain": "  participant_id  ADHD_Outcome  Sex_F\n0   UmrK0vMLopoR             1      1\n1   CPaeQkhcjg7d             1      0\n2   Nb4EetVPm3gs             1      0\n3   p4vPhVu91o4b             1      1\n4   M09PXs7arQ5E             1      1",
      "text/html": "<div>\n<style scoped>\n    .dataframe tbody tr th:only-of-type {\n        vertical-align: middle;\n    }\n\n    .dataframe tbody tr th {\n        vertical-align: top;\n    }\n\n    .dataframe thead th {\n        text-align: right;\n    }\n</style>\n<table border=\"1\" class=\"dataframe\">\n  <thead>\n    <tr style=\"text-align: right;\">\n      <th></th>\n      <th>participant_id</th>\n      <th>ADHD_Outcome</th>\n      <th>Sex_F</th>\n    </tr>\n  </thead>\n  <tbody>\n    <tr>\n      <th>0</th>\n      <td>UmrK0vMLopoR</td>\n      <td>1</td>\n      <td>1</td>\n    </tr>\n    <tr>\n      <th>1</th>\n      <td>CPaeQkhcjg7d</td>\n      <td>1</td>\n      <td>0</td>\n    </tr>\n    <tr>\n      <th>2</th>\n      <td>Nb4EetVPm3gs</td>\n      <td>1</td>\n      <td>0</td>\n    </tr>\n    <tr>\n      <th>3</th>\n      <td>p4vPhVu91o4b</td>\n      <td>1</td>\n      <td>1</td>\n    </tr>\n    <tr>\n      <th>4</th>\n      <td>M09PXs7arQ5E</td>\n      <td>1</td>\n      <td>1</td>\n    </tr>\n  </tbody>\n</table>\n</div>"
     },
     "execution_count": 18,
     "metadata": {},
     "output_type": "execute_result"
    }
   ],
   "source": [
    "train_soln.head()"
   ],
   "metadata": {
    "collapsed": false,
    "ExecuteTime": {
     "end_time": "2025-04-27T22:13:25.354479Z",
     "start_time": "2025-04-27T22:13:25.352777Z"
    }
   },
   "id": "f58db11d22eac418",
   "execution_count": 18
  },
  {
   "cell_type": "code",
   "outputs": [
    {
     "data": {
      "text/plain": "                EHQ_EHQ_Total  ColorVision_CV_Score  APQ_P_APQ_P_CP  \\\nparticipant_id                                                        \nCfwaf5FX7jWK         0.010418              0.277591        0.892293   \nvhGrzmvA3Hjq         0.549880             -0.678512       -0.619194   \nULliyEXjy4OV        -0.663909             -0.200460       -0.619194   \nLZfeAb1xMtql         0.684745             -0.200460       -0.619194   \nEnFOUv0YK1RG        -3.091485              0.277591       -0.619194   \n\n                APQ_P_APQ_P_ID  APQ_P_APQ_P_INV  APQ_P_APQ_P_OPD  \\\nparticipant_id                                                     \nCfwaf5FX7jWK          0.744989         0.254265         0.312612   \nvhGrzmvA3Hjq         -0.094347         0.666930         0.011048   \nULliyEXjy4OV          0.185432        -0.777397        -0.592079   \nLZfeAb1xMtql          1.584325         0.254265        -0.290515   \nEnFOUv0YK1RG         -0.094347         0.460597         0.312612   \n\n                APQ_P_APQ_P_PM  APQ_P_APQ_P_PP  SDQ_SDQ_Conduct_Problems  \\\nparticipant_id                                                             \nCfwaf5FX7jWK         -1.085593        0.165030                 -0.037104   \nvhGrzmvA3Hjq         -0.304174        0.823507                 -0.037104   \nULliyEXjy4OV         -0.499529       -0.164208                 -0.533472   \nLZfeAb1xMtql          0.281890        0.494269                  0.955631   \nEnFOUv0YK1RG         -0.108820        0.823507                 -0.037104   \n\n                SDQ_SDQ_Difficulties_Total  ...  fmri_pca_41  fmri_pca_42  \\\nparticipant_id                              ...                             \nCfwaf5FX7jWK                     -0.032888  ...    -1.519326    -0.159310   \nvhGrzmvA3Hjq                      0.583406  ...    -0.424273     0.513302   \nULliyEXjy4OV                     -0.803255  ...    -0.176335    -0.343151   \nLZfeAb1xMtql                      0.429333  ...    -1.229995    -0.808309   \nEnFOUv0YK1RG                      0.891553  ...    -0.343262     0.863032   \n\n                fmri_pca_43  fmri_pca_44  fmri_pca_45  fmri_pca_46  \\\nparticipant_id                                                       \nCfwaf5FX7jWK      -1.621435    -0.404216     0.212295     0.293837   \nvhGrzmvA3Hjq      -0.913935     2.302803     2.067512    -0.175198   \nULliyEXjy4OV      -1.024756    -0.042057     1.665347    -1.201971   \nLZfeAb1xMtql       0.615148    -0.078779     2.089813    -0.225765   \nEnFOUv0YK1RG      -0.716032     0.896657    -0.507960    -0.082832   \n\n                fmri_pca_47  fmri_pca_48  fmri_pca_49  fmri_pca_50  \nparticipant_id                                                      \nCfwaf5FX7jWK      -3.514891     0.941870    -0.475583    -0.642889  \nvhGrzmvA3Hjq       0.342023    -1.031363     1.034598    -0.321423  \nULliyEXjy4OV      -2.690367     0.603147     0.282378    -1.096996  \nLZfeAb1xMtql       0.206458    -0.140157     1.062507    -0.040352  \nEnFOUv0YK1RG       0.457032     0.142101     0.501975     1.281737  \n\n[5 rows x 77 columns]",
      "text/html": "<div>\n<style scoped>\n    .dataframe tbody tr th:only-of-type {\n        vertical-align: middle;\n    }\n\n    .dataframe tbody tr th {\n        vertical-align: top;\n    }\n\n    .dataframe thead th {\n        text-align: right;\n    }\n</style>\n<table border=\"1\" class=\"dataframe\">\n  <thead>\n    <tr style=\"text-align: right;\">\n      <th></th>\n      <th>EHQ_EHQ_Total</th>\n      <th>ColorVision_CV_Score</th>\n      <th>APQ_P_APQ_P_CP</th>\n      <th>APQ_P_APQ_P_ID</th>\n      <th>APQ_P_APQ_P_INV</th>\n      <th>APQ_P_APQ_P_OPD</th>\n      <th>APQ_P_APQ_P_PM</th>\n      <th>APQ_P_APQ_P_PP</th>\n      <th>SDQ_SDQ_Conduct_Problems</th>\n      <th>SDQ_SDQ_Difficulties_Total</th>\n      <th>...</th>\n      <th>fmri_pca_41</th>\n      <th>fmri_pca_42</th>\n      <th>fmri_pca_43</th>\n      <th>fmri_pca_44</th>\n      <th>fmri_pca_45</th>\n      <th>fmri_pca_46</th>\n      <th>fmri_pca_47</th>\n      <th>fmri_pca_48</th>\n      <th>fmri_pca_49</th>\n      <th>fmri_pca_50</th>\n    </tr>\n    <tr>\n      <th>participant_id</th>\n      <th></th>\n      <th></th>\n      <th></th>\n      <th></th>\n      <th></th>\n      <th></th>\n      <th></th>\n      <th></th>\n      <th></th>\n      <th></th>\n      <th></th>\n      <th></th>\n      <th></th>\n      <th></th>\n      <th></th>\n      <th></th>\n      <th></th>\n      <th></th>\n      <th></th>\n      <th></th>\n      <th></th>\n    </tr>\n  </thead>\n  <tbody>\n    <tr>\n      <th>Cfwaf5FX7jWK</th>\n      <td>0.010418</td>\n      <td>0.277591</td>\n      <td>0.892293</td>\n      <td>0.744989</td>\n      <td>0.254265</td>\n      <td>0.312612</td>\n      <td>-1.085593</td>\n      <td>0.165030</td>\n      <td>-0.037104</td>\n      <td>-0.032888</td>\n      <td>...</td>\n      <td>-1.519326</td>\n      <td>-0.159310</td>\n      <td>-1.621435</td>\n      <td>-0.404216</td>\n      <td>0.212295</td>\n      <td>0.293837</td>\n      <td>-3.514891</td>\n      <td>0.941870</td>\n      <td>-0.475583</td>\n      <td>-0.642889</td>\n    </tr>\n    <tr>\n      <th>vhGrzmvA3Hjq</th>\n      <td>0.549880</td>\n      <td>-0.678512</td>\n      <td>-0.619194</td>\n      <td>-0.094347</td>\n      <td>0.666930</td>\n      <td>0.011048</td>\n      <td>-0.304174</td>\n      <td>0.823507</td>\n      <td>-0.037104</td>\n      <td>0.583406</td>\n      <td>...</td>\n      <td>-0.424273</td>\n      <td>0.513302</td>\n      <td>-0.913935</td>\n      <td>2.302803</td>\n      <td>2.067512</td>\n      <td>-0.175198</td>\n      <td>0.342023</td>\n      <td>-1.031363</td>\n      <td>1.034598</td>\n      <td>-0.321423</td>\n    </tr>\n    <tr>\n      <th>ULliyEXjy4OV</th>\n      <td>-0.663909</td>\n      <td>-0.200460</td>\n      <td>-0.619194</td>\n      <td>0.185432</td>\n      <td>-0.777397</td>\n      <td>-0.592079</td>\n      <td>-0.499529</td>\n      <td>-0.164208</td>\n      <td>-0.533472</td>\n      <td>-0.803255</td>\n      <td>...</td>\n      <td>-0.176335</td>\n      <td>-0.343151</td>\n      <td>-1.024756</td>\n      <td>-0.042057</td>\n      <td>1.665347</td>\n      <td>-1.201971</td>\n      <td>-2.690367</td>\n      <td>0.603147</td>\n      <td>0.282378</td>\n      <td>-1.096996</td>\n    </tr>\n    <tr>\n      <th>LZfeAb1xMtql</th>\n      <td>0.684745</td>\n      <td>-0.200460</td>\n      <td>-0.619194</td>\n      <td>1.584325</td>\n      <td>0.254265</td>\n      <td>-0.290515</td>\n      <td>0.281890</td>\n      <td>0.494269</td>\n      <td>0.955631</td>\n      <td>0.429333</td>\n      <td>...</td>\n      <td>-1.229995</td>\n      <td>-0.808309</td>\n      <td>0.615148</td>\n      <td>-0.078779</td>\n      <td>2.089813</td>\n      <td>-0.225765</td>\n      <td>0.206458</td>\n      <td>-0.140157</td>\n      <td>1.062507</td>\n      <td>-0.040352</td>\n    </tr>\n    <tr>\n      <th>EnFOUv0YK1RG</th>\n      <td>-3.091485</td>\n      <td>0.277591</td>\n      <td>-0.619194</td>\n      <td>-0.094347</td>\n      <td>0.460597</td>\n      <td>0.312612</td>\n      <td>-0.108820</td>\n      <td>0.823507</td>\n      <td>-0.037104</td>\n      <td>0.891553</td>\n      <td>...</td>\n      <td>-0.343262</td>\n      <td>0.863032</td>\n      <td>-0.716032</td>\n      <td>0.896657</td>\n      <td>-0.507960</td>\n      <td>-0.082832</td>\n      <td>0.457032</td>\n      <td>0.142101</td>\n      <td>0.501975</td>\n      <td>1.281737</td>\n    </tr>\n  </tbody>\n</table>\n<p>5 rows × 77 columns</p>\n</div>"
     },
     "execution_count": 30,
     "metadata": {},
     "output_type": "execute_result"
    }
   ],
   "source": [
    "from sklearn.preprocessing import StandardScaler\n",
    "\n",
    "# Fit scaler only on training data\n",
    "scaler = StandardScaler()\n",
    "scaler.fit(X_full)\n",
    "\n",
    "# Transform both train and test\n",
    "X_scaled = pd.DataFrame(scaler.transform(X_full), columns=X_full.columns, index=X_full.index)\n",
    "X_scaled_test = pd.DataFrame(scaler.transform(X_full_test), columns=X_full_test.columns, index=X_full_test.index)\n",
    "X_scaled_test.head()"
   ],
   "metadata": {
    "collapsed": false,
    "ExecuteTime": {
     "end_time": "2025-04-27T22:50:07.836612Z",
     "start_time": "2025-04-27T22:50:07.805307Z"
    }
   },
   "id": "e572a29625ac1946",
   "execution_count": 30
  },
  {
   "cell_type": "markdown",
   "source": [
    "## XGBoost For modelling"
   ],
   "metadata": {
    "collapsed": false
   },
   "id": "e1226e02566ee980"
  },
  {
   "cell_type": "code",
   "outputs": [
    {
     "name": "stdout",
     "output_type": "stream",
     "text": [
      "Top 20 selected features:\n",
      "Index(['SDQ_SDQ_Difficulties_Total', 'fmri_pca_28', 'SDQ_SDQ_Internalizing',\n",
      "       'SDQ_SDQ_Externalizing', 'MRI_Track_Age_at_Scan',\n",
      "       'SDQ_SDQ_Generating_Impact', 'SDQ_SDQ_Hyperactivity',\n",
      "       'SDQ_SDQ_Emotional_Problems', 'SDQ_SDQ_Conduct_Problems',\n",
      "       'SDQ_SDQ_Peer_Problems', 'MRI_Track_Scan_Location', 'APQ_P_APQ_P_PM',\n",
      "       'Basic_Demos_Study_Site', 'fmri_pca_44', 'Basic_Demos_Enroll_Year',\n",
      "       'fmri_pca_25', 'Barratt_Barratt_P2_Occ', 'APQ_P_APQ_P_OPD',\n",
      "       'fmri_pca_32', 'fmri_pca_8'],\n",
      "      dtype='object')\n"
     ]
    },
    {
     "ename": "InvalidIndexError",
     "evalue": "(slice(None, None, None), Index(['SDQ_SDQ_Difficulties_Total', 'fmri_pca_28', 'SDQ_SDQ_Internalizing',\n       'SDQ_SDQ_Externalizing', 'MRI_Track_Age_at_Scan',\n       'SDQ_SDQ_Generating_Impact', 'SDQ_SDQ_Hyperactivity',\n       'SDQ_SDQ_Emotional_Problems', 'SDQ_SDQ_Conduct_Problems',\n       'SDQ_SDQ_Peer_Problems', 'MRI_Track_Scan_Location', 'APQ_P_APQ_P_PM',\n       'Basic_Demos_Study_Site', 'fmri_pca_44', 'Basic_Demos_Enroll_Year',\n       'fmri_pca_25', 'Barratt_Barratt_P2_Occ', 'APQ_P_APQ_P_OPD',\n       'fmri_pca_32', 'fmri_pca_8'],\n      dtype='object'))",
     "output_type": "error",
     "traceback": [
      "\u001B[0;31m---------------------------------------------------------------------------\u001B[0m",
      "\u001B[0;31mTypeError\u001B[0m                                 Traceback (most recent call last)",
      "File \u001B[0;32m~/miniconda3/lib/python3.11/site-packages/pandas/core/indexes/base.py:3805\u001B[0m, in \u001B[0;36mIndex.get_loc\u001B[0;34m(self, key)\u001B[0m\n\u001B[1;32m   3804\u001B[0m \u001B[38;5;28;01mtry\u001B[39;00m:\n\u001B[0;32m-> 3805\u001B[0m     \u001B[38;5;28;01mreturn\u001B[39;00m \u001B[38;5;28;43mself\u001B[39;49m\u001B[38;5;241;43m.\u001B[39;49m\u001B[43m_engine\u001B[49m\u001B[38;5;241;43m.\u001B[39;49m\u001B[43mget_loc\u001B[49m\u001B[43m(\u001B[49m\u001B[43mcasted_key\u001B[49m\u001B[43m)\u001B[49m\n\u001B[1;32m   3806\u001B[0m \u001B[38;5;28;01mexcept\u001B[39;00m \u001B[38;5;167;01mKeyError\u001B[39;00m \u001B[38;5;28;01mas\u001B[39;00m err:\n",
      "File \u001B[0;32mindex.pyx:167\u001B[0m, in \u001B[0;36mpandas._libs.index.IndexEngine.get_loc\u001B[0;34m()\u001B[0m\n",
      "File \u001B[0;32mindex.pyx:173\u001B[0m, in \u001B[0;36mpandas._libs.index.IndexEngine.get_loc\u001B[0;34m()\u001B[0m\n",
      "\u001B[0;31mTypeError\u001B[0m: '(slice(None, None, None), Index(['SDQ_SDQ_Difficulties_Total', 'fmri_pca_28', 'SDQ_SDQ_Internalizing',\n       'SDQ_SDQ_Externalizing', 'MRI_Track_Age_at_Scan',\n       'SDQ_SDQ_Generating_Impact', 'SDQ_SDQ_Hyperactivity',\n       'SDQ_SDQ_Emotional_Problems', 'SDQ_SDQ_Conduct_Problems',\n       'SDQ_SDQ_Peer_Problems', 'MRI_Track_Scan_Location', 'APQ_P_APQ_P_PM',\n       'Basic_Demos_Study_Site', 'fmri_pca_44', 'Basic_Demos_Enroll_Year',\n       'fmri_pca_25', 'Barratt_Barratt_P2_Occ', 'APQ_P_APQ_P_OPD',\n       'fmri_pca_32', 'fmri_pca_8'],\n      dtype='object'))' is an invalid key",
      "\nDuring handling of the above exception, another exception occurred:\n",
      "\u001B[0;31mInvalidIndexError\u001B[0m                         Traceback (most recent call last)",
      "Cell \u001B[0;32mIn[38], line 30\u001B[0m\n\u001B[1;32m     26\u001B[0m selected_features \u001B[38;5;241m=\u001B[39m important_features\u001B[38;5;241m.\u001B[39mindex[:top_n]\n\u001B[1;32m     28\u001B[0m \u001B[38;5;28mprint\u001B[39m(\u001B[38;5;124mf\u001B[39m\u001B[38;5;124m\"\u001B[39m\u001B[38;5;124mTop \u001B[39m\u001B[38;5;132;01m{\u001B[39;00mtop_n\u001B[38;5;132;01m}\u001B[39;00m\u001B[38;5;124m selected features:\u001B[39m\u001B[38;5;130;01m\\n\u001B[39;00m\u001B[38;5;132;01m{\u001B[39;00mselected_features\u001B[38;5;132;01m}\u001B[39;00m\u001B[38;5;124m\"\u001B[39m)\n\u001B[0;32m---> 30\u001B[0m X_selected \u001B[38;5;241m=\u001B[39m \u001B[43mX_scaled\u001B[49m\u001B[43m[\u001B[49m\u001B[43m:\u001B[49m\u001B[43m,\u001B[49m\u001B[43m \u001B[49m\u001B[43mselected_features\u001B[49m\u001B[43m]\u001B[49m\n",
      "File \u001B[0;32m~/miniconda3/lib/python3.11/site-packages/pandas/core/frame.py:4102\u001B[0m, in \u001B[0;36mDataFrame.__getitem__\u001B[0;34m(self, key)\u001B[0m\n\u001B[1;32m   4100\u001B[0m \u001B[38;5;28;01mif\u001B[39;00m \u001B[38;5;28mself\u001B[39m\u001B[38;5;241m.\u001B[39mcolumns\u001B[38;5;241m.\u001B[39mnlevels \u001B[38;5;241m>\u001B[39m \u001B[38;5;241m1\u001B[39m:\n\u001B[1;32m   4101\u001B[0m     \u001B[38;5;28;01mreturn\u001B[39;00m \u001B[38;5;28mself\u001B[39m\u001B[38;5;241m.\u001B[39m_getitem_multilevel(key)\n\u001B[0;32m-> 4102\u001B[0m indexer \u001B[38;5;241m=\u001B[39m \u001B[38;5;28;43mself\u001B[39;49m\u001B[38;5;241;43m.\u001B[39;49m\u001B[43mcolumns\u001B[49m\u001B[38;5;241;43m.\u001B[39;49m\u001B[43mget_loc\u001B[49m\u001B[43m(\u001B[49m\u001B[43mkey\u001B[49m\u001B[43m)\u001B[49m\n\u001B[1;32m   4103\u001B[0m \u001B[38;5;28;01mif\u001B[39;00m is_integer(indexer):\n\u001B[1;32m   4104\u001B[0m     indexer \u001B[38;5;241m=\u001B[39m [indexer]\n",
      "File \u001B[0;32m~/miniconda3/lib/python3.11/site-packages/pandas/core/indexes/base.py:3817\u001B[0m, in \u001B[0;36mIndex.get_loc\u001B[0;34m(self, key)\u001B[0m\n\u001B[1;32m   3812\u001B[0m     \u001B[38;5;28;01mraise\u001B[39;00m \u001B[38;5;167;01mKeyError\u001B[39;00m(key) \u001B[38;5;28;01mfrom\u001B[39;00m \u001B[38;5;21;01merr\u001B[39;00m\n\u001B[1;32m   3813\u001B[0m \u001B[38;5;28;01mexcept\u001B[39;00m \u001B[38;5;167;01mTypeError\u001B[39;00m:\n\u001B[1;32m   3814\u001B[0m     \u001B[38;5;66;03m# If we have a listlike key, _check_indexing_error will raise\u001B[39;00m\n\u001B[1;32m   3815\u001B[0m     \u001B[38;5;66;03m#  InvalidIndexError. Otherwise we fall through and re-raise\u001B[39;00m\n\u001B[1;32m   3816\u001B[0m     \u001B[38;5;66;03m#  the TypeError.\u001B[39;00m\n\u001B[0;32m-> 3817\u001B[0m     \u001B[38;5;28;43mself\u001B[39;49m\u001B[38;5;241;43m.\u001B[39;49m\u001B[43m_check_indexing_error\u001B[49m\u001B[43m(\u001B[49m\u001B[43mkey\u001B[49m\u001B[43m)\u001B[49m\n\u001B[1;32m   3818\u001B[0m     \u001B[38;5;28;01mraise\u001B[39;00m\n",
      "File \u001B[0;32m~/miniconda3/lib/python3.11/site-packages/pandas/core/indexes/base.py:6059\u001B[0m, in \u001B[0;36mIndex._check_indexing_error\u001B[0;34m(self, key)\u001B[0m\n\u001B[1;32m   6055\u001B[0m \u001B[38;5;28;01mdef\u001B[39;00m \u001B[38;5;21m_check_indexing_error\u001B[39m(\u001B[38;5;28mself\u001B[39m, key):\n\u001B[1;32m   6056\u001B[0m     \u001B[38;5;28;01mif\u001B[39;00m \u001B[38;5;129;01mnot\u001B[39;00m is_scalar(key):\n\u001B[1;32m   6057\u001B[0m         \u001B[38;5;66;03m# if key is not a scalar, directly raise an error (the code below\u001B[39;00m\n\u001B[1;32m   6058\u001B[0m         \u001B[38;5;66;03m# would convert to numpy arrays and raise later any way) - GH29926\u001B[39;00m\n\u001B[0;32m-> 6059\u001B[0m         \u001B[38;5;28;01mraise\u001B[39;00m InvalidIndexError(key)\n",
      "\u001B[0;31mInvalidIndexError\u001B[0m: (slice(None, None, None), Index(['SDQ_SDQ_Difficulties_Total', 'fmri_pca_28', 'SDQ_SDQ_Internalizing',\n       'SDQ_SDQ_Externalizing', 'MRI_Track_Age_at_Scan',\n       'SDQ_SDQ_Generating_Impact', 'SDQ_SDQ_Hyperactivity',\n       'SDQ_SDQ_Emotional_Problems', 'SDQ_SDQ_Conduct_Problems',\n       'SDQ_SDQ_Peer_Problems', 'MRI_Track_Scan_Location', 'APQ_P_APQ_P_PM',\n       'Basic_Demos_Study_Site', 'fmri_pca_44', 'Basic_Demos_Enroll_Year',\n       'fmri_pca_25', 'Barratt_Barratt_P2_Occ', 'APQ_P_APQ_P_OPD',\n       'fmri_pca_32', 'fmri_pca_8'],\n      dtype='object'))"
     ]
    }
   ],
   "source": [
    "from sklearn.cluster import KMeans\n",
    "import pandas as pd\n",
    "\n",
    "X_train = X_scaled\n",
    "X_test = X_scaled_test\n",
    "\n",
    "# Cluster the training set\n",
    "kmeans = KMeans(n_clusters=7, random_state=42)\n",
    "train_clusters = kmeans.fit_predict(X_scaled)\n",
    "\n",
    "# Add cluster labels\n",
    "X_train_df['cluster'] = train_clusters\n",
    "\n",
    "# Group by cluster and compute mean feature values\n",
    "cluster_means = X_train_df.groupby('cluster').mean()\n",
    "\n",
    "# Get feature importance by variance across cluster means\n",
    "feature_variances = cluster_means.var()\n",
    "\n",
    "# Select top 20 features\n",
    "top_features = feature_variances.sort_values(ascending=False).index[:20]\n",
    "print(f\"Top 20 features:\\n{top_features}\")"
   ],
   "metadata": {
    "collapsed": false,
    "ExecuteTime": {
     "end_time": "2025-04-27T23:05:09.194422Z",
     "start_time": "2025-04-27T23:05:06.999307Z"
    }
   },
   "id": "9ce05b05017e0a20",
   "execution_count": 38
  },
  {
   "cell_type": "code",
   "outputs": [
    {
     "name": "stdout",
     "output_type": "stream",
     "text": [
      "\n",
      "Cross-Validation F1 Score for Sex_F model: 0.5756\n",
      "Cross-Validation F1 Score for ADHD_Outcome model: 0.6013\n"
     ]
    },
    {
     "data": {
      "text/plain": "  participant_id  Sex_F  ADHD_Outcome\n0   Cfwaf5FX7jWK      1             1\n1   vhGrzmvA3Hjq      1             1\n2   ULliyEXjy4OV      0             1\n3   LZfeAb1xMtql      0             1\n4   EnFOUv0YK1RG      1             0",
      "text/html": "<div>\n<style scoped>\n    .dataframe tbody tr th:only-of-type {\n        vertical-align: middle;\n    }\n\n    .dataframe tbody tr th {\n        vertical-align: top;\n    }\n\n    .dataframe thead th {\n        text-align: right;\n    }\n</style>\n<table border=\"1\" class=\"dataframe\">\n  <thead>\n    <tr style=\"text-align: right;\">\n      <th></th>\n      <th>participant_id</th>\n      <th>Sex_F</th>\n      <th>ADHD_Outcome</th>\n    </tr>\n  </thead>\n  <tbody>\n    <tr>\n      <th>0</th>\n      <td>Cfwaf5FX7jWK</td>\n      <td>1</td>\n      <td>1</td>\n    </tr>\n    <tr>\n      <th>1</th>\n      <td>vhGrzmvA3Hjq</td>\n      <td>1</td>\n      <td>1</td>\n    </tr>\n    <tr>\n      <th>2</th>\n      <td>ULliyEXjy4OV</td>\n      <td>0</td>\n      <td>1</td>\n    </tr>\n    <tr>\n      <th>3</th>\n      <td>LZfeAb1xMtql</td>\n      <td>0</td>\n      <td>1</td>\n    </tr>\n    <tr>\n      <th>4</th>\n      <td>EnFOUv0YK1RG</td>\n      <td>1</td>\n      <td>0</td>\n    </tr>\n  </tbody>\n</table>\n</div>"
     },
     "execution_count": 35,
     "metadata": {},
     "output_type": "execute_result"
    }
   ],
   "source": [
    "# Check cross-validation scores (NOT the overfitted train scores)\n",
    "print(f\"\\nCross-Validation F1 Score for Sex_F model: {sex_grid_search.best_score_:.4f}\")\n",
    "print(f\"Cross-Validation F1 Score for ADHD_Outcome model: {adhd_grid_search.best_score_:.4f}\")\n",
    "\n",
    "# Predict on test set\n",
    "sex_test_preds = best_sex_model.predict(X_scaled_test)\n",
    "adhd_test_preds = best_adhd_model.predict(X_scaled_test)\n",
    "\n",
    "# If you want to make a nice DataFrame for submission or analysis:\n",
    "submission = pd.DataFrame({\n",
    "    'participant_id': X_full_test.index,\n",
    "    'Sex_F': sex_test_preds,\n",
    "    'ADHD_Outcome': adhd_test_preds\n",
    "})\n",
    "\n",
    "submission.head()"
   ],
   "metadata": {
    "collapsed": false,
    "ExecuteTime": {
     "end_time": "2025-04-27T22:58:24.827798Z",
     "start_time": "2025-04-27T22:58:24.772360Z"
    }
   },
   "id": "16f45a85e9312a3d",
   "execution_count": 35
  },
  {
   "cell_type": "code",
   "outputs": [],
   "source": [
    "submission.to_csv('submission.csv', index=False)"
   ],
   "metadata": {
    "collapsed": false,
    "ExecuteTime": {
     "end_time": "2025-04-27T22:58:27.370986Z",
     "start_time": "2025-04-27T22:58:27.362994Z"
    }
   },
   "id": "7f1879720d83a0ef",
   "execution_count": 36
  },
  {
   "cell_type": "code",
   "outputs": [],
   "source": [],
   "metadata": {
    "collapsed": false
   },
   "id": "fded9eea18e8628b"
  }
 ],
 "metadata": {
  "kernelspec": {
   "display_name": "base",
   "language": "python",
   "name": "python3"
  },
  "language_info": {
   "codemirror_mode": {
    "name": "ipython",
    "version": 3
   },
   "file_extension": ".py",
   "mimetype": "text/x-python",
   "name": "python",
   "nbconvert_exporter": "python",
   "pygments_lexer": "ipython3",
   "version": "3.11.7"
  }
 },
 "nbformat": 4,
 "nbformat_minor": 5
}
