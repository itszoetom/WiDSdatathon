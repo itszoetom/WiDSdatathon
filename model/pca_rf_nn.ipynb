{
 "cells": [
  {
   "cell_type": "markdown",
   "id": "14649cef",
   "metadata": {},
   "source": [
    "### Load in the training data"
   ]
  },
  {
   "cell_type": "code",
   "execution_count": 161,
   "id": "0a73ebe7",
   "metadata": {
    "ExecuteTime": {
     "end_time": "2025-04-19T23:48:05.055371Z",
     "start_time": "2025-04-19T23:47:57.691466Z"
    }
   },
   "outputs": [],
   "source": [
    "import pandas as pd\n",
    "import numpy as np\n",
    "\n",
    "# Use read_excel and use participant_id as the index\n",
    "train_cat = pd.read_excel(\n",
    "    \"../../widsdatathon2025/TRAIN_NEW/TRAIN_CATEGORICAL_METADATA_new.xlsx\")\n",
    "train_func = pd.read_csv(\"../../widsdatathon2025/TRAIN_NEW/\"\n",
    "                         \"TRAIN_FUNCTIONAL_CONNECTOME_MATRICES_new_36P_Pearson.csv\")\n",
    "train_quant = pd.read_excel(\n",
    "    \"../../widsdatathon2025/TRAIN_NEW/TRAIN_QUANTITATIVE_METADATA_new.xlsx\")\n",
    "train_soln = pd.read_excel(\n",
    "    \"../../widsdatathon2025/TRAIN_NEW/TRAINING_SOLUTIONS.xlsx\")"
   ]
  },
  {
   "cell_type": "code",
   "execution_count": 150,
   "id": "1d5a6a6a",
   "metadata": {
    "ExecuteTime": {
     "end_time": "2025-04-19T22:42:19.208593Z",
     "start_time": "2025-04-19T22:42:19.188548Z"
    }
   },
   "outputs": [
    {
     "data": {
      "text/plain": "                0throw_1thcolumn  0throw_2thcolumn  0throw_3thcolumn  \\\nparticipant_id                                                         \n70z8Q2xdTXM3            0.222930          0.527903          0.429966   \nWHWymJu6zNZi            0.614765          0.577255          0.496127   \n4PAQp1M6EyAo           -0.116833          0.458408          0.260703   \nobEacy4Of68I            0.199688          0.752714          0.658283   \ns7WzzDcmDOhF            0.227321          0.613268          0.621447   \n\n                0throw_4thcolumn  0throw_5thcolumn  0throw_6thcolumn  \\\nparticipant_id                                                         \n70z8Q2xdTXM3            0.060457          0.566489          0.315342   \nWHWymJu6zNZi            0.496606          0.404686          0.439724   \n4PAQp1M6EyAo            0.639031          0.769337          0.442528   \nobEacy4Of68I            0.575096          0.692867          0.645789   \ns7WzzDcmDOhF            0.562673          0.736709          0.589813   \n\n                0throw_7thcolumn  0throw_8thcolumn  0throw_9thcolumn  \\\nparticipant_id                                                         \n70z8Q2xdTXM3            0.508408         -0.078290          0.525692   \nWHWymJu6zNZi            0.122590         -0.085452          0.120673   \n4PAQp1M6EyAo            0.637110          0.192010          0.520379   \nobEacy4Of68I            0.522750          0.412188          0.530843   \ns7WzzDcmDOhF            0.266676          0.359668          0.300771   \n\n                0throw_10thcolumn  ...  195throw_196thcolumn  \\\nparticipant_id                     ...                         \n70z8Q2xdTXM3             0.470063  ...              0.224985   \nWHWymJu6zNZi             0.276350  ...              0.217546   \n4PAQp1M6EyAo             0.378557  ...              0.342487   \nobEacy4Of68I             0.259596  ...              0.103562   \ns7WzzDcmDOhF             0.331445  ...             -0.164956   \n\n                195throw_197thcolumn  195throw_198thcolumn  \\\nparticipant_id                                               \n70z8Q2xdTXM3                0.397448              0.422966   \nWHWymJu6zNZi               -0.014549              0.000440   \n4PAQp1M6EyAo               -0.021141             -0.037836   \nobEacy4Of68I               -0.178313              0.210983   \ns7WzzDcmDOhF                0.007064             -0.120904   \n\n                195throw_199thcolumn  196throw_197thcolumn  \\\nparticipant_id                                               \n70z8Q2xdTXM3                0.184642              0.305549   \nWHWymJu6zNZi               -0.096451              0.454501   \n4PAQp1M6EyAo                0.075069              0.412712   \nobEacy4Of68I               -0.018666              0.436313   \ns7WzzDcmDOhF               -0.488095              0.493575   \n\n                196throw_198thcolumn  196throw_199thcolumn  \\\nparticipant_id                                               \n70z8Q2xdTXM3                0.420349              0.016328   \nWHWymJu6zNZi                0.343916              0.167313   \n4PAQp1M6EyAo                0.292708              0.391005   \nobEacy4Of68I                0.592982              0.216205   \ns7WzzDcmDOhF               -0.215361              0.210685   \n\n                197throw_198thcolumn  197throw_199thcolumn  \\\nparticipant_id                                               \n70z8Q2xdTXM3                0.561864              0.471170   \nWHWymJu6zNZi                0.607656              0.550623   \n4PAQp1M6EyAo                0.461544              0.508912   \nobEacy4Of68I                0.341272              0.440313   \ns7WzzDcmDOhF                0.055850              0.119065   \n\n                198throw_199thcolumn  \nparticipant_id                        \n70z8Q2xdTXM3                0.365221  \nWHWymJu6zNZi                0.503176  \n4PAQp1M6EyAo                0.624232  \nobEacy4Of68I                0.558193  \ns7WzzDcmDOhF                0.108273  \n\n[5 rows x 19900 columns]",
      "text/html": "<div>\n<style scoped>\n    .dataframe tbody tr th:only-of-type {\n        vertical-align: middle;\n    }\n\n    .dataframe tbody tr th {\n        vertical-align: top;\n    }\n\n    .dataframe thead th {\n        text-align: right;\n    }\n</style>\n<table border=\"1\" class=\"dataframe\">\n  <thead>\n    <tr style=\"text-align: right;\">\n      <th></th>\n      <th>0throw_1thcolumn</th>\n      <th>0throw_2thcolumn</th>\n      <th>0throw_3thcolumn</th>\n      <th>0throw_4thcolumn</th>\n      <th>0throw_5thcolumn</th>\n      <th>0throw_6thcolumn</th>\n      <th>0throw_7thcolumn</th>\n      <th>0throw_8thcolumn</th>\n      <th>0throw_9thcolumn</th>\n      <th>0throw_10thcolumn</th>\n      <th>...</th>\n      <th>195throw_196thcolumn</th>\n      <th>195throw_197thcolumn</th>\n      <th>195throw_198thcolumn</th>\n      <th>195throw_199thcolumn</th>\n      <th>196throw_197thcolumn</th>\n      <th>196throw_198thcolumn</th>\n      <th>196throw_199thcolumn</th>\n      <th>197throw_198thcolumn</th>\n      <th>197throw_199thcolumn</th>\n      <th>198throw_199thcolumn</th>\n    </tr>\n    <tr>\n      <th>participant_id</th>\n      <th></th>\n      <th></th>\n      <th></th>\n      <th></th>\n      <th></th>\n      <th></th>\n      <th></th>\n      <th></th>\n      <th></th>\n      <th></th>\n      <th></th>\n      <th></th>\n      <th></th>\n      <th></th>\n      <th></th>\n      <th></th>\n      <th></th>\n      <th></th>\n      <th></th>\n      <th></th>\n      <th></th>\n    </tr>\n  </thead>\n  <tbody>\n    <tr>\n      <th>70z8Q2xdTXM3</th>\n      <td>0.222930</td>\n      <td>0.527903</td>\n      <td>0.429966</td>\n      <td>0.060457</td>\n      <td>0.566489</td>\n      <td>0.315342</td>\n      <td>0.508408</td>\n      <td>-0.078290</td>\n      <td>0.525692</td>\n      <td>0.470063</td>\n      <td>...</td>\n      <td>0.224985</td>\n      <td>0.397448</td>\n      <td>0.422966</td>\n      <td>0.184642</td>\n      <td>0.305549</td>\n      <td>0.420349</td>\n      <td>0.016328</td>\n      <td>0.561864</td>\n      <td>0.471170</td>\n      <td>0.365221</td>\n    </tr>\n    <tr>\n      <th>WHWymJu6zNZi</th>\n      <td>0.614765</td>\n      <td>0.577255</td>\n      <td>0.496127</td>\n      <td>0.496606</td>\n      <td>0.404686</td>\n      <td>0.439724</td>\n      <td>0.122590</td>\n      <td>-0.085452</td>\n      <td>0.120673</td>\n      <td>0.276350</td>\n      <td>...</td>\n      <td>0.217546</td>\n      <td>-0.014549</td>\n      <td>0.000440</td>\n      <td>-0.096451</td>\n      <td>0.454501</td>\n      <td>0.343916</td>\n      <td>0.167313</td>\n      <td>0.607656</td>\n      <td>0.550623</td>\n      <td>0.503176</td>\n    </tr>\n    <tr>\n      <th>4PAQp1M6EyAo</th>\n      <td>-0.116833</td>\n      <td>0.458408</td>\n      <td>0.260703</td>\n      <td>0.639031</td>\n      <td>0.769337</td>\n      <td>0.442528</td>\n      <td>0.637110</td>\n      <td>0.192010</td>\n      <td>0.520379</td>\n      <td>0.378557</td>\n      <td>...</td>\n      <td>0.342487</td>\n      <td>-0.021141</td>\n      <td>-0.037836</td>\n      <td>0.075069</td>\n      <td>0.412712</td>\n      <td>0.292708</td>\n      <td>0.391005</td>\n      <td>0.461544</td>\n      <td>0.508912</td>\n      <td>0.624232</td>\n    </tr>\n    <tr>\n      <th>obEacy4Of68I</th>\n      <td>0.199688</td>\n      <td>0.752714</td>\n      <td>0.658283</td>\n      <td>0.575096</td>\n      <td>0.692867</td>\n      <td>0.645789</td>\n      <td>0.522750</td>\n      <td>0.412188</td>\n      <td>0.530843</td>\n      <td>0.259596</td>\n      <td>...</td>\n      <td>0.103562</td>\n      <td>-0.178313</td>\n      <td>0.210983</td>\n      <td>-0.018666</td>\n      <td>0.436313</td>\n      <td>0.592982</td>\n      <td>0.216205</td>\n      <td>0.341272</td>\n      <td>0.440313</td>\n      <td>0.558193</td>\n    </tr>\n    <tr>\n      <th>s7WzzDcmDOhF</th>\n      <td>0.227321</td>\n      <td>0.613268</td>\n      <td>0.621447</td>\n      <td>0.562673</td>\n      <td>0.736709</td>\n      <td>0.589813</td>\n      <td>0.266676</td>\n      <td>0.359668</td>\n      <td>0.300771</td>\n      <td>0.331445</td>\n      <td>...</td>\n      <td>-0.164956</td>\n      <td>0.007064</td>\n      <td>-0.120904</td>\n      <td>-0.488095</td>\n      <td>0.493575</td>\n      <td>-0.215361</td>\n      <td>0.210685</td>\n      <td>0.055850</td>\n      <td>0.119065</td>\n      <td>0.108273</td>\n    </tr>\n  </tbody>\n</table>\n<p>5 rows × 19900 columns</p>\n</div>"
     },
     "execution_count": 150,
     "metadata": {},
     "output_type": "execute_result"
    }
   ],
   "source": [
    "# Set index for merging\n",
    "train_cat.set_index(\"participant_id\", inplace=True)\n",
    "train_quant.set_index(\"participant_id\", inplace=True)\n",
    "train_func.set_index(\"participant_id\", inplace=True)\n",
    "train_soln.set_index(\"participant_id\", inplace=True)\n",
    "\n",
    "# train_cat.head()\n",
    "train_func.head()\n",
    "# train_quant.head()\n",
    "# train_soln.head()"
   ]
  },
  {
   "cell_type": "markdown",
   "source": [
    "## PCA for the functional connectome matrix to reduce dimension"
   ],
   "metadata": {
    "collapsed": false
   },
   "id": "406df64c16f6625a"
  },
  {
   "cell_type": "code",
   "outputs": [
    {
     "data": {
      "text/plain": "                fmri_pca_1  fmri_pca_2  fmri_pca_3  fmri_pca_4  fmri_pca_5  \\\nparticipant_id                                                               \n70z8Q2xdTXM3      6.322800   -0.365680   -4.918161   -3.823233   -5.706923   \nWHWymJu6zNZi      5.468294   -3.985252    1.542399    0.104718   -0.529036   \n4PAQp1M6EyAo      0.447190    0.733000    3.051331    1.763901    1.932820   \nobEacy4Of68I     -9.149799   -2.044626    0.519359   -2.703923   -4.444126   \ns7WzzDcmDOhF      0.812814   -1.933265    1.834524    0.383159   -0.512338   \n\n                fmri_pca_6  fmri_pca_7  fmri_pca_8  fmri_pca_9  fmri_pca_10  \\\nparticipant_id                                                                \n70z8Q2xdTXM3     -0.875166    1.567523   -1.347511   -1.717369     1.627013   \nWHWymJu6zNZi     -2.951975    0.786365    0.794949   -2.771986    -2.408787   \n4PAQp1M6EyAo      6.451159   -3.356870    1.946050   -1.165641    -2.876850   \nobEacy4Of68I      2.916927    1.036395    0.080347   -0.148204     0.384108   \ns7WzzDcmDOhF      2.972219    3.151070    3.419844    0.283672    -2.997914   \n\n                ...  fmri_pca_41  fmri_pca_42  fmri_pca_43  fmri_pca_44  \\\nparticipant_id  ...                                                       \n70z8Q2xdTXM3    ...    -0.584329    -0.435737     0.335409    -0.318981   \nWHWymJu6zNZi    ...    -1.157110     1.044623    -0.391910     0.600819   \n4PAQp1M6EyAo    ...     2.156783    -0.448896     2.334291     1.221275   \nobEacy4Of68I    ...    -0.074951    -1.839228     0.201883    -0.706390   \ns7WzzDcmDOhF    ...    -2.635321    -1.626001    -2.899631    -0.622825   \n\n                fmri_pca_45  fmri_pca_46  fmri_pca_47  fmri_pca_48  \\\nparticipant_id                                                       \n70z8Q2xdTXM3       4.725449    -2.137625     1.955588    -0.361222   \nWHWymJu6zNZi      -0.821199    -0.540530    -1.384487    -0.295243   \n4PAQp1M6EyAo       1.402824    -0.963804    -0.727045     1.534736   \nobEacy4Of68I      -0.477511    -1.573336    -0.515590     0.201378   \ns7WzzDcmDOhF      -1.289392    -0.099113    -0.101923     2.713013   \n\n                fmri_pca_49  fmri_pca_50  \nparticipant_id                            \n70z8Q2xdTXM3      -1.419384    -1.128838  \nWHWymJu6zNZi       1.022682     0.598669  \n4PAQp1M6EyAo       0.617994     1.707038  \nobEacy4Of68I      -0.013699    -0.761574  \ns7WzzDcmDOhF       0.111481     0.671667  \n\n[5 rows x 50 columns]",
      "text/html": "<div>\n<style scoped>\n    .dataframe tbody tr th:only-of-type {\n        vertical-align: middle;\n    }\n\n    .dataframe tbody tr th {\n        vertical-align: top;\n    }\n\n    .dataframe thead th {\n        text-align: right;\n    }\n</style>\n<table border=\"1\" class=\"dataframe\">\n  <thead>\n    <tr style=\"text-align: right;\">\n      <th></th>\n      <th>fmri_pca_1</th>\n      <th>fmri_pca_2</th>\n      <th>fmri_pca_3</th>\n      <th>fmri_pca_4</th>\n      <th>fmri_pca_5</th>\n      <th>fmri_pca_6</th>\n      <th>fmri_pca_7</th>\n      <th>fmri_pca_8</th>\n      <th>fmri_pca_9</th>\n      <th>fmri_pca_10</th>\n      <th>...</th>\n      <th>fmri_pca_41</th>\n      <th>fmri_pca_42</th>\n      <th>fmri_pca_43</th>\n      <th>fmri_pca_44</th>\n      <th>fmri_pca_45</th>\n      <th>fmri_pca_46</th>\n      <th>fmri_pca_47</th>\n      <th>fmri_pca_48</th>\n      <th>fmri_pca_49</th>\n      <th>fmri_pca_50</th>\n    </tr>\n    <tr>\n      <th>participant_id</th>\n      <th></th>\n      <th></th>\n      <th></th>\n      <th></th>\n      <th></th>\n      <th></th>\n      <th></th>\n      <th></th>\n      <th></th>\n      <th></th>\n      <th></th>\n      <th></th>\n      <th></th>\n      <th></th>\n      <th></th>\n      <th></th>\n      <th></th>\n      <th></th>\n      <th></th>\n      <th></th>\n      <th></th>\n    </tr>\n  </thead>\n  <tbody>\n    <tr>\n      <th>70z8Q2xdTXM3</th>\n      <td>6.322800</td>\n      <td>-0.365680</td>\n      <td>-4.918161</td>\n      <td>-3.823233</td>\n      <td>-5.706923</td>\n      <td>-0.875166</td>\n      <td>1.567523</td>\n      <td>-1.347511</td>\n      <td>-1.717369</td>\n      <td>1.627013</td>\n      <td>...</td>\n      <td>-0.584329</td>\n      <td>-0.435737</td>\n      <td>0.335409</td>\n      <td>-0.318981</td>\n      <td>4.725449</td>\n      <td>-2.137625</td>\n      <td>1.955588</td>\n      <td>-0.361222</td>\n      <td>-1.419384</td>\n      <td>-1.128838</td>\n    </tr>\n    <tr>\n      <th>WHWymJu6zNZi</th>\n      <td>5.468294</td>\n      <td>-3.985252</td>\n      <td>1.542399</td>\n      <td>0.104718</td>\n      <td>-0.529036</td>\n      <td>-2.951975</td>\n      <td>0.786365</td>\n      <td>0.794949</td>\n      <td>-2.771986</td>\n      <td>-2.408787</td>\n      <td>...</td>\n      <td>-1.157110</td>\n      <td>1.044623</td>\n      <td>-0.391910</td>\n      <td>0.600819</td>\n      <td>-0.821199</td>\n      <td>-0.540530</td>\n      <td>-1.384487</td>\n      <td>-0.295243</td>\n      <td>1.022682</td>\n      <td>0.598669</td>\n    </tr>\n    <tr>\n      <th>4PAQp1M6EyAo</th>\n      <td>0.447190</td>\n      <td>0.733000</td>\n      <td>3.051331</td>\n      <td>1.763901</td>\n      <td>1.932820</td>\n      <td>6.451159</td>\n      <td>-3.356870</td>\n      <td>1.946050</td>\n      <td>-1.165641</td>\n      <td>-2.876850</td>\n      <td>...</td>\n      <td>2.156783</td>\n      <td>-0.448896</td>\n      <td>2.334291</td>\n      <td>1.221275</td>\n      <td>1.402824</td>\n      <td>-0.963804</td>\n      <td>-0.727045</td>\n      <td>1.534736</td>\n      <td>0.617994</td>\n      <td>1.707038</td>\n    </tr>\n    <tr>\n      <th>obEacy4Of68I</th>\n      <td>-9.149799</td>\n      <td>-2.044626</td>\n      <td>0.519359</td>\n      <td>-2.703923</td>\n      <td>-4.444126</td>\n      <td>2.916927</td>\n      <td>1.036395</td>\n      <td>0.080347</td>\n      <td>-0.148204</td>\n      <td>0.384108</td>\n      <td>...</td>\n      <td>-0.074951</td>\n      <td>-1.839228</td>\n      <td>0.201883</td>\n      <td>-0.706390</td>\n      <td>-0.477511</td>\n      <td>-1.573336</td>\n      <td>-0.515590</td>\n      <td>0.201378</td>\n      <td>-0.013699</td>\n      <td>-0.761574</td>\n    </tr>\n    <tr>\n      <th>s7WzzDcmDOhF</th>\n      <td>0.812814</td>\n      <td>-1.933265</td>\n      <td>1.834524</td>\n      <td>0.383159</td>\n      <td>-0.512338</td>\n      <td>2.972219</td>\n      <td>3.151070</td>\n      <td>3.419844</td>\n      <td>0.283672</td>\n      <td>-2.997914</td>\n      <td>...</td>\n      <td>-2.635321</td>\n      <td>-1.626001</td>\n      <td>-2.899631</td>\n      <td>-0.622825</td>\n      <td>-1.289392</td>\n      <td>-0.099113</td>\n      <td>-0.101923</td>\n      <td>2.713013</td>\n      <td>0.111481</td>\n      <td>0.671667</td>\n    </tr>\n  </tbody>\n</table>\n<p>5 rows × 50 columns</p>\n</div>"
     },
     "execution_count": 151,
     "metadata": {},
     "output_type": "execute_result"
    }
   ],
   "source": [
    "from sklearn.decomposition import PCA\n",
    "\n",
    "# Select only fMRI columns\n",
    "fmri_data = train_func.drop(columns=['participant_id'], errors='ignore')\n",
    "\n",
    "# Apply PCA to reduce to top N components (e.g. 50)\n",
    "pca = PCA(n_components=50)\n",
    "fmri_pca = pca.fit_transform(fmri_data)\n",
    "\n",
    "train_func_pca = pd.DataFrame(fmri_pca, index=train_func.index,\n",
    "                           columns=[f'fmri_pca_{i}' for i in range(1, 51)])\n",
    "train_func_pca.head()"
   ],
   "metadata": {
    "collapsed": false,
    "ExecuteTime": {
     "end_time": "2025-04-19T22:42:28.435724Z",
     "start_time": "2025-04-19T22:42:19.207988Z"
    }
   },
   "id": "ac7849a1151a7af0",
   "execution_count": 151
  },
  {
   "cell_type": "markdown",
   "source": [
    "## Interpolate missing values with mean for quant and cat dfs"
   ],
   "metadata": {
    "collapsed": false
   },
   "id": "f9a5a24f4a19a842"
  },
  {
   "cell_type": "code",
   "outputs": [
    {
     "name": "stdout",
     "output_type": "stream",
     "text": [
      "Missing values in train_quant:\n",
      " EHQ_EHQ_Total                  13\n",
      "ColorVision_CV_Score           23\n",
      "APQ_P_APQ_P_CP                 12\n",
      "APQ_P_APQ_P_ID                 12\n",
      "APQ_P_APQ_P_INV                12\n",
      "APQ_P_APQ_P_OPD                12\n",
      "APQ_P_APQ_P_PM                 12\n",
      "APQ_P_APQ_P_PP                 12\n",
      "SDQ_SDQ_Conduct_Problems        9\n",
      "SDQ_SDQ_Difficulties_Total      9\n",
      "SDQ_SDQ_Emotional_Problems      9\n",
      "SDQ_SDQ_Externalizing           9\n",
      "SDQ_SDQ_Generating_Impact       9\n",
      "SDQ_SDQ_Hyperactivity           9\n",
      "SDQ_SDQ_Internalizing           9\n",
      "SDQ_SDQ_Peer_Problems           9\n",
      "SDQ_SDQ_Prosocial               9\n",
      "MRI_Track_Age_at_Scan         360\n",
      "dtype: int64\n",
      "Missing values in train_cat:\n",
      " PreInt_Demos_Fam_Child_Ethnicity     43\n",
      "PreInt_Demos_Fam_Child_Race          54\n",
      "MRI_Track_Scan_Location               3\n",
      "Barratt_Barratt_P1_Edu               15\n",
      "Barratt_Barratt_P1_Occ               31\n",
      "Barratt_Barratt_P2_Edu              198\n",
      "Barratt_Barratt_P2_Occ              222\n",
      "dtype: int64\n"
     ]
    }
   ],
   "source": [
    "# Check missing values *before* merging\n",
    "missing = train_quant.isnull().sum()\n",
    "missing_cat = train_cat.isnull().sum()\n",
    "print(\"Missing values in train_quant:\\n\", missing[missing > 0])\n",
    "print(\"Missing values in train_cat:\\n\", missing_cat[missing_cat > 0])\n",
    "\n",
    "# Define columns with small gaps to impute\n",
    "small_gap_cols = [\n",
    "    'EHQ_EHQ_Total', 'ColorVision_CV_Score',\n",
    "    'APQ_P_APQ_P_CP', 'APQ_P_APQ_P_ID', 'APQ_P_APQ_P_INV',\n",
    "    'APQ_P_APQ_P_OPD', 'APQ_P_APQ_P_PM', 'APQ_P_APQ_P_PP',\n",
    "    'SDQ_SDQ_Conduct_Problems', 'SDQ_SDQ_Difficulties_Total',\n",
    "    'SDQ_SDQ_Emotional_Problems', 'SDQ_SDQ_Externalizing',\n",
    "    'SDQ_SDQ_Generating_Impact', 'SDQ_SDQ_Hyperactivity',\n",
    "    'SDQ_SDQ_Internalizing', 'SDQ_SDQ_Peer_Problems', 'SDQ_SDQ_Prosocial',\n",
    "    'PreInt_Demos_Fam_Child_Ethnicity', 'PreInt_Demos_Fam_Child_Race',\n",
    "    'MRI_Track_Scan_Location'\n",
    "]\n",
    "\n",
    "small_gap_cols_cat = [\n",
    "    'Barratt_Barratt_P1_Edu', 'Barratt_Barratt_P1_Occ'\n",
    "]\n",
    "\n",
    "# Fill small gaps using column means\n",
    "for col in small_gap_cols:\n",
    "    if col in train_quant.columns:\n",
    "        train_quant[col] = train_quant[col].fillna(train_quant[col].mean())\n",
    "for col in small_gap_cols_cat:\n",
    "    if col in train_cat.columns:\n",
    "        train_cat[col] = train_cat[col].fillna(train_cat[col].mean())\n",
    "\n",
    "train_quant.drop(columns=['MRI_Track_Age_at_Scan'], inplace=True) # Dropped\n",
    "train_cat.drop(columns=['Barratt_Barratt_P2_Occ', 'Barratt_Barratt_P2_Edu'], \n",
    "              inplace=True) # Dropped"
   ],
   "metadata": {
    "collapsed": false,
    "ExecuteTime": {
     "end_time": "2025-04-19T22:42:28.494379Z",
     "start_time": "2025-04-19T22:42:28.445148Z"
    }
   },
   "id": "ea3161a9934e682c",
   "execution_count": 152
  },
  {
   "cell_type": "code",
   "outputs": [
    {
     "name": "stdout",
     "output_type": "stream",
     "text": [
      "Missing values in train_quant:\n",
      " Series([], dtype: int64)\n"
     ]
    }
   ],
   "source": [
    "# Check missing values *before* merging\n",
    "missing = train_quant.isnull().sum()\n",
    "print(\"Missing values in train_quant:\\n\", missing[missing > 0])"
   ],
   "metadata": {
    "collapsed": false,
    "ExecuteTime": {
     "end_time": "2025-04-19T22:42:28.516882Z",
     "start_time": "2025-04-19T22:42:28.459903Z"
    }
   },
   "id": "2138a83a91362272",
   "execution_count": 153
  },
  {
   "cell_type": "code",
   "outputs": [
    {
     "data": {
      "text/plain": "                EHQ_EHQ_Total  ColorVision_CV_Score  APQ_P_APQ_P_CP  \\\nparticipant_id                                                        \n00aIpNTbG5uh           100.00                  13.0             3.0   \n00fV0OyyoLfw            92.27                  14.0             3.0   \n04X1eiS79T4B            86.67                  14.0             3.0   \n05ocQutkURd6            93.34                  14.0             3.0   \n06YUNBA9ZRLq             0.00                  14.0             8.0   \n\n                APQ_P_APQ_P_ID  APQ_P_APQ_P_INV  APQ_P_APQ_P_OPD  \\\nparticipant_id                                                     \n00aIpNTbG5uh              15.0             44.0             14.0   \n00fV0OyyoLfw              12.0             35.0             25.0   \n04X1eiS79T4B              21.0             37.0             18.0   \n05ocQutkURd6              11.0             42.0             15.0   \n06YUNBA9ZRLq              12.0             35.0             22.0   \n\n                APQ_P_APQ_P_PM  APQ_P_APQ_P_PP  SDQ_SDQ_Conduct_Problems  \\\nparticipant_id                                                             \n00aIpNTbG5uh              20.0            27.0                       3.0   \n00fV0OyyoLfw              28.0            30.0                       5.0   \n04X1eiS79T4B              26.0            28.0                       3.0   \n05ocQutkURd6              20.0            28.0                       0.0   \n06YUNBA9ZRLq              12.0            24.0                       6.0   \n\n                SDQ_SDQ_Difficulties_Total  SDQ_SDQ_Emotional_Problems  \\\nparticipant_id                                                           \n00aIpNTbG5uh                          17.0                         4.0   \n00fV0OyyoLfw                          20.0                         4.0   \n04X1eiS79T4B                          24.0                         7.0   \n05ocQutkURd6                           5.0                         0.0   \n06YUNBA9ZRLq                          23.0                         7.0   \n\n                SDQ_SDQ_Externalizing  SDQ_SDQ_Generating_Impact  \\\nparticipant_id                                                     \n00aIpNTbG5uh                     11.0                        5.0   \n00fV0OyyoLfw                     13.0                        5.0   \n04X1eiS79T4B                     10.0                       10.0   \n05ocQutkURd6                      3.0                        0.0   \n06YUNBA9ZRLq                     15.0                        8.0   \n\n                SDQ_SDQ_Hyperactivity  SDQ_SDQ_Internalizing  \\\nparticipant_id                                                 \n00aIpNTbG5uh                      8.0                    6.0   \n00fV0OyyoLfw                      8.0                    7.0   \n04X1eiS79T4B                      7.0                   14.0   \n05ocQutkURd6                      3.0                    2.0   \n06YUNBA9ZRLq                      9.0                    8.0   \n\n                SDQ_SDQ_Peer_Problems  SDQ_SDQ_Prosocial  \nparticipant_id                                            \n00aIpNTbG5uh                      2.0                9.0  \n00fV0OyyoLfw                      3.0                8.0  \n04X1eiS79T4B                      7.0                7.0  \n05ocQutkURd6                      2.0                6.0  \n06YUNBA9ZRLq                      1.0                4.0  ",
      "text/html": "<div>\n<style scoped>\n    .dataframe tbody tr th:only-of-type {\n        vertical-align: middle;\n    }\n\n    .dataframe tbody tr th {\n        vertical-align: top;\n    }\n\n    .dataframe thead th {\n        text-align: right;\n    }\n</style>\n<table border=\"1\" class=\"dataframe\">\n  <thead>\n    <tr style=\"text-align: right;\">\n      <th></th>\n      <th>EHQ_EHQ_Total</th>\n      <th>ColorVision_CV_Score</th>\n      <th>APQ_P_APQ_P_CP</th>\n      <th>APQ_P_APQ_P_ID</th>\n      <th>APQ_P_APQ_P_INV</th>\n      <th>APQ_P_APQ_P_OPD</th>\n      <th>APQ_P_APQ_P_PM</th>\n      <th>APQ_P_APQ_P_PP</th>\n      <th>SDQ_SDQ_Conduct_Problems</th>\n      <th>SDQ_SDQ_Difficulties_Total</th>\n      <th>SDQ_SDQ_Emotional_Problems</th>\n      <th>SDQ_SDQ_Externalizing</th>\n      <th>SDQ_SDQ_Generating_Impact</th>\n      <th>SDQ_SDQ_Hyperactivity</th>\n      <th>SDQ_SDQ_Internalizing</th>\n      <th>SDQ_SDQ_Peer_Problems</th>\n      <th>SDQ_SDQ_Prosocial</th>\n    </tr>\n    <tr>\n      <th>participant_id</th>\n      <th></th>\n      <th></th>\n      <th></th>\n      <th></th>\n      <th></th>\n      <th></th>\n      <th></th>\n      <th></th>\n      <th></th>\n      <th></th>\n      <th></th>\n      <th></th>\n      <th></th>\n      <th></th>\n      <th></th>\n      <th></th>\n      <th></th>\n    </tr>\n  </thead>\n  <tbody>\n    <tr>\n      <th>00aIpNTbG5uh</th>\n      <td>100.00</td>\n      <td>13.0</td>\n      <td>3.0</td>\n      <td>15.0</td>\n      <td>44.0</td>\n      <td>14.0</td>\n      <td>20.0</td>\n      <td>27.0</td>\n      <td>3.0</td>\n      <td>17.0</td>\n      <td>4.0</td>\n      <td>11.0</td>\n      <td>5.0</td>\n      <td>8.0</td>\n      <td>6.0</td>\n      <td>2.0</td>\n      <td>9.0</td>\n    </tr>\n    <tr>\n      <th>00fV0OyyoLfw</th>\n      <td>92.27</td>\n      <td>14.0</td>\n      <td>3.0</td>\n      <td>12.0</td>\n      <td>35.0</td>\n      <td>25.0</td>\n      <td>28.0</td>\n      <td>30.0</td>\n      <td>5.0</td>\n      <td>20.0</td>\n      <td>4.0</td>\n      <td>13.0</td>\n      <td>5.0</td>\n      <td>8.0</td>\n      <td>7.0</td>\n      <td>3.0</td>\n      <td>8.0</td>\n    </tr>\n    <tr>\n      <th>04X1eiS79T4B</th>\n      <td>86.67</td>\n      <td>14.0</td>\n      <td>3.0</td>\n      <td>21.0</td>\n      <td>37.0</td>\n      <td>18.0</td>\n      <td>26.0</td>\n      <td>28.0</td>\n      <td>3.0</td>\n      <td>24.0</td>\n      <td>7.0</td>\n      <td>10.0</td>\n      <td>10.0</td>\n      <td>7.0</td>\n      <td>14.0</td>\n      <td>7.0</td>\n      <td>7.0</td>\n    </tr>\n    <tr>\n      <th>05ocQutkURd6</th>\n      <td>93.34</td>\n      <td>14.0</td>\n      <td>3.0</td>\n      <td>11.0</td>\n      <td>42.0</td>\n      <td>15.0</td>\n      <td>20.0</td>\n      <td>28.0</td>\n      <td>0.0</td>\n      <td>5.0</td>\n      <td>0.0</td>\n      <td>3.0</td>\n      <td>0.0</td>\n      <td>3.0</td>\n      <td>2.0</td>\n      <td>2.0</td>\n      <td>6.0</td>\n    </tr>\n    <tr>\n      <th>06YUNBA9ZRLq</th>\n      <td>0.00</td>\n      <td>14.0</td>\n      <td>8.0</td>\n      <td>12.0</td>\n      <td>35.0</td>\n      <td>22.0</td>\n      <td>12.0</td>\n      <td>24.0</td>\n      <td>6.0</td>\n      <td>23.0</td>\n      <td>7.0</td>\n      <td>15.0</td>\n      <td>8.0</td>\n      <td>9.0</td>\n      <td>8.0</td>\n      <td>1.0</td>\n      <td>4.0</td>\n    </tr>\n  </tbody>\n</table>\n</div>"
     },
     "execution_count": 154,
     "metadata": {},
     "output_type": "execute_result"
    }
   ],
   "source": [
    "train_quant.head()"
   ],
   "metadata": {
    "collapsed": false,
    "ExecuteTime": {
     "end_time": "2025-04-19T22:42:28.517823Z",
     "start_time": "2025-04-19T22:42:28.471209Z"
    }
   },
   "id": "268e809ef085e969",
   "execution_count": 154
  },
  {
   "cell_type": "markdown",
   "source": [
    "## Feature Selection for train_quant using random forests"
   ],
   "metadata": {
    "collapsed": false
   },
   "id": "87099bf1a77809d8"
  },
  {
   "cell_type": "code",
   "outputs": [
    {
     "data": {
      "text/plain": "  participant_id  EHQ_EHQ_Total  ColorVision_CV_Score  APQ_P_APQ_P_CP  \\\n0   00aIpNTbG5uh         100.00                  13.0             3.0   \n1   00fV0OyyoLfw          92.27                  14.0             3.0   \n2   04X1eiS79T4B          86.67                  14.0             3.0   \n3   05ocQutkURd6          93.34                  14.0             3.0   \n4   06YUNBA9ZRLq           0.00                  14.0             8.0   \n\n   APQ_P_APQ_P_ID  APQ_P_APQ_P_INV  APQ_P_APQ_P_OPD  APQ_P_APQ_P_PM  \\\n0            15.0             44.0             14.0            20.0   \n1            12.0             35.0             25.0            28.0   \n2            21.0             37.0             18.0            26.0   \n3            11.0             42.0             15.0            20.0   \n4            12.0             35.0             22.0            12.0   \n\n   APQ_P_APQ_P_PP  SDQ_SDQ_Conduct_Problems  SDQ_SDQ_Difficulties_Total  \\\n0            27.0                       3.0                        17.0   \n1            30.0                       5.0                        20.0   \n2            28.0                       3.0                        24.0   \n3            28.0                       0.0                         5.0   \n4            24.0                       6.0                        23.0   \n\n   SDQ_SDQ_Emotional_Problems  SDQ_SDQ_Externalizing  \\\n0                         4.0                   11.0   \n1                         4.0                   13.0   \n2                         7.0                   10.0   \n3                         0.0                    3.0   \n4                         7.0                   15.0   \n\n   SDQ_SDQ_Generating_Impact  SDQ_SDQ_Hyperactivity  SDQ_SDQ_Internalizing  \\\n0                        5.0                    8.0                    6.0   \n1                        5.0                    8.0                    7.0   \n2                       10.0                    7.0                   14.0   \n3                        0.0                    3.0                    2.0   \n4                        8.0                    9.0                    8.0   \n\n   SDQ_SDQ_Peer_Problems  SDQ_SDQ_Prosocial  \n0                    2.0                9.0  \n1                    3.0                8.0  \n2                    7.0                7.0  \n3                    2.0                6.0  \n4                    1.0                4.0  ",
      "text/html": "<div>\n<style scoped>\n    .dataframe tbody tr th:only-of-type {\n        vertical-align: middle;\n    }\n\n    .dataframe tbody tr th {\n        vertical-align: top;\n    }\n\n    .dataframe thead th {\n        text-align: right;\n    }\n</style>\n<table border=\"1\" class=\"dataframe\">\n  <thead>\n    <tr style=\"text-align: right;\">\n      <th></th>\n      <th>participant_id</th>\n      <th>EHQ_EHQ_Total</th>\n      <th>ColorVision_CV_Score</th>\n      <th>APQ_P_APQ_P_CP</th>\n      <th>APQ_P_APQ_P_ID</th>\n      <th>APQ_P_APQ_P_INV</th>\n      <th>APQ_P_APQ_P_OPD</th>\n      <th>APQ_P_APQ_P_PM</th>\n      <th>APQ_P_APQ_P_PP</th>\n      <th>SDQ_SDQ_Conduct_Problems</th>\n      <th>SDQ_SDQ_Difficulties_Total</th>\n      <th>SDQ_SDQ_Emotional_Problems</th>\n      <th>SDQ_SDQ_Externalizing</th>\n      <th>SDQ_SDQ_Generating_Impact</th>\n      <th>SDQ_SDQ_Hyperactivity</th>\n      <th>SDQ_SDQ_Internalizing</th>\n      <th>SDQ_SDQ_Peer_Problems</th>\n      <th>SDQ_SDQ_Prosocial</th>\n    </tr>\n  </thead>\n  <tbody>\n    <tr>\n      <th>0</th>\n      <td>00aIpNTbG5uh</td>\n      <td>100.00</td>\n      <td>13.0</td>\n      <td>3.0</td>\n      <td>15.0</td>\n      <td>44.0</td>\n      <td>14.0</td>\n      <td>20.0</td>\n      <td>27.0</td>\n      <td>3.0</td>\n      <td>17.0</td>\n      <td>4.0</td>\n      <td>11.0</td>\n      <td>5.0</td>\n      <td>8.0</td>\n      <td>6.0</td>\n      <td>2.0</td>\n      <td>9.0</td>\n    </tr>\n    <tr>\n      <th>1</th>\n      <td>00fV0OyyoLfw</td>\n      <td>92.27</td>\n      <td>14.0</td>\n      <td>3.0</td>\n      <td>12.0</td>\n      <td>35.0</td>\n      <td>25.0</td>\n      <td>28.0</td>\n      <td>30.0</td>\n      <td>5.0</td>\n      <td>20.0</td>\n      <td>4.0</td>\n      <td>13.0</td>\n      <td>5.0</td>\n      <td>8.0</td>\n      <td>7.0</td>\n      <td>3.0</td>\n      <td>8.0</td>\n    </tr>\n    <tr>\n      <th>2</th>\n      <td>04X1eiS79T4B</td>\n      <td>86.67</td>\n      <td>14.0</td>\n      <td>3.0</td>\n      <td>21.0</td>\n      <td>37.0</td>\n      <td>18.0</td>\n      <td>26.0</td>\n      <td>28.0</td>\n      <td>3.0</td>\n      <td>24.0</td>\n      <td>7.0</td>\n      <td>10.0</td>\n      <td>10.0</td>\n      <td>7.0</td>\n      <td>14.0</td>\n      <td>7.0</td>\n      <td>7.0</td>\n    </tr>\n    <tr>\n      <th>3</th>\n      <td>05ocQutkURd6</td>\n      <td>93.34</td>\n      <td>14.0</td>\n      <td>3.0</td>\n      <td>11.0</td>\n      <td>42.0</td>\n      <td>15.0</td>\n      <td>20.0</td>\n      <td>28.0</td>\n      <td>0.0</td>\n      <td>5.0</td>\n      <td>0.0</td>\n      <td>3.0</td>\n      <td>0.0</td>\n      <td>3.0</td>\n      <td>2.0</td>\n      <td>2.0</td>\n      <td>6.0</td>\n    </tr>\n    <tr>\n      <th>4</th>\n      <td>06YUNBA9ZRLq</td>\n      <td>0.00</td>\n      <td>14.0</td>\n      <td>8.0</td>\n      <td>12.0</td>\n      <td>35.0</td>\n      <td>22.0</td>\n      <td>12.0</td>\n      <td>24.0</td>\n      <td>6.0</td>\n      <td>23.0</td>\n      <td>7.0</td>\n      <td>15.0</td>\n      <td>8.0</td>\n      <td>9.0</td>\n      <td>8.0</td>\n      <td>1.0</td>\n      <td>4.0</td>\n    </tr>\n  </tbody>\n</table>\n</div>"
     },
     "execution_count": 155,
     "metadata": {},
     "output_type": "execute_result"
    }
   ],
   "source": [
    "# Make sure participant_id is a column, not the index\n",
    "train_quant = train_quant.reset_index()\n",
    "train_cat = train_cat.reset_index()\n",
    "train_soln = train_soln.reset_index()\n",
    "train_quant.head()"
   ],
   "metadata": {
    "collapsed": false,
    "ExecuteTime": {
     "end_time": "2025-04-19T22:42:28.554947Z",
     "start_time": "2025-04-19T22:42:28.479239Z"
    }
   },
   "id": "f67d283a7b1706d0",
   "execution_count": 155
  },
  {
   "cell_type": "code",
   "outputs": [
    {
     "data": {
      "text/plain": "  participant_id  Basic_Demos_Enroll_Year  Basic_Demos_Study_Site  \\\n0   00aIpNTbG5uh                     2019                       4   \n1   00fV0OyyoLfw                     2017                       1   \n2   04X1eiS79T4B                     2017                       1   \n3   05ocQutkURd6                     2018                       1   \n4   06YUNBA9ZRLq                     2018                       1   \n\n   PreInt_Demos_Fam_Child_Ethnicity  PreInt_Demos_Fam_Child_Race  \\\n0                               1.0                          0.0   \n1                               0.0                          9.0   \n2                               1.0                          2.0   \n3                               3.0                          8.0   \n4                               0.0                          1.0   \n\n   MRI_Track_Scan_Location  Barratt_Barratt_P1_Edu  Barratt_Barratt_P1_Occ  \n0                      3.0                    21.0                    45.0  \n1                      2.0                    21.0                     0.0  \n2                      2.0                     9.0                     0.0  \n3                      2.0                    18.0                    10.0  \n4                      2.0                    12.0                     0.0  ",
      "text/html": "<div>\n<style scoped>\n    .dataframe tbody tr th:only-of-type {\n        vertical-align: middle;\n    }\n\n    .dataframe tbody tr th {\n        vertical-align: top;\n    }\n\n    .dataframe thead th {\n        text-align: right;\n    }\n</style>\n<table border=\"1\" class=\"dataframe\">\n  <thead>\n    <tr style=\"text-align: right;\">\n      <th></th>\n      <th>participant_id</th>\n      <th>Basic_Demos_Enroll_Year</th>\n      <th>Basic_Demos_Study_Site</th>\n      <th>PreInt_Demos_Fam_Child_Ethnicity</th>\n      <th>PreInt_Demos_Fam_Child_Race</th>\n      <th>MRI_Track_Scan_Location</th>\n      <th>Barratt_Barratt_P1_Edu</th>\n      <th>Barratt_Barratt_P1_Occ</th>\n    </tr>\n  </thead>\n  <tbody>\n    <tr>\n      <th>0</th>\n      <td>00aIpNTbG5uh</td>\n      <td>2019</td>\n      <td>4</td>\n      <td>1.0</td>\n      <td>0.0</td>\n      <td>3.0</td>\n      <td>21.0</td>\n      <td>45.0</td>\n    </tr>\n    <tr>\n      <th>1</th>\n      <td>00fV0OyyoLfw</td>\n      <td>2017</td>\n      <td>1</td>\n      <td>0.0</td>\n      <td>9.0</td>\n      <td>2.0</td>\n      <td>21.0</td>\n      <td>0.0</td>\n    </tr>\n    <tr>\n      <th>2</th>\n      <td>04X1eiS79T4B</td>\n      <td>2017</td>\n      <td>1</td>\n      <td>1.0</td>\n      <td>2.0</td>\n      <td>2.0</td>\n      <td>9.0</td>\n      <td>0.0</td>\n    </tr>\n    <tr>\n      <th>3</th>\n      <td>05ocQutkURd6</td>\n      <td>2018</td>\n      <td>1</td>\n      <td>3.0</td>\n      <td>8.0</td>\n      <td>2.0</td>\n      <td>18.0</td>\n      <td>10.0</td>\n    </tr>\n    <tr>\n      <th>4</th>\n      <td>06YUNBA9ZRLq</td>\n      <td>2018</td>\n      <td>1</td>\n      <td>0.0</td>\n      <td>1.0</td>\n      <td>2.0</td>\n      <td>12.0</td>\n      <td>0.0</td>\n    </tr>\n  </tbody>\n</table>\n</div>"
     },
     "execution_count": 156,
     "metadata": {},
     "output_type": "execute_result"
    }
   ],
   "source": [
    "train_cat.head()"
   ],
   "metadata": {
    "collapsed": false,
    "ExecuteTime": {
     "end_time": "2025-04-19T22:42:28.572496Z",
     "start_time": "2025-04-19T22:42:28.496734Z"
    }
   },
   "id": "d938a182655bc022",
   "execution_count": 156
  },
  {
   "cell_type": "code",
   "outputs": [
    {
     "data": {
      "text/plain": "['SDQ_SDQ_Externalizing',\n 'APQ_P_APQ_P_PP',\n 'SDQ_SDQ_Prosocial',\n 'SDQ_SDQ_Difficulties_Total',\n 'APQ_P_APQ_P_ID',\n 'SDQ_SDQ_Peer_Problems',\n 'SDQ_SDQ_Conduct_Problems',\n 'SDQ_SDQ_Hyperactivity',\n 'SDQ_SDQ_Internalizing',\n 'APQ_P_APQ_P_OPD',\n 'APQ_P_APQ_P_CP',\n 'SDQ_SDQ_Generating_Impact',\n 'APQ_P_APQ_P_INV',\n 'ColorVision_CV_Score',\n 'SDQ_SDQ_Emotional_Problems']"
     },
     "execution_count": 157,
     "metadata": {},
     "output_type": "execute_result"
    }
   ],
   "source": [
    "# Combine with targets temporarily\n",
    "quant_with_targets = train_quant.merge(train_soln[['participant_id', 'ADHD_Outcome',\n",
    "                                                   'Sex_F']], on='participant_id')\n",
    "\n",
    "# Compute correlations\n",
    "corrs = quant_with_targets.drop(columns='participant_id').corr()\n",
    "\n",
    "# Grab correlation with targets\n",
    "adhd_corr = corrs['ADHD_Outcome'].abs().sort_values(ascending=False)\n",
    "sex_corr = corrs['Sex_F'].abs().sort_values(ascending=False)\n",
    "\n",
    "# Keep top N or those above a threshold\n",
    "top_adhd_feats = adhd_corr[adhd_corr > 0.05].index.tolist()\n",
    "top_sex_feats = sex_corr[sex_corr > 0.05].index.tolist()\n",
    "\n",
    "# Union of both sets, drop targets themselves if included\n",
    "quant_selected = list(set(top_adhd_feats + top_sex_feats) - {'ADHD_Outcome', 'Sex_F'})\n",
    "quant_selected"
   ],
   "metadata": {
    "collapsed": false,
    "ExecuteTime": {
     "end_time": "2025-04-19T22:42:28.696230Z",
     "start_time": "2025-04-19T22:42:28.510125Z"
    }
   },
   "id": "18c527621fb53507",
   "execution_count": 157
  },
  {
   "cell_type": "code",
   "outputs": [
    {
     "data": {
      "text/plain": "      fmri_pca_50  SDQ_SDQ_Hyperactivity  SDQ_SDQ_Externalizing  \\\n0        2.014889                    8.0                   11.0   \n1        2.123320                    8.0                   13.0   \n2        1.177191                    7.0                   10.0   \n3       -0.755187                    3.0                    3.0   \n4        0.330756                    9.0                   15.0   \n...           ...                    ...                    ...   \n1208    -0.877193                    8.0                   13.0   \n1209     1.200648                    3.0                    5.0   \n1210    -0.363531                    7.0                    9.0   \n1211     0.822873                    7.0                    8.0   \n1212     0.858687                    7.0                    9.0   \n\n      SDQ_SDQ_Difficulties_Total  fmri_pca_13  fmri_pca_5  fmri_pca_2  \\\n0                           17.0     0.967873    0.697010   -5.068500   \n1                           20.0     0.668554   -1.204590   -3.920926   \n2                           24.0     3.275386    1.955188   -5.386339   \n3                            5.0     3.958956   -3.212114   -6.756400   \n4                           23.0    -0.961512   -0.906082   -4.088958   \n...                          ...          ...         ...         ...   \n1208                        20.0    -3.307926    0.328387    8.643124   \n1209                         5.0    -2.255687    1.456238    4.577333   \n1210                        14.0     3.354151    2.140782    6.087933   \n1211                        10.0    -1.667459   -1.452596   -3.337426   \n1212                        11.0     0.331098    2.983820   -8.252295   \n\n      fmri_pca_16  fmri_pca_44  SDQ_SDQ_Generating_Impact  ...  fmri_pca_17  \\\n0       -1.575376    -0.671571                        5.0  ...    -1.159688   \n1        4.118414    -0.950031                        5.0  ...    -0.786449   \n2        1.870241     1.313677                       10.0  ...    -4.887557   \n3       -1.530759    -1.414448                        0.0  ...    -0.755459   \n4       -0.216927    -0.020680                        8.0  ...    -2.317554   \n...           ...          ...                        ...  ...          ...   \n1208    -0.328843     0.846565                        5.0  ...     1.350745   \n1209     0.310456    -0.303443                        0.0  ...    -0.702788   \n1210    -0.418842     0.676043                        3.0  ...     0.980203   \n1211     0.071312     0.220869                        5.0  ...     0.774902   \n1212    -0.623492     0.967992                        4.0  ...     0.232867   \n\n      fmri_pca_23  fmri_pca_36  fmri_pca_49  fmri_pca_1  fmri_pca_25  \\\n0       -0.681527    -1.133281     3.797601   -5.367968     0.473831   \n1       -0.742879    -1.937668     0.298053   -4.108815    -0.347802   \n2       -1.237746    -0.942213    -2.054270   -5.987513     0.082857   \n3        1.920089     1.151767    -0.163273   -3.775851     1.052841   \n4       -0.043164    -2.185486    -0.780546    1.979975     0.457060   \n...           ...          ...          ...         ...          ...   \n1208    -1.322446    -0.039874     0.050382   -4.129379     0.381269   \n1209     1.456883     1.548886     1.515044    9.373537     1.344893   \n1210     2.067220    -0.590382    -2.317399    2.429350     0.269598   \n1211     4.092558     1.598795     2.045531   -3.620922     2.943903   \n1212    -2.259669     0.531113     0.136710    1.767774     1.878404   \n\n      fmri_pca_11  fmri_pca_45  fmri_pca_7  fmri_pca_32  \n0        1.281743     1.171257   -2.574854     6.104458  \n1        2.213368    -0.617291   -0.275156     0.336118  \n2       -1.466130    -1.958334   -2.904981    -2.446781  \n3        0.110288    -0.653774   -2.633906    -2.039264  \n4       -0.895125    -2.145624   -5.656950    -0.245879  \n...           ...          ...         ...          ...  \n1208    -2.206636    -0.873614   -5.190867     2.038079  \n1209     0.847701    -1.234148    1.469086    -2.299603  \n1210     1.057479    -0.789549   -1.103853    -2.221480  \n1211     1.646336     0.397710    2.010594    -0.403301  \n1212     4.078649    -1.316502    1.709271     0.042103  \n\n[1213 rows x 50 columns]",
      "text/html": "<div>\n<style scoped>\n    .dataframe tbody tr th:only-of-type {\n        vertical-align: middle;\n    }\n\n    .dataframe tbody tr th {\n        vertical-align: top;\n    }\n\n    .dataframe thead th {\n        text-align: right;\n    }\n</style>\n<table border=\"1\" class=\"dataframe\">\n  <thead>\n    <tr style=\"text-align: right;\">\n      <th></th>\n      <th>fmri_pca_50</th>\n      <th>SDQ_SDQ_Hyperactivity</th>\n      <th>SDQ_SDQ_Externalizing</th>\n      <th>SDQ_SDQ_Difficulties_Total</th>\n      <th>fmri_pca_13</th>\n      <th>fmri_pca_5</th>\n      <th>fmri_pca_2</th>\n      <th>fmri_pca_16</th>\n      <th>fmri_pca_44</th>\n      <th>SDQ_SDQ_Generating_Impact</th>\n      <th>...</th>\n      <th>fmri_pca_17</th>\n      <th>fmri_pca_23</th>\n      <th>fmri_pca_36</th>\n      <th>fmri_pca_49</th>\n      <th>fmri_pca_1</th>\n      <th>fmri_pca_25</th>\n      <th>fmri_pca_11</th>\n      <th>fmri_pca_45</th>\n      <th>fmri_pca_7</th>\n      <th>fmri_pca_32</th>\n    </tr>\n  </thead>\n  <tbody>\n    <tr>\n      <th>0</th>\n      <td>2.014889</td>\n      <td>8.0</td>\n      <td>11.0</td>\n      <td>17.0</td>\n      <td>0.967873</td>\n      <td>0.697010</td>\n      <td>-5.068500</td>\n      <td>-1.575376</td>\n      <td>-0.671571</td>\n      <td>5.0</td>\n      <td>...</td>\n      <td>-1.159688</td>\n      <td>-0.681527</td>\n      <td>-1.133281</td>\n      <td>3.797601</td>\n      <td>-5.367968</td>\n      <td>0.473831</td>\n      <td>1.281743</td>\n      <td>1.171257</td>\n      <td>-2.574854</td>\n      <td>6.104458</td>\n    </tr>\n    <tr>\n      <th>1</th>\n      <td>2.123320</td>\n      <td>8.0</td>\n      <td>13.0</td>\n      <td>20.0</td>\n      <td>0.668554</td>\n      <td>-1.204590</td>\n      <td>-3.920926</td>\n      <td>4.118414</td>\n      <td>-0.950031</td>\n      <td>5.0</td>\n      <td>...</td>\n      <td>-0.786449</td>\n      <td>-0.742879</td>\n      <td>-1.937668</td>\n      <td>0.298053</td>\n      <td>-4.108815</td>\n      <td>-0.347802</td>\n      <td>2.213368</td>\n      <td>-0.617291</td>\n      <td>-0.275156</td>\n      <td>0.336118</td>\n    </tr>\n    <tr>\n      <th>2</th>\n      <td>1.177191</td>\n      <td>7.0</td>\n      <td>10.0</td>\n      <td>24.0</td>\n      <td>3.275386</td>\n      <td>1.955188</td>\n      <td>-5.386339</td>\n      <td>1.870241</td>\n      <td>1.313677</td>\n      <td>10.0</td>\n      <td>...</td>\n      <td>-4.887557</td>\n      <td>-1.237746</td>\n      <td>-0.942213</td>\n      <td>-2.054270</td>\n      <td>-5.987513</td>\n      <td>0.082857</td>\n      <td>-1.466130</td>\n      <td>-1.958334</td>\n      <td>-2.904981</td>\n      <td>-2.446781</td>\n    </tr>\n    <tr>\n      <th>3</th>\n      <td>-0.755187</td>\n      <td>3.0</td>\n      <td>3.0</td>\n      <td>5.0</td>\n      <td>3.958956</td>\n      <td>-3.212114</td>\n      <td>-6.756400</td>\n      <td>-1.530759</td>\n      <td>-1.414448</td>\n      <td>0.0</td>\n      <td>...</td>\n      <td>-0.755459</td>\n      <td>1.920089</td>\n      <td>1.151767</td>\n      <td>-0.163273</td>\n      <td>-3.775851</td>\n      <td>1.052841</td>\n      <td>0.110288</td>\n      <td>-0.653774</td>\n      <td>-2.633906</td>\n      <td>-2.039264</td>\n    </tr>\n    <tr>\n      <th>4</th>\n      <td>0.330756</td>\n      <td>9.0</td>\n      <td>15.0</td>\n      <td>23.0</td>\n      <td>-0.961512</td>\n      <td>-0.906082</td>\n      <td>-4.088958</td>\n      <td>-0.216927</td>\n      <td>-0.020680</td>\n      <td>8.0</td>\n      <td>...</td>\n      <td>-2.317554</td>\n      <td>-0.043164</td>\n      <td>-2.185486</td>\n      <td>-0.780546</td>\n      <td>1.979975</td>\n      <td>0.457060</td>\n      <td>-0.895125</td>\n      <td>-2.145624</td>\n      <td>-5.656950</td>\n      <td>-0.245879</td>\n    </tr>\n    <tr>\n      <th>...</th>\n      <td>...</td>\n      <td>...</td>\n      <td>...</td>\n      <td>...</td>\n      <td>...</td>\n      <td>...</td>\n      <td>...</td>\n      <td>...</td>\n      <td>...</td>\n      <td>...</td>\n      <td>...</td>\n      <td>...</td>\n      <td>...</td>\n      <td>...</td>\n      <td>...</td>\n      <td>...</td>\n      <td>...</td>\n      <td>...</td>\n      <td>...</td>\n      <td>...</td>\n      <td>...</td>\n    </tr>\n    <tr>\n      <th>1208</th>\n      <td>-0.877193</td>\n      <td>8.0</td>\n      <td>13.0</td>\n      <td>20.0</td>\n      <td>-3.307926</td>\n      <td>0.328387</td>\n      <td>8.643124</td>\n      <td>-0.328843</td>\n      <td>0.846565</td>\n      <td>5.0</td>\n      <td>...</td>\n      <td>1.350745</td>\n      <td>-1.322446</td>\n      <td>-0.039874</td>\n      <td>0.050382</td>\n      <td>-4.129379</td>\n      <td>0.381269</td>\n      <td>-2.206636</td>\n      <td>-0.873614</td>\n      <td>-5.190867</td>\n      <td>2.038079</td>\n    </tr>\n    <tr>\n      <th>1209</th>\n      <td>1.200648</td>\n      <td>3.0</td>\n      <td>5.0</td>\n      <td>5.0</td>\n      <td>-2.255687</td>\n      <td>1.456238</td>\n      <td>4.577333</td>\n      <td>0.310456</td>\n      <td>-0.303443</td>\n      <td>0.0</td>\n      <td>...</td>\n      <td>-0.702788</td>\n      <td>1.456883</td>\n      <td>1.548886</td>\n      <td>1.515044</td>\n      <td>9.373537</td>\n      <td>1.344893</td>\n      <td>0.847701</td>\n      <td>-1.234148</td>\n      <td>1.469086</td>\n      <td>-2.299603</td>\n    </tr>\n    <tr>\n      <th>1210</th>\n      <td>-0.363531</td>\n      <td>7.0</td>\n      <td>9.0</td>\n      <td>14.0</td>\n      <td>3.354151</td>\n      <td>2.140782</td>\n      <td>6.087933</td>\n      <td>-0.418842</td>\n      <td>0.676043</td>\n      <td>3.0</td>\n      <td>...</td>\n      <td>0.980203</td>\n      <td>2.067220</td>\n      <td>-0.590382</td>\n      <td>-2.317399</td>\n      <td>2.429350</td>\n      <td>0.269598</td>\n      <td>1.057479</td>\n      <td>-0.789549</td>\n      <td>-1.103853</td>\n      <td>-2.221480</td>\n    </tr>\n    <tr>\n      <th>1211</th>\n      <td>0.822873</td>\n      <td>7.0</td>\n      <td>8.0</td>\n      <td>10.0</td>\n      <td>-1.667459</td>\n      <td>-1.452596</td>\n      <td>-3.337426</td>\n      <td>0.071312</td>\n      <td>0.220869</td>\n      <td>5.0</td>\n      <td>...</td>\n      <td>0.774902</td>\n      <td>4.092558</td>\n      <td>1.598795</td>\n      <td>2.045531</td>\n      <td>-3.620922</td>\n      <td>2.943903</td>\n      <td>1.646336</td>\n      <td>0.397710</td>\n      <td>2.010594</td>\n      <td>-0.403301</td>\n    </tr>\n    <tr>\n      <th>1212</th>\n      <td>0.858687</td>\n      <td>7.0</td>\n      <td>9.0</td>\n      <td>11.0</td>\n      <td>0.331098</td>\n      <td>2.983820</td>\n      <td>-8.252295</td>\n      <td>-0.623492</td>\n      <td>0.967992</td>\n      <td>4.0</td>\n      <td>...</td>\n      <td>0.232867</td>\n      <td>-2.259669</td>\n      <td>0.531113</td>\n      <td>0.136710</td>\n      <td>1.767774</td>\n      <td>1.878404</td>\n      <td>4.078649</td>\n      <td>-1.316502</td>\n      <td>1.709271</td>\n      <td>0.042103</td>\n    </tr>\n  </tbody>\n</table>\n<p>1213 rows × 50 columns</p>\n</div>"
     },
     "execution_count": 158,
     "metadata": {},
     "output_type": "execute_result"
    }
   ],
   "source": [
    "from sklearn.ensemble import RandomForestClassifier\n",
    "\n",
    "# Merge everything on participant_id\n",
    "X_full = train_quant[['participant_id'] + quant_selected] \\\n",
    "    .merge(train_cat, on='participant_id') \\\n",
    "    .merge(train_func_pca, on='participant_id')\n",
    "\n",
    "# Target labels\n",
    "y = train_soln[['participant_id', 'ADHD_Outcome', 'Sex_F']]\n",
    "\n",
    "# Align rows across X and y\n",
    "X_full = X_full.merge(y, on='participant_id')\n",
    "y = X_full[['ADHD_Outcome', 'Sex_F']]\n",
    "X_full = X_full.drop(columns=['ADHD_Outcome', 'Sex_F'])\n",
    "\n",
    "# Use combined target just for ranking features\n",
    "combo_target = y['ADHD_Outcome'] + y['Sex_F']\n",
    "\n",
    "# Train the Random Forest\n",
    "rf = RandomForestClassifier(n_estimators=100, random_state=42)\n",
    "rf.fit(X_full.drop(columns=['participant_id']), combo_target)\n",
    "\n",
    "# Rank feature importances\n",
    "feat_importances = pd.Series(rf.feature_importances_, index=X_full.drop(columns=['participant_id']).columns)\n",
    "top_features_final = feat_importances.sort_values(ascending=False).head(50).index.tolist()\n",
    "\n",
    "# Final X for model training\n",
    "X_selected = X_full[top_features_final]\n",
    "X_selected"
   ],
   "metadata": {
    "collapsed": false,
    "ExecuteTime": {
     "end_time": "2025-04-19T22:42:29.107963Z",
     "start_time": "2025-04-19T22:42:28.592837Z"
    }
   },
   "id": "cfff74ffa1b4e36b",
   "execution_count": 158
  },
  {
   "cell_type": "code",
   "outputs": [
    {
     "name": "stdout",
     "output_type": "stream",
     "text": [
      "Epoch 1 | Train Loss: 50.4363 | Val Loss: 1.5939\n",
      "Epoch 2 | Train Loss: 48.4759 | Val Loss: 1.5507\n",
      "Epoch 3 | Train Loss: 47.3548 | Val Loss: 1.5401\n",
      "Epoch 4 | Train Loss: 46.3427 | Val Loss: 1.5251\n",
      "Epoch 5 | Train Loss: 45.8702 | Val Loss: 1.5212\n",
      "Epoch 6 | Train Loss: 45.3690 | Val Loss: 1.5226\n",
      "Epoch 7 | Train Loss: 44.8661 | Val Loss: 1.5218\n",
      "Epoch 8 | Train Loss: 44.4656 | Val Loss: 1.5208\n",
      "Epoch 9 | Train Loss: 44.3894 | Val Loss: 1.5195\n",
      "Epoch 10 | Train Loss: 44.3042 | Val Loss: 1.5182\n",
      "Epoch 11 | Train Loss: 43.9202 | Val Loss: 1.5092\n",
      "Epoch 12 | Train Loss: 43.4822 | Val Loss: 1.5141\n",
      "Epoch 13 | Train Loss: 43.4873 | Val Loss: 1.5126\n",
      "Epoch 14 | Train Loss: 43.4593 | Val Loss: 1.5145\n",
      "Epoch 15 | Train Loss: 43.5234 | Val Loss: 1.5130\n",
      "Epoch 16 | Train Loss: 43.0243 | Val Loss: 1.5109\n",
      "Early stopping triggered.\n",
      "\n",
      "ADHD Weighted F1 Score: 0.8198\n",
      "Sex Weighted F1 Score: 0.5173\n",
      "\n",
      " ADHD Metrics:\n",
      "Accuracy:  0.7654\n",
      "F1 Score:  0.8385\n",
      "Precision: 0.7957\n",
      "Recall:    0.8862\n",
      "\n",
      " Sex Metrics:\n",
      "Accuracy:  0.6749\n",
      "F1 Score:  0.4148\n",
      "Precision: 0.5385\n",
      "Recall:    0.3373\n"
     ]
    }
   ],
   "source": [
    "import torch\n",
    "import torch.nn as nn\n",
    "from torch.utils.data import TensorDataset, DataLoader\n",
    "from sklearn.model_selection import train_test_split\n",
    "from sklearn.preprocessing import StandardScaler\n",
    "from sklearn.metrics import accuracy_score, f1_score, precision_score, recall_score\n",
    "\n",
    "# Standardize\n",
    "scaler = StandardScaler()\n",
    "X_scaled = scaler.fit_transform(X_selected)\n",
    "\n",
    "# Convert to tensors\n",
    "X_tensor = torch.tensor(X_scaled, dtype=torch.float32)\n",
    "y_tensor = torch.tensor(y[['ADHD_Outcome', 'Sex_F']].values, dtype=torch.float32)\n",
    "\n",
    "# Stratified train/test split\n",
    "stratify_labels = y['ADHD_Outcome'].astype(str) + y['Sex_F'].astype(str)\n",
    "X_train, X_test, y_train, y_test = train_test_split(\n",
    "    X_tensor, y_tensor, test_size=0.2, random_state=42, stratify=stratify_labels)\n",
    "\n",
    "train_ds = TensorDataset(X_train, y_train)\n",
    "test_ds = TensorDataset(X_test, y_test)\n",
    "train_loader = DataLoader(train_ds, batch_size=32, shuffle=True)\n",
    "test_loader = DataLoader(test_ds, batch_size=32)\n",
    "\n",
    "# Beefed-up model\n",
    "class BetterMultiOutputNN(nn.Module):\n",
    "    def __init__(self, input_dim):\n",
    "        super().__init__()\n",
    "        self.shared = nn.Sequential(\n",
    "            nn.Linear(input_dim, 256),\n",
    "            nn.BatchNorm1d(256),\n",
    "            nn.ReLU(),\n",
    "            nn.Dropout(0.4),\n",
    "            nn.Linear(256, 128),\n",
    "            nn.ReLU(),\n",
    "            nn.Dropout(0.3)\n",
    "        )\n",
    "        self.head_adhd = nn.Linear(128, 1)\n",
    "        self.head_sex = nn.Linear(128, 1)\n",
    "\n",
    "    def forward(self, x):\n",
    "        shared_out = self.shared(x)\n",
    "        return torch.sigmoid(self.head_adhd(shared_out)), torch.sigmoid(self.head_sex(shared_out))\n",
    "\n",
    "# Weighted BCE Loss with 2x weight for Female ADHD cases\n",
    "class WeightedBCELoss(nn.Module):\n",
    "    def __init__(self, weight_female_adhd=2):\n",
    "        super(WeightedBCELoss, self).__init__()\n",
    "        self.weight_female_adhd = weight_female_adhd\n",
    "\n",
    "    def forward(self, predictions, targets, sex):\n",
    "        # Calculate standard BCE loss\n",
    "        bce_loss = nn.BCEWithLogitsLoss(reduction='none')(predictions, targets)\n",
    "        \n",
    "        # Apply weight for female ADHD cases (ADHD_Outcome=1, Sex_F=1)\n",
    "        weight = torch.ones_like(bce_loss)\n",
    "        weight[(targets == 1) & (sex == 1)] = self.weight_female_adhd\n",
    "        \n",
    "        # Apply the weights to the loss\n",
    "        weighted_loss = weight * bce_loss\n",
    "        return weighted_loss.mean()\n",
    "\n",
    "# Initialize model and loss function\n",
    "model = BetterMultiOutputNN(X_selected.shape[1])\n",
    "weighted_criterion = WeightedBCELoss(weight_female_adhd=2)\n",
    "optimizer = torch.optim.AdamW(model.parameters(), lr=1e-3)\n",
    "scheduler = torch.optim.lr_scheduler.ReduceLROnPlateau(optimizer, patience=3, factor=0.5)\n",
    "\n",
    "# Training loop with early stopping\n",
    "best_val_loss = np.inf\n",
    "patience = 5\n",
    "epochs_no_improve = 0\n",
    "\n",
    "for epoch in range(30):\n",
    "    model.train()\n",
    "    running_loss = 0\n",
    "    for xb, yb in train_loader:\n",
    "        adhd_pred, sex_pred = model(xb)\n",
    "        # Extract ADHD and Sex labels\n",
    "        adhd_labels = yb[:, 0]\n",
    "        sex_labels = yb[:, 1]\n",
    "        \n",
    "        # Compute weighted loss for both ADHD and Sex\n",
    "        loss_adhd = weighted_criterion(adhd_pred.squeeze(), adhd_labels, sex_labels)\n",
    "        loss_sex = weighted_criterion(sex_pred.squeeze(), sex_labels, sex_labels)\n",
    "        \n",
    "        # Total loss\n",
    "        loss = loss_adhd + loss_sex\n",
    "        optimizer.zero_grad()\n",
    "        loss.backward()\n",
    "        optimizer.step()\n",
    "        running_loss += loss.item()\n",
    "\n",
    "    # Validation\n",
    "    model.eval()\n",
    "    val_losses = []\n",
    "    with torch.no_grad():\n",
    "        for xb, yb in test_loader:\n",
    "            adhd_pred, sex_pred = model(xb)\n",
    "            loss_adhd = weighted_criterion(adhd_pred.squeeze(), yb[:, 0], yb[:, 1])\n",
    "            loss_sex = weighted_criterion(sex_pred.squeeze(), yb[:, 1], yb[:, 1])\n",
    "            val_loss = loss_adhd + loss_sex\n",
    "            val_losses.append(val_loss.item())\n",
    "    avg_val_loss = np.mean(val_losses)\n",
    "    scheduler.step(avg_val_loss)\n",
    "\n",
    "    print(f\"Epoch {epoch+1} | Train Loss: {running_loss:.4f} | Val Loss: {avg_val_loss:.4f}\")\n",
    "\n",
    "    if avg_val_loss < best_val_loss:\n",
    "        best_val_loss = avg_val_loss\n",
    "        best_model = model.state_dict()\n",
    "        epochs_no_improve = 0\n",
    "    else:\n",
    "        epochs_no_improve += 1\n",
    "        if epochs_no_improve >= patience:\n",
    "            print(\"Early stopping triggered.\")\n",
    "            break\n",
    "\n",
    "# Evaluation\n",
    "model.load_state_dict(best_model)\n",
    "model.eval()\n",
    "all_preds, all_true = [], []\n",
    "\n",
    "with torch.no_grad():\n",
    "    for xb, yb in test_loader:\n",
    "        adhd_pred, sex_pred = model(xb)\n",
    "        preds = torch.cat([adhd_pred, sex_pred], dim=1)\n",
    "        all_preds.append(preds)\n",
    "        all_true.append(yb)\n",
    "\n",
    "all_preds = torch.cat(all_preds).numpy()\n",
    "all_true = torch.cat(all_true).numpy()\n",
    "\n",
    "# Thresholding\n",
    "adhd_pred_labels = (all_preds[:, 0] > 0.5).astype(int)\n",
    "sex_pred_labels = (all_preds[:, 1] > 0.5).astype(int)\n",
    "\n",
    "# Ensure the true labels are correctly handled (indexing properly)\n",
    "all_true_adhd = all_true[:, 0].astype(int)\n",
    "all_true_sex = all_true[:, 1].astype(int)\n",
    "\n",
    "# Compute weighted F1 Score with 2x weight for Female ADHD cases\n",
    "def weighted_f1(y_true, y_pred, weight_column):\n",
    "    # Assign a weight of 2x for Female ADHD cases\n",
    "    weight = np.ones_like(y_true)\n",
    "    weight[(y_true == 1) & (weight_column == 1)] = 3  # Apply 2x weight for Female ADHD\n",
    "    \n",
    "    f1 = f1_score(y_true, y_pred, average='weighted', sample_weight=weight)\n",
    "    return f1\n",
    "\n",
    "f1_adhd = weighted_f1(all_true_adhd, adhd_pred_labels, all_true_sex)\n",
    "f1_sex = weighted_f1(all_true_sex, sex_pred_labels, all_true_sex)\n",
    "\n",
    "print(f\"\\nADHD Weighted F1 Score: {f1_adhd:.4f}\")\n",
    "print(f\"Sex Weighted F1 Score: {f1_sex:.4f}\")\n",
    "\n",
    "# Metrics for ADHD\n",
    "def print_metrics(y_true, y_pred, name):\n",
    "    print(f\"\\n {name} Metrics:\")\n",
    "    print(f\"Accuracy:  {accuracy_score(y_true, y_pred):.4f}\")\n",
    "    print(f\"F1 Score:  {f1_score(y_true, y_pred):.4f}\")\n",
    "    print(f\"Precision: {precision_score(y_true, y_pred):.4f}\")\n",
    "    print(f\"Recall:    {recall_score(y_true, y_pred):.4f}\")\n",
    "\n",
    "print_metrics(all_true_adhd, adhd_pred_labels, \"ADHD\")\n",
    "print_metrics(all_true_sex, sex_pred_labels, \"Sex\")"
   ],
   "metadata": {
    "collapsed": false,
    "ExecuteTime": {
     "end_time": "2025-04-19T22:42:29.803749Z",
     "start_time": "2025-04-19T22:42:29.118950Z"
    }
   },
   "id": "e3597474bf27bb8a",
   "execution_count": 159
  },
  {
   "cell_type": "code",
   "outputs": [],
   "source": [],
   "metadata": {
    "collapsed": false,
    "ExecuteTime": {
     "end_time": "2025-04-19T22:42:29.805042Z",
     "start_time": "2025-04-19T22:42:29.801744Z"
    }
   },
   "id": "80ff730c724912fe",
   "execution_count": 159
  }
 ],
 "metadata": {
  "kernelspec": {
   "display_name": "base",
   "language": "python",
   "name": "python3"
  },
  "language_info": {
   "codemirror_mode": {
    "name": "ipython",
    "version": 3
   },
   "file_extension": ".py",
   "mimetype": "text/x-python",
   "name": "python",
   "nbconvert_exporter": "python",
   "pygments_lexer": "ipython3",
   "version": "3.11.7"
  }
 },
 "nbformat": 4,
 "nbformat_minor": 5
}
