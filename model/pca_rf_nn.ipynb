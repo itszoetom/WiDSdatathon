{
 "cells": [
  {
   "cell_type": "markdown",
   "id": "14649cef",
   "metadata": {},
   "source": [
    "### Load in the training and test data"
   ]
  },
  {
   "cell_type": "code",
   "execution_count": 46,
   "id": "0a73ebe7",
   "metadata": {
    "ExecuteTime": {
     "end_time": "2025-04-28T20:46:08.342187Z",
     "start_time": "2025-04-28T20:46:01.117461Z"
    }
   },
   "outputs": [],
   "source": [
    "import pandas as pd\n",
    "import numpy as np\n",
    "\n",
    "# Use read_excel and use participant_id as the index\n",
    "train_cat = pd.read_excel(\"../../widsdatathon2025/TRAIN_NEW/TRAIN_CATEGORICAL_METADATA_new.xlsx\")\n",
    "train_func = pd.read_csv(\"../../widsdatathon2025/TRAIN_NEW/\"\n",
    "                         \"TRAIN_FUNCTIONAL_CONNECTOME_MATRICES_new_36P_Pearson.csv\")\n",
    "train_quant = pd.read_excel(\"../../widsdatathon2025/TRAIN_NEW/TRAIN_QUANTITATIVE_METADATA_new.xlsx\")\n",
    "train_soln = pd.read_excel(\"../../widsdatathon2025/TRAIN_NEW/TRAINING_SOLUTIONS.xlsx\")\n",
    "\n",
    "# TEST\n",
    "test_cat = pd.read_excel(\"../../widsdatathon2025/TEST/TEST_CATEGORICAL.xlsx\")\n",
    "test_func = pd.read_csv(\"../../widsdatathon2025/TEST/TEST_FUNCTIONAL_CONNECTOME_MATRICES.csv\")\n",
    "test_quant = pd.read_excel(\"../../widsdatathon2025/TEST/TEST_QUANTITATIVE_METADATA.xlsx\")\n",
    "solutions_path = \"../../widsdatathon2025/TEST/TEST_SOLUTIONS.xlsx\""
   ]
  },
  {
   "cell_type": "code",
   "execution_count": 47,
   "id": "1d5a6a6a",
   "metadata": {
    "ExecuteTime": {
     "end_time": "2025-04-28T20:46:08.346978Z",
     "start_time": "2025-04-28T20:46:08.342187Z"
    }
   },
   "outputs": [],
   "source": [
    "# Set index for merging\n",
    "train_cat.set_index(\"participant_id\", inplace=True)\n",
    "train_quant.set_index(\"participant_id\", inplace=True)\n",
    "train_func.set_index(\"participant_id\", inplace=True)\n",
    "train_soln.set_index(\"participant_id\", inplace=True)\n",
    "\n",
    "# TEST\n",
    "test_cat.set_index(\"participant_id\", inplace=True)\n",
    "test_quant.set_index(\"participant_id\", inplace=True)\n",
    "test_func.set_index(\"participant_id\", inplace=True)"
   ]
  },
  {
   "cell_type": "code",
   "outputs": [
    {
     "data": {
      "text/plain": "                0throw_1thcolumn  0throw_2thcolumn  0throw_3thcolumn  \\\nparticipant_id                                                         \n70z8Q2xdTXM3            0.222930          0.527903          0.429966   \nWHWymJu6zNZi            0.614765          0.577255          0.496127   \n4PAQp1M6EyAo           -0.116833          0.458408          0.260703   \nobEacy4Of68I            0.199688          0.752714          0.658283   \ns7WzzDcmDOhF            0.227321          0.613268          0.621447   \n...                          ...               ...               ...   \n9gpepMI9sj5q            0.265284          0.551726          0.628318   \nFIDen5rdMc0v           -0.018377          0.576689          0.527451   \ndlsMC4TXL4e8            0.227028          0.405659          0.023545   \nsyeyZjEx8FUx            0.189849          0.752876          0.842463   \nwWZUoBUOOXhT            0.165500          0.779444          0.686992   \n\n                0throw_4thcolumn  0throw_5thcolumn  0throw_6thcolumn  \\\nparticipant_id                                                         \n70z8Q2xdTXM3            0.060457          0.566489          0.315342   \nWHWymJu6zNZi            0.496606          0.404686          0.439724   \n4PAQp1M6EyAo            0.639031          0.769337          0.442528   \nobEacy4Of68I            0.575096          0.692867          0.645789   \ns7WzzDcmDOhF            0.562673          0.736709          0.589813   \n...                          ...               ...               ...   \n9gpepMI9sj5q            0.647700          0.710757          0.132334   \nFIDen5rdMc0v            0.327463          0.586868          0.573689   \ndlsMC4TXL4e8           -0.093085         -0.068960          0.647574   \nsyeyZjEx8FUx            0.817037          0.820196          0.792950   \nwWZUoBUOOXhT            0.723378          0.747767          0.616990   \n\n                0throw_7thcolumn  0throw_8thcolumn  0throw_9thcolumn  \\\nparticipant_id                                                         \n70z8Q2xdTXM3            0.508408         -0.078290          0.525692   \nWHWymJu6zNZi            0.122590         -0.085452          0.120673   \n4PAQp1M6EyAo            0.637110          0.192010          0.520379   \nobEacy4Of68I            0.522750          0.412188          0.530843   \ns7WzzDcmDOhF            0.266676          0.359668          0.300771   \n...                          ...               ...               ...   \n9gpepMI9sj5q            0.326207          0.354319          0.531170   \nFIDen5rdMc0v            0.300544          0.301103          0.659840   \ndlsMC4TXL4e8            0.762552          0.465109          0.199337   \nsyeyZjEx8FUx            0.650929          0.488504          0.580207   \nwWZUoBUOOXhT            0.513525          0.301234          0.392071   \n\n                0throw_10thcolumn  ...  195throw_196thcolumn  \\\nparticipant_id                     ...                         \n70z8Q2xdTXM3             0.470063  ...              0.224985   \nWHWymJu6zNZi             0.276350  ...              0.217546   \n4PAQp1M6EyAo             0.378557  ...              0.342487   \nobEacy4Of68I             0.259596  ...              0.103562   \ns7WzzDcmDOhF             0.331445  ...             -0.164956   \n...                           ...  ...                   ...   \n9gpepMI9sj5q             0.340388  ...              0.127097   \nFIDen5rdMc0v             0.434427  ...              0.482214   \ndlsMC4TXL4e8            -0.357953  ...             -0.379304   \nsyeyZjEx8FUx             0.162963  ...             -0.212254   \nwWZUoBUOOXhT             0.075941  ...             -0.185250   \n\n                195throw_197thcolumn  195throw_198thcolumn  \\\nparticipant_id                                               \n70z8Q2xdTXM3                0.397448              0.422966   \nWHWymJu6zNZi               -0.014549              0.000440   \n4PAQp1M6EyAo               -0.021141             -0.037836   \nobEacy4Of68I               -0.178313              0.210983   \ns7WzzDcmDOhF                0.007064             -0.120904   \n...                              ...                   ...   \n9gpepMI9sj5q                0.129787              0.298987   \nFIDen5rdMc0v               -0.159587             -0.162498   \ndlsMC4TXL4e8                0.126976              0.193695   \nsyeyZjEx8FUx               -0.055539             -0.221935   \nwWZUoBUOOXhT               -0.290530             -0.276083   \n\n                195throw_199thcolumn  196throw_197thcolumn  \\\nparticipant_id                                               \n70z8Q2xdTXM3                0.184642              0.305549   \nWHWymJu6zNZi               -0.096451              0.454501   \n4PAQp1M6EyAo                0.075069              0.412712   \nobEacy4Of68I               -0.018666              0.436313   \ns7WzzDcmDOhF               -0.488095              0.493575   \n...                              ...                   ...   \n9gpepMI9sj5q                0.114577              0.534109   \nFIDen5rdMc0v               -0.093249              0.309914   \ndlsMC4TXL4e8                0.214483              0.429836   \nsyeyZjEx8FUx               -0.202464              0.602651   \nwWZUoBUOOXhT               -0.384149              0.626095   \n\n                196throw_198thcolumn  196throw_199thcolumn  \\\nparticipant_id                                               \n70z8Q2xdTXM3                0.420349              0.016328   \nWHWymJu6zNZi                0.343916              0.167313   \n4PAQp1M6EyAo                0.292708              0.391005   \nobEacy4Of68I                0.592982              0.216205   \ns7WzzDcmDOhF               -0.215361              0.210685   \n...                              ...                   ...   \n9gpepMI9sj5q                0.118893              0.181292   \nFIDen5rdMc0v                0.143818              0.218337   \ndlsMC4TXL4e8                0.302141              0.104774   \nsyeyZjEx8FUx                0.482066              0.399363   \nwWZUoBUOOXhT                0.664824              0.587586   \n\n                197throw_198thcolumn  197throw_199thcolumn  \\\nparticipant_id                                               \n70z8Q2xdTXM3                0.561864              0.471170   \nWHWymJu6zNZi                0.607656              0.550623   \n4PAQp1M6EyAo                0.461544              0.508912   \nobEacy4Of68I                0.341272              0.440313   \ns7WzzDcmDOhF                0.055850              0.119065   \n...                              ...                   ...   \n9gpepMI9sj5q                0.181055              0.238357   \nFIDen5rdMc0v                0.389331              0.328741   \ndlsMC4TXL4e8                0.856375              0.303248   \nsyeyZjEx8FUx                0.373746              0.279900   \nwWZUoBUOOXhT                0.704292              0.799295   \n\n                198throw_199thcolumn  \nparticipant_id                        \n70z8Q2xdTXM3                0.365221  \nWHWymJu6zNZi                0.503176  \n4PAQp1M6EyAo                0.624232  \nobEacy4Of68I                0.558193  \ns7WzzDcmDOhF                0.108273  \n...                              ...  \n9gpepMI9sj5q                0.577009  \nFIDen5rdMc0v                0.238443  \ndlsMC4TXL4e8                0.363639  \nsyeyZjEx8FUx                0.684434  \nwWZUoBUOOXhT                0.653542  \n\n[1213 rows x 19900 columns]",
      "text/html": "<div>\n<style scoped>\n    .dataframe tbody tr th:only-of-type {\n        vertical-align: middle;\n    }\n\n    .dataframe tbody tr th {\n        vertical-align: top;\n    }\n\n    .dataframe thead th {\n        text-align: right;\n    }\n</style>\n<table border=\"1\" class=\"dataframe\">\n  <thead>\n    <tr style=\"text-align: right;\">\n      <th></th>\n      <th>0throw_1thcolumn</th>\n      <th>0throw_2thcolumn</th>\n      <th>0throw_3thcolumn</th>\n      <th>0throw_4thcolumn</th>\n      <th>0throw_5thcolumn</th>\n      <th>0throw_6thcolumn</th>\n      <th>0throw_7thcolumn</th>\n      <th>0throw_8thcolumn</th>\n      <th>0throw_9thcolumn</th>\n      <th>0throw_10thcolumn</th>\n      <th>...</th>\n      <th>195throw_196thcolumn</th>\n      <th>195throw_197thcolumn</th>\n      <th>195throw_198thcolumn</th>\n      <th>195throw_199thcolumn</th>\n      <th>196throw_197thcolumn</th>\n      <th>196throw_198thcolumn</th>\n      <th>196throw_199thcolumn</th>\n      <th>197throw_198thcolumn</th>\n      <th>197throw_199thcolumn</th>\n      <th>198throw_199thcolumn</th>\n    </tr>\n    <tr>\n      <th>participant_id</th>\n      <th></th>\n      <th></th>\n      <th></th>\n      <th></th>\n      <th></th>\n      <th></th>\n      <th></th>\n      <th></th>\n      <th></th>\n      <th></th>\n      <th></th>\n      <th></th>\n      <th></th>\n      <th></th>\n      <th></th>\n      <th></th>\n      <th></th>\n      <th></th>\n      <th></th>\n      <th></th>\n      <th></th>\n    </tr>\n  </thead>\n  <tbody>\n    <tr>\n      <th>70z8Q2xdTXM3</th>\n      <td>0.222930</td>\n      <td>0.527903</td>\n      <td>0.429966</td>\n      <td>0.060457</td>\n      <td>0.566489</td>\n      <td>0.315342</td>\n      <td>0.508408</td>\n      <td>-0.078290</td>\n      <td>0.525692</td>\n      <td>0.470063</td>\n      <td>...</td>\n      <td>0.224985</td>\n      <td>0.397448</td>\n      <td>0.422966</td>\n      <td>0.184642</td>\n      <td>0.305549</td>\n      <td>0.420349</td>\n      <td>0.016328</td>\n      <td>0.561864</td>\n      <td>0.471170</td>\n      <td>0.365221</td>\n    </tr>\n    <tr>\n      <th>WHWymJu6zNZi</th>\n      <td>0.614765</td>\n      <td>0.577255</td>\n      <td>0.496127</td>\n      <td>0.496606</td>\n      <td>0.404686</td>\n      <td>0.439724</td>\n      <td>0.122590</td>\n      <td>-0.085452</td>\n      <td>0.120673</td>\n      <td>0.276350</td>\n      <td>...</td>\n      <td>0.217546</td>\n      <td>-0.014549</td>\n      <td>0.000440</td>\n      <td>-0.096451</td>\n      <td>0.454501</td>\n      <td>0.343916</td>\n      <td>0.167313</td>\n      <td>0.607656</td>\n      <td>0.550623</td>\n      <td>0.503176</td>\n    </tr>\n    <tr>\n      <th>4PAQp1M6EyAo</th>\n      <td>-0.116833</td>\n      <td>0.458408</td>\n      <td>0.260703</td>\n      <td>0.639031</td>\n      <td>0.769337</td>\n      <td>0.442528</td>\n      <td>0.637110</td>\n      <td>0.192010</td>\n      <td>0.520379</td>\n      <td>0.378557</td>\n      <td>...</td>\n      <td>0.342487</td>\n      <td>-0.021141</td>\n      <td>-0.037836</td>\n      <td>0.075069</td>\n      <td>0.412712</td>\n      <td>0.292708</td>\n      <td>0.391005</td>\n      <td>0.461544</td>\n      <td>0.508912</td>\n      <td>0.624232</td>\n    </tr>\n    <tr>\n      <th>obEacy4Of68I</th>\n      <td>0.199688</td>\n      <td>0.752714</td>\n      <td>0.658283</td>\n      <td>0.575096</td>\n      <td>0.692867</td>\n      <td>0.645789</td>\n      <td>0.522750</td>\n      <td>0.412188</td>\n      <td>0.530843</td>\n      <td>0.259596</td>\n      <td>...</td>\n      <td>0.103562</td>\n      <td>-0.178313</td>\n      <td>0.210983</td>\n      <td>-0.018666</td>\n      <td>0.436313</td>\n      <td>0.592982</td>\n      <td>0.216205</td>\n      <td>0.341272</td>\n      <td>0.440313</td>\n      <td>0.558193</td>\n    </tr>\n    <tr>\n      <th>s7WzzDcmDOhF</th>\n      <td>0.227321</td>\n      <td>0.613268</td>\n      <td>0.621447</td>\n      <td>0.562673</td>\n      <td>0.736709</td>\n      <td>0.589813</td>\n      <td>0.266676</td>\n      <td>0.359668</td>\n      <td>0.300771</td>\n      <td>0.331445</td>\n      <td>...</td>\n      <td>-0.164956</td>\n      <td>0.007064</td>\n      <td>-0.120904</td>\n      <td>-0.488095</td>\n      <td>0.493575</td>\n      <td>-0.215361</td>\n      <td>0.210685</td>\n      <td>0.055850</td>\n      <td>0.119065</td>\n      <td>0.108273</td>\n    </tr>\n    <tr>\n      <th>...</th>\n      <td>...</td>\n      <td>...</td>\n      <td>...</td>\n      <td>...</td>\n      <td>...</td>\n      <td>...</td>\n      <td>...</td>\n      <td>...</td>\n      <td>...</td>\n      <td>...</td>\n      <td>...</td>\n      <td>...</td>\n      <td>...</td>\n      <td>...</td>\n      <td>...</td>\n      <td>...</td>\n      <td>...</td>\n      <td>...</td>\n      <td>...</td>\n      <td>...</td>\n      <td>...</td>\n    </tr>\n    <tr>\n      <th>9gpepMI9sj5q</th>\n      <td>0.265284</td>\n      <td>0.551726</td>\n      <td>0.628318</td>\n      <td>0.647700</td>\n      <td>0.710757</td>\n      <td>0.132334</td>\n      <td>0.326207</td>\n      <td>0.354319</td>\n      <td>0.531170</td>\n      <td>0.340388</td>\n      <td>...</td>\n      <td>0.127097</td>\n      <td>0.129787</td>\n      <td>0.298987</td>\n      <td>0.114577</td>\n      <td>0.534109</td>\n      <td>0.118893</td>\n      <td>0.181292</td>\n      <td>0.181055</td>\n      <td>0.238357</td>\n      <td>0.577009</td>\n    </tr>\n    <tr>\n      <th>FIDen5rdMc0v</th>\n      <td>-0.018377</td>\n      <td>0.576689</td>\n      <td>0.527451</td>\n      <td>0.327463</td>\n      <td>0.586868</td>\n      <td>0.573689</td>\n      <td>0.300544</td>\n      <td>0.301103</td>\n      <td>0.659840</td>\n      <td>0.434427</td>\n      <td>...</td>\n      <td>0.482214</td>\n      <td>-0.159587</td>\n      <td>-0.162498</td>\n      <td>-0.093249</td>\n      <td>0.309914</td>\n      <td>0.143818</td>\n      <td>0.218337</td>\n      <td>0.389331</td>\n      <td>0.328741</td>\n      <td>0.238443</td>\n    </tr>\n    <tr>\n      <th>dlsMC4TXL4e8</th>\n      <td>0.227028</td>\n      <td>0.405659</td>\n      <td>0.023545</td>\n      <td>-0.093085</td>\n      <td>-0.068960</td>\n      <td>0.647574</td>\n      <td>0.762552</td>\n      <td>0.465109</td>\n      <td>0.199337</td>\n      <td>-0.357953</td>\n      <td>...</td>\n      <td>-0.379304</td>\n      <td>0.126976</td>\n      <td>0.193695</td>\n      <td>0.214483</td>\n      <td>0.429836</td>\n      <td>0.302141</td>\n      <td>0.104774</td>\n      <td>0.856375</td>\n      <td>0.303248</td>\n      <td>0.363639</td>\n    </tr>\n    <tr>\n      <th>syeyZjEx8FUx</th>\n      <td>0.189849</td>\n      <td>0.752876</td>\n      <td>0.842463</td>\n      <td>0.817037</td>\n      <td>0.820196</td>\n      <td>0.792950</td>\n      <td>0.650929</td>\n      <td>0.488504</td>\n      <td>0.580207</td>\n      <td>0.162963</td>\n      <td>...</td>\n      <td>-0.212254</td>\n      <td>-0.055539</td>\n      <td>-0.221935</td>\n      <td>-0.202464</td>\n      <td>0.602651</td>\n      <td>0.482066</td>\n      <td>0.399363</td>\n      <td>0.373746</td>\n      <td>0.279900</td>\n      <td>0.684434</td>\n    </tr>\n    <tr>\n      <th>wWZUoBUOOXhT</th>\n      <td>0.165500</td>\n      <td>0.779444</td>\n      <td>0.686992</td>\n      <td>0.723378</td>\n      <td>0.747767</td>\n      <td>0.616990</td>\n      <td>0.513525</td>\n      <td>0.301234</td>\n      <td>0.392071</td>\n      <td>0.075941</td>\n      <td>...</td>\n      <td>-0.185250</td>\n      <td>-0.290530</td>\n      <td>-0.276083</td>\n      <td>-0.384149</td>\n      <td>0.626095</td>\n      <td>0.664824</td>\n      <td>0.587586</td>\n      <td>0.704292</td>\n      <td>0.799295</td>\n      <td>0.653542</td>\n    </tr>\n  </tbody>\n</table>\n<p>1213 rows × 19900 columns</p>\n</div>"
     },
     "execution_count": 48,
     "metadata": {},
     "output_type": "execute_result"
    }
   ],
   "source": [
    "train_func"
   ],
   "metadata": {
    "collapsed": false,
    "ExecuteTime": {
     "end_time": "2025-04-28T20:46:08.364655Z",
     "start_time": "2025-04-28T20:46:08.350015Z"
    }
   },
   "id": "fd5a7b91f88e16c7",
   "execution_count": 48
  },
  {
   "cell_type": "markdown",
   "id": "406df64c16f6625a",
   "metadata": {
    "collapsed": false
   },
   "source": [
    "## PCA for the functional connectome matrix to reduce dimension"
   ]
  },
  {
   "cell_type": "code",
   "execution_count": 49,
   "id": "ac7849a1151a7af0",
   "metadata": {
    "ExecuteTime": {
     "end_time": "2025-04-28T20:46:22.198158Z",
     "start_time": "2025-04-28T20:46:08.361630Z"
    }
   },
   "outputs": [
    {
     "data": {
      "text/plain": "                fmri_pca_1  fmri_pca_2  fmri_pca_3  fmri_pca_4  fmri_pca_5  \\\nparticipant_id                                                               \n70z8Q2xdTXM3      6.322800   -0.365680   -4.918161   -3.823234   -5.706923   \nWHWymJu6zNZi      5.468294   -3.985252    1.542399    0.104719   -0.529029   \n4PAQp1M6EyAo      0.447190    0.733000    3.051331    1.763904    1.932821   \nobEacy4Of68I     -9.149799   -2.044626    0.519359   -2.703924   -4.444127   \ns7WzzDcmDOhF      0.812814   -1.933265    1.834524    0.383159   -0.512341   \n\n                fmri_pca_6  fmri_pca_7  fmri_pca_8  fmri_pca_9  fmri_pca_10  \\\nparticipant_id                                                                \n70z8Q2xdTXM3     -0.875163    1.567536   -1.347507   -1.717449     1.626939   \nWHWymJu6zNZi     -2.951971    0.786358    0.794932   -2.771925    -2.408927   \n4PAQp1M6EyAo      6.451160   -3.356872    1.946050   -1.165671    -2.876979   \nobEacy4Of68I      2.916929    1.036388    0.080338   -0.148184     0.384193   \ns7WzzDcmDOhF      2.972217    3.151068    3.419854    0.283657    -2.997717   \n\n                ...  fmri_pca_41  fmri_pca_42  fmri_pca_43  fmri_pca_44  \\\nparticipant_id  ...                                                       \n70z8Q2xdTXM3    ...     0.434735    -0.387117     0.531641    -0.462497   \nWHWymJu6zNZi    ...     1.326487     0.868321    -1.112521     0.660175   \n4PAQp1M6EyAo    ...    -2.188954    -0.707309     2.339618     0.554921   \nobEacy4Of68I    ...     0.250241    -1.731520     0.123517    -0.680417   \ns7WzzDcmDOhF    ...     2.333038    -1.649248    -2.849112    -0.690900   \n\n                fmri_pca_45  fmri_pca_46  fmri_pca_47  fmri_pca_48  \\\nparticipant_id                                                       \n70z8Q2xdTXM3      -0.270997     4.458481     2.125456     0.415437   \nWHWymJu6zNZi      -0.903732     0.041896    -0.479450     0.350675   \n4PAQp1M6EyAo      -1.037176     1.372949     0.544717     1.520982   \nobEacy4Of68I      -1.345387     0.029469     0.431224    -0.554442   \ns7WzzDcmDOhF       0.126466    -1.022288    -0.442141     2.301413   \n\n                fmri_pca_49  fmri_pca_50  \nparticipant_id                            \n70z8Q2xdTXM3      -0.327486     0.903944  \nWHWymJu6zNZi      -0.185789    -0.228479  \n4PAQp1M6EyAo      -1.512680     0.261823  \nobEacy4Of68I      -1.167923     1.656055  \ns7WzzDcmDOhF       0.150213    -1.417518  \n\n[5 rows x 50 columns]",
      "text/html": "<div>\n<style scoped>\n    .dataframe tbody tr th:only-of-type {\n        vertical-align: middle;\n    }\n\n    .dataframe tbody tr th {\n        vertical-align: top;\n    }\n\n    .dataframe thead th {\n        text-align: right;\n    }\n</style>\n<table border=\"1\" class=\"dataframe\">\n  <thead>\n    <tr style=\"text-align: right;\">\n      <th></th>\n      <th>fmri_pca_1</th>\n      <th>fmri_pca_2</th>\n      <th>fmri_pca_3</th>\n      <th>fmri_pca_4</th>\n      <th>fmri_pca_5</th>\n      <th>fmri_pca_6</th>\n      <th>fmri_pca_7</th>\n      <th>fmri_pca_8</th>\n      <th>fmri_pca_9</th>\n      <th>fmri_pca_10</th>\n      <th>...</th>\n      <th>fmri_pca_41</th>\n      <th>fmri_pca_42</th>\n      <th>fmri_pca_43</th>\n      <th>fmri_pca_44</th>\n      <th>fmri_pca_45</th>\n      <th>fmri_pca_46</th>\n      <th>fmri_pca_47</th>\n      <th>fmri_pca_48</th>\n      <th>fmri_pca_49</th>\n      <th>fmri_pca_50</th>\n    </tr>\n    <tr>\n      <th>participant_id</th>\n      <th></th>\n      <th></th>\n      <th></th>\n      <th></th>\n      <th></th>\n      <th></th>\n      <th></th>\n      <th></th>\n      <th></th>\n      <th></th>\n      <th></th>\n      <th></th>\n      <th></th>\n      <th></th>\n      <th></th>\n      <th></th>\n      <th></th>\n      <th></th>\n      <th></th>\n      <th></th>\n      <th></th>\n    </tr>\n  </thead>\n  <tbody>\n    <tr>\n      <th>70z8Q2xdTXM3</th>\n      <td>6.322800</td>\n      <td>-0.365680</td>\n      <td>-4.918161</td>\n      <td>-3.823234</td>\n      <td>-5.706923</td>\n      <td>-0.875163</td>\n      <td>1.567536</td>\n      <td>-1.347507</td>\n      <td>-1.717449</td>\n      <td>1.626939</td>\n      <td>...</td>\n      <td>0.434735</td>\n      <td>-0.387117</td>\n      <td>0.531641</td>\n      <td>-0.462497</td>\n      <td>-0.270997</td>\n      <td>4.458481</td>\n      <td>2.125456</td>\n      <td>0.415437</td>\n      <td>-0.327486</td>\n      <td>0.903944</td>\n    </tr>\n    <tr>\n      <th>WHWymJu6zNZi</th>\n      <td>5.468294</td>\n      <td>-3.985252</td>\n      <td>1.542399</td>\n      <td>0.104719</td>\n      <td>-0.529029</td>\n      <td>-2.951971</td>\n      <td>0.786358</td>\n      <td>0.794932</td>\n      <td>-2.771925</td>\n      <td>-2.408927</td>\n      <td>...</td>\n      <td>1.326487</td>\n      <td>0.868321</td>\n      <td>-1.112521</td>\n      <td>0.660175</td>\n      <td>-0.903732</td>\n      <td>0.041896</td>\n      <td>-0.479450</td>\n      <td>0.350675</td>\n      <td>-0.185789</td>\n      <td>-0.228479</td>\n    </tr>\n    <tr>\n      <th>4PAQp1M6EyAo</th>\n      <td>0.447190</td>\n      <td>0.733000</td>\n      <td>3.051331</td>\n      <td>1.763904</td>\n      <td>1.932821</td>\n      <td>6.451160</td>\n      <td>-3.356872</td>\n      <td>1.946050</td>\n      <td>-1.165671</td>\n      <td>-2.876979</td>\n      <td>...</td>\n      <td>-2.188954</td>\n      <td>-0.707309</td>\n      <td>2.339618</td>\n      <td>0.554921</td>\n      <td>-1.037176</td>\n      <td>1.372949</td>\n      <td>0.544717</td>\n      <td>1.520982</td>\n      <td>-1.512680</td>\n      <td>0.261823</td>\n    </tr>\n    <tr>\n      <th>obEacy4Of68I</th>\n      <td>-9.149799</td>\n      <td>-2.044626</td>\n      <td>0.519359</td>\n      <td>-2.703924</td>\n      <td>-4.444127</td>\n      <td>2.916929</td>\n      <td>1.036388</td>\n      <td>0.080338</td>\n      <td>-0.148184</td>\n      <td>0.384193</td>\n      <td>...</td>\n      <td>0.250241</td>\n      <td>-1.731520</td>\n      <td>0.123517</td>\n      <td>-0.680417</td>\n      <td>-1.345387</td>\n      <td>0.029469</td>\n      <td>0.431224</td>\n      <td>-0.554442</td>\n      <td>-1.167923</td>\n      <td>1.656055</td>\n    </tr>\n    <tr>\n      <th>s7WzzDcmDOhF</th>\n      <td>0.812814</td>\n      <td>-1.933265</td>\n      <td>1.834524</td>\n      <td>0.383159</td>\n      <td>-0.512341</td>\n      <td>2.972217</td>\n      <td>3.151068</td>\n      <td>3.419854</td>\n      <td>0.283657</td>\n      <td>-2.997717</td>\n      <td>...</td>\n      <td>2.333038</td>\n      <td>-1.649248</td>\n      <td>-2.849112</td>\n      <td>-0.690900</td>\n      <td>0.126466</td>\n      <td>-1.022288</td>\n      <td>-0.442141</td>\n      <td>2.301413</td>\n      <td>0.150213</td>\n      <td>-1.417518</td>\n    </tr>\n  </tbody>\n</table>\n<p>5 rows × 50 columns</p>\n</div>"
     },
     "execution_count": 49,
     "metadata": {},
     "output_type": "execute_result"
    }
   ],
   "source": [
    "from sklearn.decomposition import PCA\n",
    "\n",
    "# Select only fMRI columns\n",
    "fmri_data = train_func.drop(columns=['participant_id'], errors='ignore')\n",
    "fmri_data_test = test_func.drop(columns=['participant_id'], errors='ignore')\n",
    "\n",
    "# Apply PCA to reduce to top N components (e.g. 50)\n",
    "pca = PCA(n_components=50)\n",
    "fmri_pca = pca.fit_transform(fmri_data)\n",
    "fmri_pca_test = pca.fit_transform(fmri_data_test)\n",
    "\n",
    "train_func_pca = pd.DataFrame(fmri_pca, index=train_func.index,\n",
    "                           columns=[f'fmri_pca_{i}' for i in range(1, 51)])\n",
    "test_func_pca = pd.DataFrame(fmri_pca_test, index=test_func.index,\n",
    "                           columns=[f'fmri_pca_{i}' for i in range(1, 51)])\n",
    "train_func_pca.head()"
   ]
  },
  {
   "cell_type": "markdown",
   "id": "f9a5a24f4a19a842",
   "metadata": {
    "collapsed": false
   },
   "source": [
    "## Interpolate missing values with mean for quant and cat dfs"
   ]
  },
  {
   "cell_type": "code",
   "execution_count": 50,
   "id": "ea3161a9934e682c",
   "metadata": {
    "ExecuteTime": {
     "end_time": "2025-04-28T20:46:22.445181Z",
     "start_time": "2025-04-28T20:46:22.203778Z"
    }
   },
   "outputs": [
    {
     "name": "stdout",
     "output_type": "stream",
     "text": [
      "Using regression to impute 'MRI_Track_Age_at_Scan' in train_quant\n",
      "Using regression to impute 'PreInt_Demos_Fam_Child_Race' in train_cat\n",
      "Using regression to impute 'Barratt_Barratt_P2_Edu' in train_cat\n",
      "Using regression to impute 'Barratt_Barratt_P2_Occ' in train_cat\n"
     ]
    }
   ],
   "source": [
    "from sklearn.linear_model import LinearRegression\n",
    "from sklearn.impute import SimpleImputer\n",
    "\n",
    "def impute_with_regression(df, target_col):\n",
    "    \"\"\"Impute missing values in target_col of df using linear regression.\"\"\"\n",
    "    df = df.copy()\n",
    "    train_df = df.dropna(subset=[target_col])\n",
    "    if train_df.empty:\n",
    "        return df  # skip if no data to train on\n",
    "    X_train = train_df.drop(columns=[target_col])\n",
    "    y_train = train_df[target_col]\n",
    "    X_train_imp = SimpleImputer(strategy='mean').fit_transform(X_train)\n",
    "    reg = LinearRegression().fit(X_train_imp, y_train)\n",
    "\n",
    "    missing_mask = df[target_col].isna()\n",
    "    X_missing = df.loc[missing_mask].drop(columns=[target_col])\n",
    "    X_missing_imp = SimpleImputer(strategy='mean').fit_transform(X_missing)\n",
    "    df.loc[missing_mask, target_col] = reg.predict(X_missing_imp)\n",
    "    return df\n",
    "\n",
    "# Function to process any dataframe (quant or cat)\n",
    "def process_df(df, name='df'):\n",
    "    missing = df.isnull().sum()\n",
    "    for col in missing[missing > 0].index:\n",
    "        if missing[col] < 50:\n",
    "            df[col] = df[col].fillna(df[col].mean())\n",
    "        else:\n",
    "            print(f\"Using regression to impute '{col}' in {name}\")\n",
    "            df = impute_with_regression(df, col)\n",
    "    return df\n",
    "\n",
    "# Apply to all four\n",
    "train_quant = process_df(train_quant, 'train_quant')\n",
    "train_cat = process_df(train_cat, 'train_cat')\n",
    "test_quant = process_df(test_quant, 'test_quant')\n",
    "test_cat = process_df(test_cat, 'test_cat')"
   ]
  },
  {
   "cell_type": "code",
   "execution_count": 51,
   "id": "2138a83a91362272",
   "metadata": {
    "ExecuteTime": {
     "end_time": "2025-04-28T20:46:22.446364Z",
     "start_time": "2025-04-28T20:46:22.331363Z"
    }
   },
   "outputs": [
    {
     "name": "stdout",
     "output_type": "stream",
     "text": [
      "Missing values in train_quant:\n",
      " Series([], dtype: int64)\n"
     ]
    }
   ],
   "source": [
    "# Check missing values *before* merging\n",
    "missing = train_quant.isnull().sum()\n",
    "print(\"Missing values in train_quant:\\n\", missing[missing > 0])"
   ]
  },
  {
   "cell_type": "code",
   "execution_count": 52,
   "id": "268e809ef085e969",
   "metadata": {
    "ExecuteTime": {
     "end_time": "2025-04-28T20:46:22.504336Z",
     "start_time": "2025-04-28T20:46:22.357755Z"
    }
   },
   "outputs": [
    {
     "data": {
      "text/plain": "                EHQ_EHQ_Total  ColorVision_CV_Score  APQ_P_APQ_P_CP  \\\nparticipant_id                                                        \n00aIpNTbG5uh           100.00                  13.0             3.0   \n00fV0OyyoLfw            92.27                  14.0             3.0   \n04X1eiS79T4B            86.67                  14.0             3.0   \n05ocQutkURd6            93.34                  14.0             3.0   \n06YUNBA9ZRLq             0.00                  14.0             8.0   \n\n                APQ_P_APQ_P_ID  APQ_P_APQ_P_INV  APQ_P_APQ_P_OPD  \\\nparticipant_id                                                     \n00aIpNTbG5uh              15.0             44.0             14.0   \n00fV0OyyoLfw              12.0             35.0             25.0   \n04X1eiS79T4B              21.0             37.0             18.0   \n05ocQutkURd6              11.0             42.0             15.0   \n06YUNBA9ZRLq              12.0             35.0             22.0   \n\n                APQ_P_APQ_P_PM  APQ_P_APQ_P_PP  SDQ_SDQ_Conduct_Problems  \\\nparticipant_id                                                             \n00aIpNTbG5uh              20.0            27.0                       3.0   \n00fV0OyyoLfw              28.0            30.0                       5.0   \n04X1eiS79T4B              26.0            28.0                       3.0   \n05ocQutkURd6              20.0            28.0                       0.0   \n06YUNBA9ZRLq              12.0            24.0                       6.0   \n\n                SDQ_SDQ_Difficulties_Total  SDQ_SDQ_Emotional_Problems  \\\nparticipant_id                                                           \n00aIpNTbG5uh                          17.0                         4.0   \n00fV0OyyoLfw                          20.0                         4.0   \n04X1eiS79T4B                          24.0                         7.0   \n05ocQutkURd6                           5.0                         0.0   \n06YUNBA9ZRLq                          23.0                         7.0   \n\n                SDQ_SDQ_Externalizing  SDQ_SDQ_Generating_Impact  \\\nparticipant_id                                                     \n00aIpNTbG5uh                     11.0                        5.0   \n00fV0OyyoLfw                     13.0                        5.0   \n04X1eiS79T4B                     10.0                       10.0   \n05ocQutkURd6                      3.0                        0.0   \n06YUNBA9ZRLq                     15.0                        8.0   \n\n                SDQ_SDQ_Hyperactivity  SDQ_SDQ_Internalizing  \\\nparticipant_id                                                 \n00aIpNTbG5uh                      8.0                    6.0   \n00fV0OyyoLfw                      8.0                    7.0   \n04X1eiS79T4B                      7.0                   14.0   \n05ocQutkURd6                      3.0                    2.0   \n06YUNBA9ZRLq                      9.0                    8.0   \n\n                SDQ_SDQ_Peer_Problems  SDQ_SDQ_Prosocial  \\\nparticipant_id                                             \n00aIpNTbG5uh                      2.0                9.0   \n00fV0OyyoLfw                      3.0                8.0   \n04X1eiS79T4B                      7.0                7.0   \n05ocQutkURd6                      2.0                6.0   \n06YUNBA9ZRLq                      1.0                4.0   \n\n                MRI_Track_Age_at_Scan  \nparticipant_id                         \n00aIpNTbG5uh                14.274127  \n00fV0OyyoLfw                14.278626  \n04X1eiS79T4B                13.463381  \n05ocQutkURd6                 9.572553  \n06YUNBA9ZRLq                 6.654574  ",
      "text/html": "<div>\n<style scoped>\n    .dataframe tbody tr th:only-of-type {\n        vertical-align: middle;\n    }\n\n    .dataframe tbody tr th {\n        vertical-align: top;\n    }\n\n    .dataframe thead th {\n        text-align: right;\n    }\n</style>\n<table border=\"1\" class=\"dataframe\">\n  <thead>\n    <tr style=\"text-align: right;\">\n      <th></th>\n      <th>EHQ_EHQ_Total</th>\n      <th>ColorVision_CV_Score</th>\n      <th>APQ_P_APQ_P_CP</th>\n      <th>APQ_P_APQ_P_ID</th>\n      <th>APQ_P_APQ_P_INV</th>\n      <th>APQ_P_APQ_P_OPD</th>\n      <th>APQ_P_APQ_P_PM</th>\n      <th>APQ_P_APQ_P_PP</th>\n      <th>SDQ_SDQ_Conduct_Problems</th>\n      <th>SDQ_SDQ_Difficulties_Total</th>\n      <th>SDQ_SDQ_Emotional_Problems</th>\n      <th>SDQ_SDQ_Externalizing</th>\n      <th>SDQ_SDQ_Generating_Impact</th>\n      <th>SDQ_SDQ_Hyperactivity</th>\n      <th>SDQ_SDQ_Internalizing</th>\n      <th>SDQ_SDQ_Peer_Problems</th>\n      <th>SDQ_SDQ_Prosocial</th>\n      <th>MRI_Track_Age_at_Scan</th>\n    </tr>\n    <tr>\n      <th>participant_id</th>\n      <th></th>\n      <th></th>\n      <th></th>\n      <th></th>\n      <th></th>\n      <th></th>\n      <th></th>\n      <th></th>\n      <th></th>\n      <th></th>\n      <th></th>\n      <th></th>\n      <th></th>\n      <th></th>\n      <th></th>\n      <th></th>\n      <th></th>\n      <th></th>\n    </tr>\n  </thead>\n  <tbody>\n    <tr>\n      <th>00aIpNTbG5uh</th>\n      <td>100.00</td>\n      <td>13.0</td>\n      <td>3.0</td>\n      <td>15.0</td>\n      <td>44.0</td>\n      <td>14.0</td>\n      <td>20.0</td>\n      <td>27.0</td>\n      <td>3.0</td>\n      <td>17.0</td>\n      <td>4.0</td>\n      <td>11.0</td>\n      <td>5.0</td>\n      <td>8.0</td>\n      <td>6.0</td>\n      <td>2.0</td>\n      <td>9.0</td>\n      <td>14.274127</td>\n    </tr>\n    <tr>\n      <th>00fV0OyyoLfw</th>\n      <td>92.27</td>\n      <td>14.0</td>\n      <td>3.0</td>\n      <td>12.0</td>\n      <td>35.0</td>\n      <td>25.0</td>\n      <td>28.0</td>\n      <td>30.0</td>\n      <td>5.0</td>\n      <td>20.0</td>\n      <td>4.0</td>\n      <td>13.0</td>\n      <td>5.0</td>\n      <td>8.0</td>\n      <td>7.0</td>\n      <td>3.0</td>\n      <td>8.0</td>\n      <td>14.278626</td>\n    </tr>\n    <tr>\n      <th>04X1eiS79T4B</th>\n      <td>86.67</td>\n      <td>14.0</td>\n      <td>3.0</td>\n      <td>21.0</td>\n      <td>37.0</td>\n      <td>18.0</td>\n      <td>26.0</td>\n      <td>28.0</td>\n      <td>3.0</td>\n      <td>24.0</td>\n      <td>7.0</td>\n      <td>10.0</td>\n      <td>10.0</td>\n      <td>7.0</td>\n      <td>14.0</td>\n      <td>7.0</td>\n      <td>7.0</td>\n      <td>13.463381</td>\n    </tr>\n    <tr>\n      <th>05ocQutkURd6</th>\n      <td>93.34</td>\n      <td>14.0</td>\n      <td>3.0</td>\n      <td>11.0</td>\n      <td>42.0</td>\n      <td>15.0</td>\n      <td>20.0</td>\n      <td>28.0</td>\n      <td>0.0</td>\n      <td>5.0</td>\n      <td>0.0</td>\n      <td>3.0</td>\n      <td>0.0</td>\n      <td>3.0</td>\n      <td>2.0</td>\n      <td>2.0</td>\n      <td>6.0</td>\n      <td>9.572553</td>\n    </tr>\n    <tr>\n      <th>06YUNBA9ZRLq</th>\n      <td>0.00</td>\n      <td>14.0</td>\n      <td>8.0</td>\n      <td>12.0</td>\n      <td>35.0</td>\n      <td>22.0</td>\n      <td>12.0</td>\n      <td>24.0</td>\n      <td>6.0</td>\n      <td>23.0</td>\n      <td>7.0</td>\n      <td>15.0</td>\n      <td>8.0</td>\n      <td>9.0</td>\n      <td>8.0</td>\n      <td>1.0</td>\n      <td>4.0</td>\n      <td>6.654574</td>\n    </tr>\n  </tbody>\n</table>\n</div>"
     },
     "execution_count": 52,
     "metadata": {},
     "output_type": "execute_result"
    }
   ],
   "source": [
    "train_quant.head()"
   ]
  },
  {
   "cell_type": "markdown",
   "source": [
    "## One-Hot-Encoding on train_cat and test_cat to encode categorical variables with no hierarchy \n",
    "Turn the numbers into their labels using the values provided in the data dictionary.\n",
    "Use pandas to perform one-hot encoding so that the models can interpret the binary values instead of arbitrary numbers."
   ],
   "metadata": {
    "collapsed": false
   },
   "id": "b6c7a9e2e5b978ff"
  },
  {
   "cell_type": "code",
   "outputs": [
    {
     "data": {
      "text/plain": "                Basic_Demos_Enroll_Year  Basic_Demos_Study_Site_Harlem  \\\nparticipant_id                                                           \n00aIpNTbG5uh                       2019                              1   \n00fV0OyyoLfw                       2017                              0   \n04X1eiS79T4B                       2017                              0   \n05ocQutkURd6                       2018                              0   \n06YUNBA9ZRLq                       2018                              0   \n\n                Basic_Demos_Study_Site_MRV  Basic_Demos_Study_Site_Midtown  \\\nparticipant_id                                                               \n00aIpNTbG5uh                             0                               0   \n00fV0OyyoLfw                             0                               0   \n04X1eiS79T4B                             0                               0   \n05ocQutkURd6                             0                               0   \n06YUNBA9ZRLq                             0                               0   \n\n                Basic_Demos_Study_Site_Staten Island  \\\nparticipant_id                                         \n00aIpNTbG5uh                                       0   \n00fV0OyyoLfw                                       1   \n04X1eiS79T4B                                       1   \n05ocQutkURd6                                       1   \n06YUNBA9ZRLq                                       1   \n\n                PreInt_Demos_Fam_Child_Ethnicity_0.4358974358974359  \\\nparticipant_id                                                        \n00aIpNTbG5uh                                                    0     \n00fV0OyyoLfw                                                    0     \n04X1eiS79T4B                                                    0     \n05ocQutkURd6                                                    0     \n06YUNBA9ZRLq                                                    0     \n\n                PreInt_Demos_Fam_Child_Ethnicity_Decline to specify  \\\nparticipant_id                                                        \n00aIpNTbG5uh                                                    0     \n00fV0OyyoLfw                                                    0     \n04X1eiS79T4B                                                    0     \n05ocQutkURd6                                                    0     \n06YUNBA9ZRLq                                                    0     \n\n                PreInt_Demos_Fam_Child_Ethnicity_Hispanic or Latino  \\\nparticipant_id                                                        \n00aIpNTbG5uh                                                    1     \n00fV0OyyoLfw                                                    0     \n04X1eiS79T4B                                                    1     \n05ocQutkURd6                                                    0     \n06YUNBA9ZRLq                                                    0     \n\n                PreInt_Demos_Fam_Child_Ethnicity_Not Hispanic or Latino  \\\nparticipant_id                                                            \n00aIpNTbG5uh                                                    0         \n00fV0OyyoLfw                                                    1         \n04X1eiS79T4B                                                    0         \n05ocQutkURd6                                                    0         \n06YUNBA9ZRLq                                                    1         \n\n                PreInt_Demos_Fam_Child_Ethnicity_Unknown  ...  \\\nparticipant_id                                            ...   \n00aIpNTbG5uh                                           0  ...   \n00fV0OyyoLfw                                           0  ...   \n04X1eiS79T4B                                           0  ...   \n05ocQutkURd6                                           1  ...   \n06YUNBA9ZRLq                                           0  ...   \n\n                Barratt_Barratt_P2_Occ_Automobile mechanic, typist, locksmith, farmer, carpenter, receptionist, construction laborer, hairdresser.  \\\nparticipant_id                                                                                                                                       \n00aIpNTbG5uh                                                    0                                                                                    \n00fV0OyyoLfw                                                    0                                                                                    \n04X1eiS79T4B                                                    0                                                                                    \n05ocQutkURd6                                                    0                                                                                    \n06YUNBA9ZRLq                                                    0                                                                                    \n\n                Barratt_Barratt_P2_Occ_Day laborer, janitor, house cleaner, farm worker, food counter sales, food preparation worker, busboy.  \\\nparticipant_id                                                                                                                                  \n00aIpNTbG5uh                                                    0                                                                               \n00fV0OyyoLfw                                                    0                                                                               \n04X1eiS79T4B                                                    0                                                                               \n05ocQutkURd6                                                    0                                                                               \n06YUNBA9ZRLq                                                    0                                                                               \n\n                Barratt_Barratt_P2_Occ_Garbage collector, short-order cook, cab driver, shoe sales, assembly line workers, masons, baggage porter.  \\\nparticipant_id                                                                                                                                       \n00aIpNTbG5uh                                                    0                                                                                    \n00fV0OyyoLfw                                                    0                                                                                    \n04X1eiS79T4B                                                    0                                                                                    \n05ocQutkURd6                                                    0                                                                                    \n06YUNBA9ZRLq                                                    0                                                                                    \n\n                Barratt_Barratt_P2_Occ_Homemaker, stay at home parent.  \\\nparticipant_id                                                           \n00aIpNTbG5uh                                                    0        \n00fV0OyyoLfw                                                    0        \n04X1eiS79T4B                                                    0        \n05ocQutkURd6                                                    1        \n06YUNBA9ZRLq                                                    0        \n\n                Barratt_Barratt_P2_Occ_Machinist, musician, bookkeeper, secretary, insurance sales, cabinet maker, personnel specialist, welder.  \\\nparticipant_id                                                                                                                                     \n00aIpNTbG5uh                                                    0                                                                                  \n00fV0OyyoLfw                                                    0                                                                                  \n04X1eiS79T4B                                                    0                                                                                  \n05ocQutkURd6                                                    0                                                                                  \n06YUNBA9ZRLq                                                    0                                                                                  \n\n                Barratt_Barratt_P2_Occ_Mechanical, nuclear, and electrical engineer, educational administrator, veterinarian, military officer, elementary, high school and special education teacher.  \\\nparticipant_id                                                                                                                                                                                           \n00aIpNTbG5uh                                                    0                                                                                                                                        \n00fV0OyyoLfw                                                    0                                                                                                                                        \n04X1eiS79T4B                                                    0                                                                                                                                        \n05ocQutkURd6                                                    0                                                                                                                                        \n06YUNBA9ZRLq                                                    0                                                                                                                                        \n\n                Barratt_Barratt_P2_Occ_Nurse, skilled technician, medical technician, counselor, manager, police and fire personnel, financial manager, physical, occupational, speech therapist.  \\\nparticipant_id                                                                                                                                                                                      \n00aIpNTbG5uh                                                    0                                                                                                                                   \n00fV0OyyoLfw                                                    0                                                                                                                                   \n04X1eiS79T4B                                                    0                                                                                                                                   \n05ocQutkURd6                                                    0                                                                                                                                   \n06YUNBA9ZRLq                                                    0                                                                                                                                   \n\n                Barratt_Barratt_P2_Occ_Painter, skilled construction trade, sales clerk, truck driver, cook, sales counter or general office clerk.  \\\nparticipant_id                                                                                                                                        \n00aIpNTbG5uh                                                    0                                                                                     \n00fV0OyyoLfw                                                    0                                                                                     \n04X1eiS79T4B                                                    0                                                                                     \n05ocQutkURd6                                                    0                                                                                     \n06YUNBA9ZRLq                                                    0                                                                                     \n\n                Barratt_Barratt_P2_Occ_Physician, attorney, professor, chemical and aerospace engineer, judge, CEO, senior manager, public official, psychologist, pharmacist, accountant.  \\\nparticipant_id                                                                                                                                                                               \n00aIpNTbG5uh                                                    0                                                                                                                            \n00fV0OyyoLfw                                                    1                                                                                                                            \n04X1eiS79T4B                                                    0                                                                                                                            \n05ocQutkURd6                                                    0                                                                                                                            \n06YUNBA9ZRLq                                                    0                                                                                                                            \n\n                Barratt_Barratt_P2_Occ_Supervisor, librarian, aircraft mechanic, artist and artisan, electrician, administrator, military enlisted personnel, buyer.  \nparticipant_id                                                                                                                                                        \n00aIpNTbG5uh                                                    0                                                                                                     \n00fV0OyyoLfw                                                    0                                                                                                     \n04X1eiS79T4B                                                    0                                                                                                     \n05ocQutkURd6                                                    0                                                                                                     \n06YUNBA9ZRLq                                                    0                                                                                                     \n\n[5 rows x 520 columns]",
      "text/html": "<div>\n<style scoped>\n    .dataframe tbody tr th:only-of-type {\n        vertical-align: middle;\n    }\n\n    .dataframe tbody tr th {\n        vertical-align: top;\n    }\n\n    .dataframe thead th {\n        text-align: right;\n    }\n</style>\n<table border=\"1\" class=\"dataframe\">\n  <thead>\n    <tr style=\"text-align: right;\">\n      <th></th>\n      <th>Basic_Demos_Enroll_Year</th>\n      <th>Basic_Demos_Study_Site_Harlem</th>\n      <th>Basic_Demos_Study_Site_MRV</th>\n      <th>Basic_Demos_Study_Site_Midtown</th>\n      <th>Basic_Demos_Study_Site_Staten Island</th>\n      <th>PreInt_Demos_Fam_Child_Ethnicity_0.4358974358974359</th>\n      <th>PreInt_Demos_Fam_Child_Ethnicity_Decline to specify</th>\n      <th>PreInt_Demos_Fam_Child_Ethnicity_Hispanic or Latino</th>\n      <th>PreInt_Demos_Fam_Child_Ethnicity_Not Hispanic or Latino</th>\n      <th>PreInt_Demos_Fam_Child_Ethnicity_Unknown</th>\n      <th>...</th>\n      <th>Barratt_Barratt_P2_Occ_Automobile mechanic, typist, locksmith, farmer, carpenter, receptionist, construction laborer, hairdresser.</th>\n      <th>Barratt_Barratt_P2_Occ_Day laborer, janitor, house cleaner, farm worker, food counter sales, food preparation worker, busboy.</th>\n      <th>Barratt_Barratt_P2_Occ_Garbage collector, short-order cook, cab driver, shoe sales, assembly line workers, masons, baggage porter.</th>\n      <th>Barratt_Barratt_P2_Occ_Homemaker, stay at home parent.</th>\n      <th>Barratt_Barratt_P2_Occ_Machinist, musician, bookkeeper, secretary, insurance sales, cabinet maker, personnel specialist, welder.</th>\n      <th>Barratt_Barratt_P2_Occ_Mechanical, nuclear, and electrical engineer, educational administrator, veterinarian, military officer, elementary, high school and special education teacher.</th>\n      <th>Barratt_Barratt_P2_Occ_Nurse, skilled technician, medical technician, counselor, manager, police and fire personnel, financial manager, physical, occupational, speech therapist.</th>\n      <th>Barratt_Barratt_P2_Occ_Painter, skilled construction trade, sales clerk, truck driver, cook, sales counter or general office clerk.</th>\n      <th>Barratt_Barratt_P2_Occ_Physician, attorney, professor, chemical and aerospace engineer, judge, CEO, senior manager, public official, psychologist, pharmacist, accountant.</th>\n      <th>Barratt_Barratt_P2_Occ_Supervisor, librarian, aircraft mechanic, artist and artisan, electrician, administrator, military enlisted personnel, buyer.</th>\n    </tr>\n    <tr>\n      <th>participant_id</th>\n      <th></th>\n      <th></th>\n      <th></th>\n      <th></th>\n      <th></th>\n      <th></th>\n      <th></th>\n      <th></th>\n      <th></th>\n      <th></th>\n      <th></th>\n      <th></th>\n      <th></th>\n      <th></th>\n      <th></th>\n      <th></th>\n      <th></th>\n      <th></th>\n      <th></th>\n      <th></th>\n      <th></th>\n    </tr>\n  </thead>\n  <tbody>\n    <tr>\n      <th>00aIpNTbG5uh</th>\n      <td>2019</td>\n      <td>1</td>\n      <td>0</td>\n      <td>0</td>\n      <td>0</td>\n      <td>0</td>\n      <td>0</td>\n      <td>1</td>\n      <td>0</td>\n      <td>0</td>\n      <td>...</td>\n      <td>0</td>\n      <td>0</td>\n      <td>0</td>\n      <td>0</td>\n      <td>0</td>\n      <td>0</td>\n      <td>0</td>\n      <td>0</td>\n      <td>0</td>\n      <td>0</td>\n    </tr>\n    <tr>\n      <th>00fV0OyyoLfw</th>\n      <td>2017</td>\n      <td>0</td>\n      <td>0</td>\n      <td>0</td>\n      <td>1</td>\n      <td>0</td>\n      <td>0</td>\n      <td>0</td>\n      <td>1</td>\n      <td>0</td>\n      <td>...</td>\n      <td>0</td>\n      <td>0</td>\n      <td>0</td>\n      <td>0</td>\n      <td>0</td>\n      <td>0</td>\n      <td>0</td>\n      <td>0</td>\n      <td>1</td>\n      <td>0</td>\n    </tr>\n    <tr>\n      <th>04X1eiS79T4B</th>\n      <td>2017</td>\n      <td>0</td>\n      <td>0</td>\n      <td>0</td>\n      <td>1</td>\n      <td>0</td>\n      <td>0</td>\n      <td>1</td>\n      <td>0</td>\n      <td>0</td>\n      <td>...</td>\n      <td>0</td>\n      <td>0</td>\n      <td>0</td>\n      <td>0</td>\n      <td>0</td>\n      <td>0</td>\n      <td>0</td>\n      <td>0</td>\n      <td>0</td>\n      <td>0</td>\n    </tr>\n    <tr>\n      <th>05ocQutkURd6</th>\n      <td>2018</td>\n      <td>0</td>\n      <td>0</td>\n      <td>0</td>\n      <td>1</td>\n      <td>0</td>\n      <td>0</td>\n      <td>0</td>\n      <td>0</td>\n      <td>1</td>\n      <td>...</td>\n      <td>0</td>\n      <td>0</td>\n      <td>0</td>\n      <td>1</td>\n      <td>0</td>\n      <td>0</td>\n      <td>0</td>\n      <td>0</td>\n      <td>0</td>\n      <td>0</td>\n    </tr>\n    <tr>\n      <th>06YUNBA9ZRLq</th>\n      <td>2018</td>\n      <td>0</td>\n      <td>0</td>\n      <td>0</td>\n      <td>1</td>\n      <td>0</td>\n      <td>0</td>\n      <td>0</td>\n      <td>1</td>\n      <td>0</td>\n      <td>...</td>\n      <td>0</td>\n      <td>0</td>\n      <td>0</td>\n      <td>0</td>\n      <td>0</td>\n      <td>0</td>\n      <td>0</td>\n      <td>0</td>\n      <td>0</td>\n      <td>0</td>\n    </tr>\n  </tbody>\n</table>\n<p>5 rows × 520 columns</p>\n</div>"
     },
     "execution_count": 53,
     "metadata": {},
     "output_type": "execute_result"
    }
   ],
   "source": [
    "# Categorical Encodings\n",
    "Basic_Demos_Study_Site = {\n",
    "    1: \"Staten Island\",\n",
    "    2: \"MRV\",\n",
    "    3: \"Midtown\",\n",
    "    4: \"Harlem\",\n",
    "    5: \"SI RUMC\",\n",
    "}\n",
    "PreInt_Demos_Fam_Child_Ethnicity = {\n",
    "    0: \"Not Hispanic or Latino\",\n",
    "    1: \"Hispanic or Latino\",\n",
    "    2: \"Decline to specify\",\n",
    "    3: \"Unknown\"\n",
    "}\n",
    "PreInt_Demos_Fam_Child_Race = {\n",
    "  0: \"White/Caucasian\",\n",
    "  1: \"Black/African American\",\n",
    "  2: \"Hispanic\",\n",
    "  3: \"Asian\",\n",
    "  4: \"Indian\",\n",
    "  5: \"Native American Indian\",\n",
    "  6: \"American Indian/Alaskan Native\",\n",
    "  7: \"Native Hawaiian/Other Pacific Islander\",\n",
    "  8: \"Two or more races\",\n",
    "  9: \"Other race\",\n",
    "  10: \"Unknown\",\n",
    "  11: \"Chose not to specify\"}\n",
    "MRI_Track_Scan_Location = {\n",
    "    1: \"Staten Island\",\n",
    "    2: \"RUBIC\", \n",
    "    3: \"CBIC\",\n",
    "    4: \"CUNY\"\n",
    "}\n",
    "Barratt_Barratt_P1_Edu = {\n",
    "    3: \"Less than 7th grade\",\n",
    "    6: \"Junior high/Middle school (9th grade)\",\n",
    "    9: \"Partial high school (10th or 11th grade)\",\n",
    "    12: \"High school graduate\",\n",
    "    15: \"Partial college (at least one year)\",\n",
    "    18: \"College education\",\n",
    "    21: \"Graduate degree\"\n",
    "}\n",
    "Barratt_Barratt_P1_Occ = {\n",
    "    0: \"Homemaker, stay at home parent.\",\n",
    "    5: \"Day laborer, janitor, house cleaner, farm worker, food counter sales, food preparation worker, busboy.\",\n",
    "    10: \"Garbage collector, short-order cook, cab driver, shoe sales, assembly line workers, masons, baggage porter.\",\n",
    "    15: \"Painter, skilled construction trade, sales clerk, truck driver, cook, sales counter or general office clerk.\",\n",
    "    20: \"Automobile mechanic, typist, locksmith, farmer, carpenter, receptionist, construction laborer, hairdresser.\",\n",
    "    25: \"Machinist, musician, bookkeeper, secretary, insurance sales, cabinet maker, personnel specialist, welder.\",\n",
    "    30: \"Supervisor, librarian, aircraft mechanic, artist and artisan, electrician, administrator, military enlisted personnel, buyer.\",\n",
    "    35: \"Nurse, skilled technician, medical technician, counselor, manager, police and fire personnel, financial manager, physical, occupational, speech therapist.\",\n",
    "    40: \"Mechanical, nuclear, and electrical engineer, educational administrator, veterinarian, military officer, elementary, high school and special education teacher.\",\n",
    "    45: \"Physician, attorney, professor, chemical and aerospace engineer, judge, CEO, senior manager, public official, psychologist, pharmacist, accountant.\"\n",
    "}\n",
    "Barratt_Barratt_P2_Edu = {\n",
    "    3: \"Less than 7th grade\",\n",
    "    6: \"Junior high/Middle school (9th grade)\",\n",
    "    9: \"Partial high school (10th or 11th grade)\",\n",
    "    12: \"High school graduate\",\n",
    "    15: \"Partial college (at least one year)\",\n",
    "    18: \"College education\",\n",
    "    21: \"Graduate degree\"\n",
    "}\n",
    "Barratt_Barratt_P2_Occ = {\n",
    "    0: \"Homemaker, stay at home parent.\",\n",
    "    5: \"Day laborer, janitor, house cleaner, farm worker, food counter sales, food preparation worker, busboy.\",\n",
    "    10: \"Garbage collector, short-order cook, cab driver, shoe sales, assembly line workers, masons, baggage porter.\",\n",
    "    15: \"Painter, skilled construction trade, sales clerk, truck driver, cook, sales counter or general office clerk.\",\n",
    "    20: \"Automobile mechanic, typist, locksmith, farmer, carpenter, receptionist, construction laborer, hairdresser.\",\n",
    "    25: \"Machinist, musician, bookkeeper, secretary, insurance sales, cabinet maker, personnel specialist, welder.\",\n",
    "    30: \"Supervisor, librarian, aircraft mechanic, artist and artisan, electrician, administrator, military enlisted personnel, buyer.\",\n",
    "    35: \"Nurse, skilled technician, medical technician, counselor, manager, police and fire personnel, financial manager, physical, occupational, speech therapist.\",\n",
    "    40: \"Mechanical, nuclear, and electrical engineer, educational administrator, veterinarian, military officer, elementary, high school and special education teacher.\",\n",
    "    45: \"Physician, attorney, professor, chemical and aerospace engineer, judge, CEO, senior manager, public official, psychologist, pharmacist, accountant.\",\n",
    "}\n",
    "\n",
    "# Apply label replacements using the dictionaries\n",
    "train_cat[\"Basic_Demos_Study_Site\"] = train_cat[\"Basic_Demos_Study_Site\"].replace(Basic_Demos_Study_Site)\n",
    "train_cat[\"PreInt_Demos_Fam_Child_Ethnicity\"] = train_cat[\"PreInt_Demos_Fam_Child_Ethnicity\"].replace(PreInt_Demos_Fam_Child_Ethnicity)\n",
    "train_cat[\"PreInt_Demos_Fam_Child_Race\"] = train_cat[\"PreInt_Demos_Fam_Child_Race\"].replace(PreInt_Demos_Fam_Child_Race)\n",
    "train_cat[\"MRI_Track_Scan_Location\"] = train_cat[\"MRI_Track_Scan_Location\"].replace(MRI_Track_Scan_Location)\n",
    "train_cat[\"Barratt_Barratt_P1_Edu\"] = train_cat[\"Barratt_Barratt_P1_Edu\"].replace(Barratt_Barratt_P1_Edu)\n",
    "train_cat[\"Barratt_Barratt_P1_Occ\"] = train_cat[\"Barratt_Barratt_P1_Occ\"].replace(Barratt_Barratt_P1_Occ)\n",
    "train_cat[\"Barratt_Barratt_P2_Edu\"] = train_cat[\"Barratt_Barratt_P2_Edu\"].replace(Barratt_Barratt_P2_Edu)\n",
    "train_cat[\"Barratt_Barratt_P2_Occ\"] = train_cat[\"Barratt_Barratt_P2_Occ\"].replace(Barratt_Barratt_P2_Occ)\n",
    "\n",
    "# One-hot encode all columns except 'participant_id' and 'Basic_Demos_Enroll_Year' for train\n",
    "train_cat_encoded = pd.get_dummies(\n",
    "    train_cat,\n",
    "    columns=[\n",
    "        \"Basic_Demos_Study_Site\",\n",
    "        \"PreInt_Demos_Fam_Child_Ethnicity\",\n",
    "        \"PreInt_Demos_Fam_Child_Race\",\n",
    "        \"MRI_Track_Scan_Location\",\n",
    "        \"Barratt_Barratt_P1_Edu\",\n",
    "        \"Barratt_Barratt_P1_Occ\",\n",
    "        \"Barratt_Barratt_P2_Edu\",\n",
    "        \"Barratt_Barratt_P2_Occ\",\n",
    "    ],\n",
    "    drop_first=False,  # Set to True if you want to drop the first category to avoid multicollinearity\n",
    ")\n",
    "\n",
    "train_cat_encoded = train_cat_encoded.astype(int)\n",
    "\n",
    "# Apply label replacements using the dictionaries for test set\n",
    "test_cat[\"Basic_Demos_Study_Site\"] = test_cat[\"Basic_Demos_Study_Site\"].replace(Basic_Demos_Study_Site)\n",
    "test_cat[\"PreInt_Demos_Fam_Child_Ethnicity\"] = test_cat[\"PreInt_Demos_Fam_Child_Ethnicity\"].replace(PreInt_Demos_Fam_Child_Ethnicity)\n",
    "test_cat[\"PreInt_Demos_Fam_Child_Race\"] = test_cat[\"PreInt_Demos_Fam_Child_Race\"].replace(PreInt_Demos_Fam_Child_Race)\n",
    "test_cat[\"MRI_Track_Scan_Location\"] = test_cat[\"MRI_Track_Scan_Location\"].replace(MRI_Track_Scan_Location)\n",
    "test_cat[\"Barratt_Barratt_P1_Edu\"] = test_cat[\"Barratt_Barratt_P1_Edu\"].replace(Barratt_Barratt_P1_Edu)\n",
    "test_cat[\"Barratt_Barratt_P1_Occ\"] = test_cat[\"Barratt_Barratt_P1_Occ\"].replace(Barratt_Barratt_P1_Occ)\n",
    "test_cat[\"Barratt_Barratt_P2_Edu\"] = test_cat[\"Barratt_Barratt_P2_Edu\"].replace(Barratt_Barratt_P2_Edu)\n",
    "test_cat[\"Barratt_Barratt_P2_Occ\"] = test_cat[\"Barratt_Barratt_P2_Occ\"].replace(Barratt_Barratt_P2_Occ)\n",
    "\n",
    "# One-hot encode all columns for the test set (with the same categories as train)\n",
    "test_cat_encoded = pd.get_dummies(\n",
    "    test_cat,\n",
    "    columns=[\n",
    "        \"Basic_Demos_Study_Site\",\n",
    "        \"PreInt_Demos_Fam_Child_Ethnicity\",\n",
    "        \"PreInt_Demos_Fam_Child_Race\",\n",
    "        \"MRI_Track_Scan_Location\",\n",
    "        \"Barratt_Barratt_P1_Edu\",\n",
    "        \"Barratt_Barratt_P1_Occ\",\n",
    "        \"Barratt_Barratt_P2_Edu\",\n",
    "        \"Barratt_Barratt_P2_Occ\",\n",
    "    ],\n",
    "    drop_first=False,\n",
    ")\n",
    "\n",
    "test_cat_encoded = test_cat_encoded.astype(int)\n",
    "\n",
    "test_cat_encoded = test_cat_encoded.reindex(columns=train_cat_encoded.columns, fill_value=0)\n",
    "\n",
    "train_cat_encoded.head()\n",
    "#test_cat_encoded.head()"
   ],
   "metadata": {
    "collapsed": false,
    "ExecuteTime": {
     "end_time": "2025-04-28T20:46:22.570843Z",
     "start_time": "2025-04-28T20:46:22.422224Z"
    }
   },
   "id": "de0b50b5c3e3d03b",
   "execution_count": 53
  },
  {
   "cell_type": "markdown",
   "id": "87099bf1a77809d8",
   "metadata": {
    "collapsed": false
   },
   "source": [
    "## Feature Selection for train_quant using K clustering"
   ]
  },
  {
   "cell_type": "code",
   "execution_count": 54,
   "id": "f67d283a7b1706d0",
   "metadata": {
    "ExecuteTime": {
     "end_time": "2025-04-28T20:46:22.588151Z",
     "start_time": "2025-04-28T20:46:22.459963Z"
    }
   },
   "outputs": [
    {
     "data": {
      "text/plain": "                EHQ_EHQ_Total  ColorVision_CV_Score  APQ_P_APQ_P_CP  \\\nparticipant_id                                                        \nCfwaf5FX7jWK            60.03                  14.0             5.0   \nvhGrzmvA3Hjq            86.71                  12.0             3.0   \nULliyEXjy4OV            26.68                  13.0             3.0   \nLZfeAb1xMtql            93.38                  13.0             3.0   \nEnFOUv0YK1RG           -93.38                  14.0             3.0   \n\n                APQ_P_APQ_P_ID  APQ_P_APQ_P_INV  APQ_P_APQ_P_OPD  \\\nparticipant_id                                                     \nCfwaf5FX7jWK              16.0             41.0             19.0   \nvhGrzmvA3Hjq              13.0             43.0             18.0   \nULliyEXjy4OV              14.0             36.0             16.0   \nLZfeAb1xMtql              19.0             41.0             17.0   \nEnFOUv0YK1RG              13.0             42.0             19.0   \n\n                APQ_P_APQ_P_PM  APQ_P_APQ_P_PP  SDQ_SDQ_Conduct_Problems  \\\nparticipant_id                                                             \nCfwaf5FX7jWK              11.0            26.0                       2.0   \nvhGrzmvA3Hjq              15.0            28.0                       2.0   \nULliyEXjy4OV              14.0            25.0                       1.0   \nLZfeAb1xMtql              18.0            27.0                       4.0   \nEnFOUv0YK1RG              16.0            28.0                       2.0   \n\n                SDQ_SDQ_Difficulties_Total  ...  fmri_pca_41  fmri_pca_42  \\\nparticipant_id                              ...                             \nCfwaf5FX7jWK                          12.0  ...    -1.742198    -1.104064   \nvhGrzmvA3Hjq                          16.0  ...    -1.084569    -2.001920   \nULliyEXjy4OV                           7.0  ...     0.495617     0.194214   \nLZfeAb1xMtql                          15.0  ...     1.671720    -0.724728   \nEnFOUv0YK1RG                          18.0  ...    -0.550988     0.403766   \n\n                fmri_pca_43  fmri_pca_44  fmri_pca_45  fmri_pca_46  \\\nparticipant_id                                                       \nCfwaf5FX7jWK       0.493018    -0.476232     2.631934     0.537296   \nvhGrzmvA3Hjq      -0.632775     2.851724    -0.586700    -3.291825   \nULliyEXjy4OV      -1.124200     0.301353     3.017943     1.211216   \nLZfeAb1xMtql       0.528166    -0.884385     0.080298     0.295043   \nEnFOUv0YK1RG      -0.758231     2.247869    -0.461880    -2.343593   \n\n                fmri_pca_47  fmri_pca_48  fmri_pca_49  fmri_pca_50  \nparticipant_id                                                      \nCfwaf5FX7jWK       1.785159     1.578776     0.457824    -0.405805  \nvhGrzmvA3Hjq      -0.035094     1.291278     1.895738    -0.000252  \nULliyEXjy4OV       4.116044    -0.649670    -0.530827     0.357612  \nLZfeAb1xMtql       2.343871     0.212618     1.100562     0.281359  \nEnFOUv0YK1RG       0.543796    -2.583071     0.462248    -1.472230  \n\n[5 rows x 588 columns]",
      "text/html": "<div>\n<style scoped>\n    .dataframe tbody tr th:only-of-type {\n        vertical-align: middle;\n    }\n\n    .dataframe tbody tr th {\n        vertical-align: top;\n    }\n\n    .dataframe thead th {\n        text-align: right;\n    }\n</style>\n<table border=\"1\" class=\"dataframe\">\n  <thead>\n    <tr style=\"text-align: right;\">\n      <th></th>\n      <th>EHQ_EHQ_Total</th>\n      <th>ColorVision_CV_Score</th>\n      <th>APQ_P_APQ_P_CP</th>\n      <th>APQ_P_APQ_P_ID</th>\n      <th>APQ_P_APQ_P_INV</th>\n      <th>APQ_P_APQ_P_OPD</th>\n      <th>APQ_P_APQ_P_PM</th>\n      <th>APQ_P_APQ_P_PP</th>\n      <th>SDQ_SDQ_Conduct_Problems</th>\n      <th>SDQ_SDQ_Difficulties_Total</th>\n      <th>...</th>\n      <th>fmri_pca_41</th>\n      <th>fmri_pca_42</th>\n      <th>fmri_pca_43</th>\n      <th>fmri_pca_44</th>\n      <th>fmri_pca_45</th>\n      <th>fmri_pca_46</th>\n      <th>fmri_pca_47</th>\n      <th>fmri_pca_48</th>\n      <th>fmri_pca_49</th>\n      <th>fmri_pca_50</th>\n    </tr>\n    <tr>\n      <th>participant_id</th>\n      <th></th>\n      <th></th>\n      <th></th>\n      <th></th>\n      <th></th>\n      <th></th>\n      <th></th>\n      <th></th>\n      <th></th>\n      <th></th>\n      <th></th>\n      <th></th>\n      <th></th>\n      <th></th>\n      <th></th>\n      <th></th>\n      <th></th>\n      <th></th>\n      <th></th>\n      <th></th>\n      <th></th>\n    </tr>\n  </thead>\n  <tbody>\n    <tr>\n      <th>Cfwaf5FX7jWK</th>\n      <td>60.03</td>\n      <td>14.0</td>\n      <td>5.0</td>\n      <td>16.0</td>\n      <td>41.0</td>\n      <td>19.0</td>\n      <td>11.0</td>\n      <td>26.0</td>\n      <td>2.0</td>\n      <td>12.0</td>\n      <td>...</td>\n      <td>-1.742198</td>\n      <td>-1.104064</td>\n      <td>0.493018</td>\n      <td>-0.476232</td>\n      <td>2.631934</td>\n      <td>0.537296</td>\n      <td>1.785159</td>\n      <td>1.578776</td>\n      <td>0.457824</td>\n      <td>-0.405805</td>\n    </tr>\n    <tr>\n      <th>vhGrzmvA3Hjq</th>\n      <td>86.71</td>\n      <td>12.0</td>\n      <td>3.0</td>\n      <td>13.0</td>\n      <td>43.0</td>\n      <td>18.0</td>\n      <td>15.0</td>\n      <td>28.0</td>\n      <td>2.0</td>\n      <td>16.0</td>\n      <td>...</td>\n      <td>-1.084569</td>\n      <td>-2.001920</td>\n      <td>-0.632775</td>\n      <td>2.851724</td>\n      <td>-0.586700</td>\n      <td>-3.291825</td>\n      <td>-0.035094</td>\n      <td>1.291278</td>\n      <td>1.895738</td>\n      <td>-0.000252</td>\n    </tr>\n    <tr>\n      <th>ULliyEXjy4OV</th>\n      <td>26.68</td>\n      <td>13.0</td>\n      <td>3.0</td>\n      <td>14.0</td>\n      <td>36.0</td>\n      <td>16.0</td>\n      <td>14.0</td>\n      <td>25.0</td>\n      <td>1.0</td>\n      <td>7.0</td>\n      <td>...</td>\n      <td>0.495617</td>\n      <td>0.194214</td>\n      <td>-1.124200</td>\n      <td>0.301353</td>\n      <td>3.017943</td>\n      <td>1.211216</td>\n      <td>4.116044</td>\n      <td>-0.649670</td>\n      <td>-0.530827</td>\n      <td>0.357612</td>\n    </tr>\n    <tr>\n      <th>LZfeAb1xMtql</th>\n      <td>93.38</td>\n      <td>13.0</td>\n      <td>3.0</td>\n      <td>19.0</td>\n      <td>41.0</td>\n      <td>17.0</td>\n      <td>18.0</td>\n      <td>27.0</td>\n      <td>4.0</td>\n      <td>15.0</td>\n      <td>...</td>\n      <td>1.671720</td>\n      <td>-0.724728</td>\n      <td>0.528166</td>\n      <td>-0.884385</td>\n      <td>0.080298</td>\n      <td>0.295043</td>\n      <td>2.343871</td>\n      <td>0.212618</td>\n      <td>1.100562</td>\n      <td>0.281359</td>\n    </tr>\n    <tr>\n      <th>EnFOUv0YK1RG</th>\n      <td>-93.38</td>\n      <td>14.0</td>\n      <td>3.0</td>\n      <td>13.0</td>\n      <td>42.0</td>\n      <td>19.0</td>\n      <td>16.0</td>\n      <td>28.0</td>\n      <td>2.0</td>\n      <td>18.0</td>\n      <td>...</td>\n      <td>-0.550988</td>\n      <td>0.403766</td>\n      <td>-0.758231</td>\n      <td>2.247869</td>\n      <td>-0.461880</td>\n      <td>-2.343593</td>\n      <td>0.543796</td>\n      <td>-2.583071</td>\n      <td>0.462248</td>\n      <td>-1.472230</td>\n    </tr>\n  </tbody>\n</table>\n<p>5 rows × 588 columns</p>\n</div>"
     },
     "execution_count": 54,
     "metadata": {},
     "output_type": "execute_result"
    }
   ],
   "source": [
    "# make participant_id a column\n",
    "train_quant = train_quant.reset_index()\n",
    "train_cat = train_cat_encoded.reset_index()\n",
    "train_soln = train_soln.reset_index()\n",
    "test_quant = test_quant.reset_index()\n",
    "test_cat = test_cat_encoded.reset_index()\n",
    "\n",
    "# Merge everything on participant_id\n",
    "X_full_train = train_quant.merge(train_cat, on='participant_id').merge(train_func_pca, on='participant_id')\n",
    "X_full_test = test_quant.merge(test_cat, on='participant_id').merge(test_func_pca, on='participant_id')\n",
    "\n",
    "# Target labels for model training\n",
    "y = train_soln[['participant_id', 'ADHD_Outcome', 'Sex_F']]\n",
    "\n",
    "# Align rows across X and y\n",
    "X_full_train = X_full_train.merge(y, on='participant_id')\n",
    "X_full_train = X_full_train.drop(columns=['ADHD_Outcome', 'Sex_F'])\n",
    "X_full_train.set_index(\"participant_id\", inplace=True)\n",
    "X_full_test.set_index(\"participant_id\", inplace=True)\n",
    "X_full_test.head()"
   ]
  },
  {
   "cell_type": "code",
   "execution_count": 55,
   "id": "d938a182655bc022",
   "metadata": {
    "ExecuteTime": {
     "end_time": "2025-04-28T20:46:22.589618Z",
     "start_time": "2025-04-28T20:46:22.529245Z"
    }
   },
   "outputs": [
    {
     "data": {
      "text/plain": "                EHQ_EHQ_Total  ColorVision_CV_Score  APQ_P_APQ_P_CP  \\\nparticipant_id                                                        \n00aIpNTbG5uh           100.00                  13.0             3.0   \n00fV0OyyoLfw            92.27                  14.0             3.0   \n04X1eiS79T4B            86.67                  14.0             3.0   \n05ocQutkURd6            93.34                  14.0             3.0   \n06YUNBA9ZRLq             0.00                  14.0             8.0   \n\n                APQ_P_APQ_P_ID  APQ_P_APQ_P_INV  APQ_P_APQ_P_OPD  \\\nparticipant_id                                                     \n00aIpNTbG5uh              15.0             44.0             14.0   \n00fV0OyyoLfw              12.0             35.0             25.0   \n04X1eiS79T4B              21.0             37.0             18.0   \n05ocQutkURd6              11.0             42.0             15.0   \n06YUNBA9ZRLq              12.0             35.0             22.0   \n\n                APQ_P_APQ_P_PM  APQ_P_APQ_P_PP  SDQ_SDQ_Conduct_Problems  \\\nparticipant_id                                                             \n00aIpNTbG5uh              20.0            27.0                       3.0   \n00fV0OyyoLfw              28.0            30.0                       5.0   \n04X1eiS79T4B              26.0            28.0                       3.0   \n05ocQutkURd6              20.0            28.0                       0.0   \n06YUNBA9ZRLq              12.0            24.0                       6.0   \n\n                SDQ_SDQ_Difficulties_Total  ...  fmri_pca_41  fmri_pca_42  \\\nparticipant_id                              ...                             \n00aIpNTbG5uh                          17.0  ...     0.074771    -0.867133   \n00fV0OyyoLfw                          20.0  ...    -0.274862    -0.037864   \n04X1eiS79T4B                          24.0  ...     3.698518    -2.243388   \n05ocQutkURd6                           5.0  ...     1.786929     0.233774   \n06YUNBA9ZRLq                          23.0  ...     1.854073     1.644142   \n\n                fmri_pca_43  fmri_pca_44  fmri_pca_45  fmri_pca_46  \\\nparticipant_id                                                       \n00aIpNTbG5uh      -1.320011    -0.621475    -0.889508     1.811582   \n00fV0OyyoLfw       0.193410    -1.059520     0.250155    -0.769743   \n04X1eiS79T4B      -1.860986     0.599041    -2.419437    -0.638312   \n05ocQutkURd6       2.180655    -1.409129    -4.225646     0.688282   \n06YUNBA9ZRLq       0.751862     0.305654    -1.857752    -1.340609   \n\n                fmri_pca_47  fmri_pca_48  fmri_pca_49  fmri_pca_50  \nparticipant_id                                                      \n00aIpNTbG5uh      -0.807552    -0.879140     4.197603    -3.906602  \n00fV0OyyoLfw       3.121714    -0.859271     2.146147    -0.817614  \n04X1eiS79T4B       0.255009    -0.072727    -2.781938    -2.517083  \n05ocQutkURd6      -1.482971    -2.149111    -2.142751     0.844207  \n06YUNBA9ZRLq       1.679403    -1.592114     0.965482     0.927551  \n\n[5 rows x 588 columns]",
      "text/html": "<div>\n<style scoped>\n    .dataframe tbody tr th:only-of-type {\n        vertical-align: middle;\n    }\n\n    .dataframe tbody tr th {\n        vertical-align: top;\n    }\n\n    .dataframe thead th {\n        text-align: right;\n    }\n</style>\n<table border=\"1\" class=\"dataframe\">\n  <thead>\n    <tr style=\"text-align: right;\">\n      <th></th>\n      <th>EHQ_EHQ_Total</th>\n      <th>ColorVision_CV_Score</th>\n      <th>APQ_P_APQ_P_CP</th>\n      <th>APQ_P_APQ_P_ID</th>\n      <th>APQ_P_APQ_P_INV</th>\n      <th>APQ_P_APQ_P_OPD</th>\n      <th>APQ_P_APQ_P_PM</th>\n      <th>APQ_P_APQ_P_PP</th>\n      <th>SDQ_SDQ_Conduct_Problems</th>\n      <th>SDQ_SDQ_Difficulties_Total</th>\n      <th>...</th>\n      <th>fmri_pca_41</th>\n      <th>fmri_pca_42</th>\n      <th>fmri_pca_43</th>\n      <th>fmri_pca_44</th>\n      <th>fmri_pca_45</th>\n      <th>fmri_pca_46</th>\n      <th>fmri_pca_47</th>\n      <th>fmri_pca_48</th>\n      <th>fmri_pca_49</th>\n      <th>fmri_pca_50</th>\n    </tr>\n    <tr>\n      <th>participant_id</th>\n      <th></th>\n      <th></th>\n      <th></th>\n      <th></th>\n      <th></th>\n      <th></th>\n      <th></th>\n      <th></th>\n      <th></th>\n      <th></th>\n      <th></th>\n      <th></th>\n      <th></th>\n      <th></th>\n      <th></th>\n      <th></th>\n      <th></th>\n      <th></th>\n      <th></th>\n      <th></th>\n      <th></th>\n    </tr>\n  </thead>\n  <tbody>\n    <tr>\n      <th>00aIpNTbG5uh</th>\n      <td>100.00</td>\n      <td>13.0</td>\n      <td>3.0</td>\n      <td>15.0</td>\n      <td>44.0</td>\n      <td>14.0</td>\n      <td>20.0</td>\n      <td>27.0</td>\n      <td>3.0</td>\n      <td>17.0</td>\n      <td>...</td>\n      <td>0.074771</td>\n      <td>-0.867133</td>\n      <td>-1.320011</td>\n      <td>-0.621475</td>\n      <td>-0.889508</td>\n      <td>1.811582</td>\n      <td>-0.807552</td>\n      <td>-0.879140</td>\n      <td>4.197603</td>\n      <td>-3.906602</td>\n    </tr>\n    <tr>\n      <th>00fV0OyyoLfw</th>\n      <td>92.27</td>\n      <td>14.0</td>\n      <td>3.0</td>\n      <td>12.0</td>\n      <td>35.0</td>\n      <td>25.0</td>\n      <td>28.0</td>\n      <td>30.0</td>\n      <td>5.0</td>\n      <td>20.0</td>\n      <td>...</td>\n      <td>-0.274862</td>\n      <td>-0.037864</td>\n      <td>0.193410</td>\n      <td>-1.059520</td>\n      <td>0.250155</td>\n      <td>-0.769743</td>\n      <td>3.121714</td>\n      <td>-0.859271</td>\n      <td>2.146147</td>\n      <td>-0.817614</td>\n    </tr>\n    <tr>\n      <th>04X1eiS79T4B</th>\n      <td>86.67</td>\n      <td>14.0</td>\n      <td>3.0</td>\n      <td>21.0</td>\n      <td>37.0</td>\n      <td>18.0</td>\n      <td>26.0</td>\n      <td>28.0</td>\n      <td>3.0</td>\n      <td>24.0</td>\n      <td>...</td>\n      <td>3.698518</td>\n      <td>-2.243388</td>\n      <td>-1.860986</td>\n      <td>0.599041</td>\n      <td>-2.419437</td>\n      <td>-0.638312</td>\n      <td>0.255009</td>\n      <td>-0.072727</td>\n      <td>-2.781938</td>\n      <td>-2.517083</td>\n    </tr>\n    <tr>\n      <th>05ocQutkURd6</th>\n      <td>93.34</td>\n      <td>14.0</td>\n      <td>3.0</td>\n      <td>11.0</td>\n      <td>42.0</td>\n      <td>15.0</td>\n      <td>20.0</td>\n      <td>28.0</td>\n      <td>0.0</td>\n      <td>5.0</td>\n      <td>...</td>\n      <td>1.786929</td>\n      <td>0.233774</td>\n      <td>2.180655</td>\n      <td>-1.409129</td>\n      <td>-4.225646</td>\n      <td>0.688282</td>\n      <td>-1.482971</td>\n      <td>-2.149111</td>\n      <td>-2.142751</td>\n      <td>0.844207</td>\n    </tr>\n    <tr>\n      <th>06YUNBA9ZRLq</th>\n      <td>0.00</td>\n      <td>14.0</td>\n      <td>8.0</td>\n      <td>12.0</td>\n      <td>35.0</td>\n      <td>22.0</td>\n      <td>12.0</td>\n      <td>24.0</td>\n      <td>6.0</td>\n      <td>23.0</td>\n      <td>...</td>\n      <td>1.854073</td>\n      <td>1.644142</td>\n      <td>0.751862</td>\n      <td>0.305654</td>\n      <td>-1.857752</td>\n      <td>-1.340609</td>\n      <td>1.679403</td>\n      <td>-1.592114</td>\n      <td>0.965482</td>\n      <td>0.927551</td>\n    </tr>\n  </tbody>\n</table>\n<p>5 rows × 588 columns</p>\n</div>"
     },
     "execution_count": 55,
     "metadata": {},
     "output_type": "execute_result"
    }
   ],
   "source": [
    "X_full_train.head()"
   ]
  },
  {
   "cell_type": "code",
   "execution_count": 56,
   "id": "18c527621fb53507",
   "metadata": {
    "ExecuteTime": {
     "end_time": "2025-04-28T20:46:23.146389Z",
     "start_time": "2025-04-28T20:46:22.539398Z"
    }
   },
   "outputs": [
    {
     "data": {
      "text/plain": "['fmri_pca_13',\n 'fmri_pca_2',\n 'ColorVision_CV_Score',\n 'fmri_pca_41',\n 'fmri_pca_46',\n 'MRI_Track_Scan_Location_CUNY',\n 'MRI_Track_Scan_Location_CBIC',\n 'APQ_P_APQ_P_CP',\n 'SDQ_SDQ_Prosocial',\n 'fmri_pca_14',\n 'fmri_pca_26',\n 'fmri_pca_1',\n 'Barratt_Barratt_P1_Edu_Partial high school (10th or 11th grade)',\n 'SDQ_SDQ_Hyperactivity',\n 'fmri_pca_38',\n 'fmri_pca_7',\n 'MRI_Track_Scan_Location_Staten Island',\n 'APQ_P_APQ_P_ID',\n 'fmri_pca_40',\n 'fmri_pca_39',\n 'Barratt_Barratt_P2_Edu_Less than 7th grade',\n 'fmri_pca_29',\n 'fmri_pca_44',\n 'PreInt_Demos_Fam_Child_Ethnicity_0.4358974358974359',\n 'fmri_pca_30',\n 'PreInt_Demos_Fam_Child_Race_Black/African American',\n 'SDQ_SDQ_Internalizing',\n 'APQ_P_APQ_P_OPD',\n 'fmri_pca_24',\n 'Basic_Demos_Enroll_Year',\n 'SDQ_SDQ_Generating_Impact',\n 'SDQ_SDQ_Difficulties_Total',\n 'SDQ_SDQ_Peer_Problems',\n 'Basic_Demos_Study_Site_Staten Island',\n 'Basic_Demos_Study_Site_Midtown',\n 'fmri_pca_15',\n 'fmri_pca_50',\n 'fmri_pca_21',\n 'APQ_P_APQ_P_INV',\n 'fmri_pca_31',\n 'fmri_pca_33',\n 'SDQ_SDQ_Emotional_Problems',\n 'fmri_pca_32',\n 'APQ_P_APQ_P_PP',\n 'Barratt_Barratt_P1_Edu_Graduate degree',\n 'Barratt_Barratt_P2_Occ_Homemaker, stay at home parent.',\n 'fmri_pca_22',\n 'SDQ_SDQ_Conduct_Problems',\n 'SDQ_SDQ_Externalizing']"
     },
     "execution_count": 56,
     "metadata": {},
     "output_type": "execute_result"
    }
   ],
   "source": [
    "# Combine with targets temporarily\n",
    "X_full_train = X_full_train.reset_index()\n",
    "X_with_targets = X_full_train.merge(train_soln[['participant_id', 'ADHD_Outcome', 'Sex_F']], on='participant_id')\n",
    "\n",
    "# Compute correlations\n",
    "corrs = X_with_targets.drop(columns='participant_id').corr()\n",
    "\n",
    "# Grab correlation with targets\n",
    "adhd_corr = corrs['ADHD_Outcome'].abs().sort_values(ascending=False)\n",
    "sex_corr = corrs['Sex_F'].abs().sort_values(ascending=False)\n",
    "\n",
    "# Keep top N or those above a threshold\n",
    "threshold = 0.05  # adjust this as needed\n",
    "top_adhd_feats = adhd_corr[adhd_corr > threshold].index.tolist()\n",
    "top_sex_feats = sex_corr[sex_corr > threshold].index.tolist()\n",
    "\n",
    "# Union of both sets, drop targets themselves if included\n",
    "quant_selected = list(set(top_adhd_feats + top_sex_feats) - {'ADHD_Outcome', 'Sex_F'})\n",
    "\n",
    "quant_selected"
   ]
  },
  {
   "cell_type": "code",
   "outputs": [
    {
     "data": {
      "text/plain": "  participant_id  fmri_pca_13  fmri_pca_2  ColorVision_CV_Score  fmri_pca_41  \\\n0   00aIpNTbG5uh     0.968322   -5.068500                  13.0     0.074771   \n1   00fV0OyyoLfw     0.667914   -3.920926                  14.0    -0.274862   \n2   04X1eiS79T4B     3.275997   -5.386339                  14.0     3.698518   \n3   05ocQutkURd6     3.960646   -6.756400                  14.0     1.786929   \n4   06YUNBA9ZRLq    -0.961907   -4.088958                  14.0     1.854073   \n\n   fmri_pca_46  MRI_Track_Scan_Location_CUNY  MRI_Track_Scan_Location_CBIC  \\\n0     1.811582                             0                             1   \n1    -0.769743                             0                             0   \n2    -0.638312                             0                             0   \n3     0.688282                             0                             0   \n4    -1.340609                             0                             0   \n\n   APQ_P_APQ_P_CP  SDQ_SDQ_Prosocial  ...  fmri_pca_31  fmri_pca_33  \\\n0             3.0                9.0  ...     1.192742     0.227624   \n1             3.0                8.0  ...     0.589498     2.616910   \n2             3.0                7.0  ...     1.588275    -0.341572   \n3             3.0                6.0  ...     0.168934    -1.882832   \n4             8.0                4.0  ...     0.037696    -0.357489   \n\n   SDQ_SDQ_Emotional_Problems  fmri_pca_32  APQ_P_APQ_P_PP  \\\n0                         4.0     6.151391            27.0   \n1                         4.0     0.394052            30.0   \n2                         7.0    -2.443605            28.0   \n3                         0.0    -2.074844            28.0   \n4                         7.0    -0.201573            24.0   \n\n   Barratt_Barratt_P1_Edu_Graduate degree  \\\n0                                       1   \n1                                       1   \n2                                       0   \n3                                       0   \n4                                       0   \n\n   Barratt_Barratt_P2_Occ_Homemaker, stay at home parent.  fmri_pca_22  \\\n0                                                  0         -1.761258   \n1                                                  0          0.255715   \n2                                                  0          1.735268   \n3                                                  1         -3.901227   \n4                                                  0         -4.191496   \n\n   SDQ_SDQ_Conduct_Problems  SDQ_SDQ_Externalizing  \n0                       3.0                   11.0  \n1                       5.0                   13.0  \n2                       3.0                   10.0  \n3                       0.0                    3.0  \n4                       6.0                   15.0  \n\n[5 rows x 50 columns]",
      "text/html": "<div>\n<style scoped>\n    .dataframe tbody tr th:only-of-type {\n        vertical-align: middle;\n    }\n\n    .dataframe tbody tr th {\n        vertical-align: top;\n    }\n\n    .dataframe thead th {\n        text-align: right;\n    }\n</style>\n<table border=\"1\" class=\"dataframe\">\n  <thead>\n    <tr style=\"text-align: right;\">\n      <th></th>\n      <th>participant_id</th>\n      <th>fmri_pca_13</th>\n      <th>fmri_pca_2</th>\n      <th>ColorVision_CV_Score</th>\n      <th>fmri_pca_41</th>\n      <th>fmri_pca_46</th>\n      <th>MRI_Track_Scan_Location_CUNY</th>\n      <th>MRI_Track_Scan_Location_CBIC</th>\n      <th>APQ_P_APQ_P_CP</th>\n      <th>SDQ_SDQ_Prosocial</th>\n      <th>...</th>\n      <th>fmri_pca_31</th>\n      <th>fmri_pca_33</th>\n      <th>SDQ_SDQ_Emotional_Problems</th>\n      <th>fmri_pca_32</th>\n      <th>APQ_P_APQ_P_PP</th>\n      <th>Barratt_Barratt_P1_Edu_Graduate degree</th>\n      <th>Barratt_Barratt_P2_Occ_Homemaker, stay at home parent.</th>\n      <th>fmri_pca_22</th>\n      <th>SDQ_SDQ_Conduct_Problems</th>\n      <th>SDQ_SDQ_Externalizing</th>\n    </tr>\n  </thead>\n  <tbody>\n    <tr>\n      <th>0</th>\n      <td>00aIpNTbG5uh</td>\n      <td>0.968322</td>\n      <td>-5.068500</td>\n      <td>13.0</td>\n      <td>0.074771</td>\n      <td>1.811582</td>\n      <td>0</td>\n      <td>1</td>\n      <td>3.0</td>\n      <td>9.0</td>\n      <td>...</td>\n      <td>1.192742</td>\n      <td>0.227624</td>\n      <td>4.0</td>\n      <td>6.151391</td>\n      <td>27.0</td>\n      <td>1</td>\n      <td>0</td>\n      <td>-1.761258</td>\n      <td>3.0</td>\n      <td>11.0</td>\n    </tr>\n    <tr>\n      <th>1</th>\n      <td>00fV0OyyoLfw</td>\n      <td>0.667914</td>\n      <td>-3.920926</td>\n      <td>14.0</td>\n      <td>-0.274862</td>\n      <td>-0.769743</td>\n      <td>0</td>\n      <td>0</td>\n      <td>3.0</td>\n      <td>8.0</td>\n      <td>...</td>\n      <td>0.589498</td>\n      <td>2.616910</td>\n      <td>4.0</td>\n      <td>0.394052</td>\n      <td>30.0</td>\n      <td>1</td>\n      <td>0</td>\n      <td>0.255715</td>\n      <td>5.0</td>\n      <td>13.0</td>\n    </tr>\n    <tr>\n      <th>2</th>\n      <td>04X1eiS79T4B</td>\n      <td>3.275997</td>\n      <td>-5.386339</td>\n      <td>14.0</td>\n      <td>3.698518</td>\n      <td>-0.638312</td>\n      <td>0</td>\n      <td>0</td>\n      <td>3.0</td>\n      <td>7.0</td>\n      <td>...</td>\n      <td>1.588275</td>\n      <td>-0.341572</td>\n      <td>7.0</td>\n      <td>-2.443605</td>\n      <td>28.0</td>\n      <td>0</td>\n      <td>0</td>\n      <td>1.735268</td>\n      <td>3.0</td>\n      <td>10.0</td>\n    </tr>\n    <tr>\n      <th>3</th>\n      <td>05ocQutkURd6</td>\n      <td>3.960646</td>\n      <td>-6.756400</td>\n      <td>14.0</td>\n      <td>1.786929</td>\n      <td>0.688282</td>\n      <td>0</td>\n      <td>0</td>\n      <td>3.0</td>\n      <td>6.0</td>\n      <td>...</td>\n      <td>0.168934</td>\n      <td>-1.882832</td>\n      <td>0.0</td>\n      <td>-2.074844</td>\n      <td>28.0</td>\n      <td>0</td>\n      <td>1</td>\n      <td>-3.901227</td>\n      <td>0.0</td>\n      <td>3.0</td>\n    </tr>\n    <tr>\n      <th>4</th>\n      <td>06YUNBA9ZRLq</td>\n      <td>-0.961907</td>\n      <td>-4.088958</td>\n      <td>14.0</td>\n      <td>1.854073</td>\n      <td>-1.340609</td>\n      <td>0</td>\n      <td>0</td>\n      <td>8.0</td>\n      <td>4.0</td>\n      <td>...</td>\n      <td>0.037696</td>\n      <td>-0.357489</td>\n      <td>7.0</td>\n      <td>-0.201573</td>\n      <td>24.0</td>\n      <td>0</td>\n      <td>0</td>\n      <td>-4.191496</td>\n      <td>6.0</td>\n      <td>15.0</td>\n    </tr>\n  </tbody>\n</table>\n<p>5 rows × 50 columns</p>\n</div>"
     },
     "execution_count": 57,
     "metadata": {},
     "output_type": "execute_result"
    }
   ],
   "source": [
    "# Merge everything on participant_id\n",
    "X_full_test = X_full_test.reset_index()\n",
    "X_select_train = X_full_train[['participant_id'] + quant_selected]\n",
    "X_select_test = X_full_test[['participant_id'] + quant_selected]\n",
    "\n",
    "# Target labels\n",
    "y = train_soln[['participant_id', 'ADHD_Outcome', 'Sex_F']]\n",
    "\n",
    "X_select_train.head()"
   ],
   "metadata": {
    "collapsed": false,
    "ExecuteTime": {
     "end_time": "2025-04-28T20:46:23.147375Z",
     "start_time": "2025-04-28T20:46:23.114459Z"
    }
   },
   "id": "cfff74ffa1b4e36b",
   "execution_count": 57
  },
  {
   "cell_type": "code",
   "outputs": [
    {
     "data": {
      "text/plain": "  participant_id  fmri_pca_13  fmri_pca_2  ColorVision_CV_Score  fmri_pca_41  \\\n0   Cfwaf5FX7jWK    -1.885215    0.798518                  14.0    -1.742198   \n1   vhGrzmvA3Hjq     3.968658   -2.606679                  12.0    -1.084569   \n2   ULliyEXjy4OV    -1.428745    0.156742                  13.0     0.495617   \n3   LZfeAb1xMtql    -0.860696   -2.720716                  13.0     1.671720   \n4   EnFOUv0YK1RG    -3.413086   -1.047284                  14.0    -0.550988   \n\n   fmri_pca_46  MRI_Track_Scan_Location_CUNY  MRI_Track_Scan_Location_CBIC  \\\n0     0.537296                             1                             0   \n1    -3.291825                             1                             0   \n2     1.211216                             1                             0   \n3     0.295043                             0                             1   \n4    -2.343593                             1                             0   \n\n   APQ_P_APQ_P_CP  SDQ_SDQ_Prosocial  ...  fmri_pca_31  fmri_pca_33  \\\n0             5.0                8.0  ...     0.793547    -0.849166   \n1             3.0                9.0  ...     1.124243     2.003162   \n2             3.0                9.0  ...     1.016285     0.301984   \n3             3.0                6.0  ...     0.764329     0.126045   \n4             3.0               10.0  ...    -2.821317    -0.912005   \n\n   SDQ_SDQ_Emotional_Problems  fmri_pca_32  APQ_P_APQ_P_PP  \\\n0                         3.0     0.227520            26.0   \n1                         8.0     1.661870            28.0   \n2                         1.0     2.472538            25.0   \n3                         4.0    -0.856699            27.0   \n4                         6.0    -2.390853            28.0   \n\n   Barratt_Barratt_P1_Edu_Graduate degree  \\\n0                                       1   \n1                                       1   \n2                                       1   \n3                                       1   \n4                                       0   \n\n   Barratt_Barratt_P2_Occ_Homemaker, stay at home parent.  fmri_pca_22  \\\n0                                                  0          1.479896   \n1                                                  0         -1.941712   \n2                                                  0         -2.552891   \n3                                                  0         -1.041396   \n4                                                  0         -2.152863   \n\n   SDQ_SDQ_Conduct_Problems  SDQ_SDQ_Externalizing  \n0                       2.0                    9.0  \n1                       2.0                    5.0  \n2                       1.0                    6.0  \n3                       4.0                   10.0  \n4                       2.0                   12.0  \n\n[5 rows x 50 columns]",
      "text/html": "<div>\n<style scoped>\n    .dataframe tbody tr th:only-of-type {\n        vertical-align: middle;\n    }\n\n    .dataframe tbody tr th {\n        vertical-align: top;\n    }\n\n    .dataframe thead th {\n        text-align: right;\n    }\n</style>\n<table border=\"1\" class=\"dataframe\">\n  <thead>\n    <tr style=\"text-align: right;\">\n      <th></th>\n      <th>participant_id</th>\n      <th>fmri_pca_13</th>\n      <th>fmri_pca_2</th>\n      <th>ColorVision_CV_Score</th>\n      <th>fmri_pca_41</th>\n      <th>fmri_pca_46</th>\n      <th>MRI_Track_Scan_Location_CUNY</th>\n      <th>MRI_Track_Scan_Location_CBIC</th>\n      <th>APQ_P_APQ_P_CP</th>\n      <th>SDQ_SDQ_Prosocial</th>\n      <th>...</th>\n      <th>fmri_pca_31</th>\n      <th>fmri_pca_33</th>\n      <th>SDQ_SDQ_Emotional_Problems</th>\n      <th>fmri_pca_32</th>\n      <th>APQ_P_APQ_P_PP</th>\n      <th>Barratt_Barratt_P1_Edu_Graduate degree</th>\n      <th>Barratt_Barratt_P2_Occ_Homemaker, stay at home parent.</th>\n      <th>fmri_pca_22</th>\n      <th>SDQ_SDQ_Conduct_Problems</th>\n      <th>SDQ_SDQ_Externalizing</th>\n    </tr>\n  </thead>\n  <tbody>\n    <tr>\n      <th>0</th>\n      <td>Cfwaf5FX7jWK</td>\n      <td>-1.885215</td>\n      <td>0.798518</td>\n      <td>14.0</td>\n      <td>-1.742198</td>\n      <td>0.537296</td>\n      <td>1</td>\n      <td>0</td>\n      <td>5.0</td>\n      <td>8.0</td>\n      <td>...</td>\n      <td>0.793547</td>\n      <td>-0.849166</td>\n      <td>3.0</td>\n      <td>0.227520</td>\n      <td>26.0</td>\n      <td>1</td>\n      <td>0</td>\n      <td>1.479896</td>\n      <td>2.0</td>\n      <td>9.0</td>\n    </tr>\n    <tr>\n      <th>1</th>\n      <td>vhGrzmvA3Hjq</td>\n      <td>3.968658</td>\n      <td>-2.606679</td>\n      <td>12.0</td>\n      <td>-1.084569</td>\n      <td>-3.291825</td>\n      <td>1</td>\n      <td>0</td>\n      <td>3.0</td>\n      <td>9.0</td>\n      <td>...</td>\n      <td>1.124243</td>\n      <td>2.003162</td>\n      <td>8.0</td>\n      <td>1.661870</td>\n      <td>28.0</td>\n      <td>1</td>\n      <td>0</td>\n      <td>-1.941712</td>\n      <td>2.0</td>\n      <td>5.0</td>\n    </tr>\n    <tr>\n      <th>2</th>\n      <td>ULliyEXjy4OV</td>\n      <td>-1.428745</td>\n      <td>0.156742</td>\n      <td>13.0</td>\n      <td>0.495617</td>\n      <td>1.211216</td>\n      <td>1</td>\n      <td>0</td>\n      <td>3.0</td>\n      <td>9.0</td>\n      <td>...</td>\n      <td>1.016285</td>\n      <td>0.301984</td>\n      <td>1.0</td>\n      <td>2.472538</td>\n      <td>25.0</td>\n      <td>1</td>\n      <td>0</td>\n      <td>-2.552891</td>\n      <td>1.0</td>\n      <td>6.0</td>\n    </tr>\n    <tr>\n      <th>3</th>\n      <td>LZfeAb1xMtql</td>\n      <td>-0.860696</td>\n      <td>-2.720716</td>\n      <td>13.0</td>\n      <td>1.671720</td>\n      <td>0.295043</td>\n      <td>0</td>\n      <td>1</td>\n      <td>3.0</td>\n      <td>6.0</td>\n      <td>...</td>\n      <td>0.764329</td>\n      <td>0.126045</td>\n      <td>4.0</td>\n      <td>-0.856699</td>\n      <td>27.0</td>\n      <td>1</td>\n      <td>0</td>\n      <td>-1.041396</td>\n      <td>4.0</td>\n      <td>10.0</td>\n    </tr>\n    <tr>\n      <th>4</th>\n      <td>EnFOUv0YK1RG</td>\n      <td>-3.413086</td>\n      <td>-1.047284</td>\n      <td>14.0</td>\n      <td>-0.550988</td>\n      <td>-2.343593</td>\n      <td>1</td>\n      <td>0</td>\n      <td>3.0</td>\n      <td>10.0</td>\n      <td>...</td>\n      <td>-2.821317</td>\n      <td>-0.912005</td>\n      <td>6.0</td>\n      <td>-2.390853</td>\n      <td>28.0</td>\n      <td>0</td>\n      <td>0</td>\n      <td>-2.152863</td>\n      <td>2.0</td>\n      <td>12.0</td>\n    </tr>\n  </tbody>\n</table>\n<p>5 rows × 50 columns</p>\n</div>"
     },
     "execution_count": 58,
     "metadata": {},
     "output_type": "execute_result"
    }
   ],
   "source": [
    "X_select_test.head()"
   ],
   "metadata": {
    "collapsed": false,
    "ExecuteTime": {
     "end_time": "2025-04-28T20:46:23.148062Z",
     "start_time": "2025-04-28T20:46:23.132037Z"
    }
   },
   "id": "20e8c420697f7545",
   "execution_count": 58
  },
  {
   "cell_type": "code",
   "execution_count": 64,
   "id": "e3597474bf27bb8a",
   "metadata": {
    "ExecuteTime": {
     "end_time": "2025-04-28T20:51:18.318904Z",
     "start_time": "2025-04-28T20:51:18.150635Z"
    }
   },
   "outputs": [
    {
     "ename": "KeyError",
     "evalue": "\"None of ['participant_id'] are in the columns\"",
     "output_type": "error",
     "traceback": [
      "\u001B[0;31m---------------------------------------------------------------------------\u001B[0m",
      "\u001B[0;31mKeyError\u001B[0m                                  Traceback (most recent call last)",
      "\u001B[0;32m/var/folders/l9/v78y7h896278tzntj74hkdkr0000gn/T/ipykernel_5979/4184224775.py\u001B[0m in \u001B[0;36m?\u001B[0;34m()\u001B[0m\n\u001B[1;32m      6\u001B[0m \u001B[0;32mfrom\u001B[0m \u001B[0msklearn\u001B[0m\u001B[0;34m.\u001B[0m\u001B[0mmetrics\u001B[0m \u001B[0;32mimport\u001B[0m \u001B[0maccuracy_score\u001B[0m\u001B[0;34m,\u001B[0m \u001B[0mf1_score\u001B[0m\u001B[0;34m,\u001B[0m \u001B[0mprecision_score\u001B[0m\u001B[0;34m,\u001B[0m \u001B[0mrecall_score\u001B[0m\u001B[0;34m\u001B[0m\u001B[0;34m\u001B[0m\u001B[0m\n\u001B[1;32m      7\u001B[0m \u001B[0;32mimport\u001B[0m \u001B[0mnumpy\u001B[0m \u001B[0;32mas\u001B[0m \u001B[0mnp\u001B[0m\u001B[0;34m\u001B[0m\u001B[0;34m\u001B[0m\u001B[0m\n\u001B[1;32m      8\u001B[0m \u001B[0;34m\u001B[0m\u001B[0m\n\u001B[1;32m      9\u001B[0m \u001B[0;31m# Standardize\u001B[0m\u001B[0;34m\u001B[0m\u001B[0;34m\u001B[0m\u001B[0m\n\u001B[0;32m---> 10\u001B[0;31m \u001B[0mX_select_train\u001B[0m \u001B[0;34m=\u001B[0m \u001B[0mX_select_train\u001B[0m\u001B[0;34m.\u001B[0m\u001B[0mset_index\u001B[0m\u001B[0;34m(\u001B[0m\u001B[0;34m'participant_id'\u001B[0m\u001B[0;34m)\u001B[0m\u001B[0;34m\u001B[0m\u001B[0;34m\u001B[0m\u001B[0m\n\u001B[0m\u001B[1;32m     11\u001B[0m \u001B[0mscaler\u001B[0m \u001B[0;34m=\u001B[0m \u001B[0mStandardScaler\u001B[0m\u001B[0;34m(\u001B[0m\u001B[0;34m)\u001B[0m\u001B[0;34m\u001B[0m\u001B[0;34m\u001B[0m\u001B[0m\n\u001B[1;32m     12\u001B[0m \u001B[0mX_scaled\u001B[0m \u001B[0;34m=\u001B[0m \u001B[0mscaler\u001B[0m\u001B[0;34m.\u001B[0m\u001B[0mfit_transform\u001B[0m\u001B[0;34m(\u001B[0m\u001B[0mX_select_train\u001B[0m\u001B[0;34m)\u001B[0m\u001B[0;34m\u001B[0m\u001B[0;34m\u001B[0m\u001B[0m\n\u001B[1;32m     13\u001B[0m \u001B[0;34m\u001B[0m\u001B[0m\n",
      "\u001B[0;32m~/miniconda3/lib/python3.11/site-packages/pandas/core/frame.py\u001B[0m in \u001B[0;36m?\u001B[0;34m(self, keys, drop, append, inplace, verify_integrity)\u001B[0m\n\u001B[1;32m   6118\u001B[0m                     \u001B[0;32mif\u001B[0m \u001B[0;32mnot\u001B[0m \u001B[0mfound\u001B[0m\u001B[0;34m:\u001B[0m\u001B[0;34m\u001B[0m\u001B[0;34m\u001B[0m\u001B[0m\n\u001B[1;32m   6119\u001B[0m                         \u001B[0mmissing\u001B[0m\u001B[0;34m.\u001B[0m\u001B[0mappend\u001B[0m\u001B[0;34m(\u001B[0m\u001B[0mcol\u001B[0m\u001B[0;34m)\u001B[0m\u001B[0;34m\u001B[0m\u001B[0;34m\u001B[0m\u001B[0m\n\u001B[1;32m   6120\u001B[0m \u001B[0;34m\u001B[0m\u001B[0m\n\u001B[1;32m   6121\u001B[0m         \u001B[0;32mif\u001B[0m \u001B[0mmissing\u001B[0m\u001B[0;34m:\u001B[0m\u001B[0;34m\u001B[0m\u001B[0;34m\u001B[0m\u001B[0m\n\u001B[0;32m-> 6122\u001B[0;31m             \u001B[0;32mraise\u001B[0m \u001B[0mKeyError\u001B[0m\u001B[0;34m(\u001B[0m\u001B[0;34mf\"None of {missing} are in the columns\"\u001B[0m\u001B[0;34m)\u001B[0m\u001B[0;34m\u001B[0m\u001B[0;34m\u001B[0m\u001B[0m\n\u001B[0m\u001B[1;32m   6123\u001B[0m \u001B[0;34m\u001B[0m\u001B[0m\n\u001B[1;32m   6124\u001B[0m         \u001B[0;32mif\u001B[0m \u001B[0minplace\u001B[0m\u001B[0;34m:\u001B[0m\u001B[0;34m\u001B[0m\u001B[0;34m\u001B[0m\u001B[0m\n\u001B[1;32m   6125\u001B[0m             \u001B[0mframe\u001B[0m \u001B[0;34m=\u001B[0m \u001B[0mself\u001B[0m\u001B[0;34m\u001B[0m\u001B[0;34m\u001B[0m\u001B[0m\n",
      "\u001B[0;31mKeyError\u001B[0m: \"None of ['participant_id'] are in the columns\""
     ]
    }
   ],
   "source": [
    "import torch\n",
    "import torch.nn as nn\n",
    "from torch.utils.data import TensorDataset, DataLoader\n",
    "from sklearn.model_selection import train_test_split\n",
    "from sklearn.preprocessing import StandardScaler\n",
    "from sklearn.metrics import accuracy_score, f1_score, precision_score, recall_score\n",
    "import numpy as np\n",
    "\n",
    "# Standardize\n",
    "X_select_train = X_select_train.set_index('participant_id')\n",
    "scaler = StandardScaler()\n",
    "X_scaled = scaler.fit_transform(X_select_train)\n",
    "\n",
    "# Convert to tensors\n",
    "X_tensor = torch.tensor(X_scaled, dtype=torch.float32)\n",
    "y_tensor = torch.tensor(y[['ADHD_Outcome', 'Sex_F']].values, dtype=torch.float32)\n",
    "\n",
    "# Stratified train/test split\n",
    "stratify_labels = y['ADHD_Outcome'].astype(str) + y['Sex_F'].astype(str)\n",
    "X_train, X_test, y_train, y_test = train_test_split(\n",
    "    X_tensor, y_tensor, test_size=0.2, random_state=42, stratify=stratify_labels)\n",
    "\n",
    "train_ds = TensorDataset(X_train, y_train)\n",
    "test_ds = TensorDataset(X_test, y_test)\n",
    "train_loader = DataLoader(train_ds, batch_size=32, shuffle=True)\n",
    "test_loader = DataLoader(test_ds, batch_size=32)\n",
    "\n",
    "# Model\n",
    "class BetterMultiOutputNN(nn.Module):\n",
    "    def __init__(self, input_dim):\n",
    "        super().__init__()\n",
    "        self.shared = nn.Sequential(\n",
    "            nn.Linear(input_dim, 256),\n",
    "            nn.BatchNorm1d(256),\n",
    "            nn.ReLU(),\n",
    "            nn.Dropout(0.4),\n",
    "            nn.Linear(256, 128),\n",
    "            nn.ReLU(),\n",
    "            nn.Dropout(0.3)\n",
    "        )\n",
    "        self.head_adhd = nn.Linear(128, 1)\n",
    "        self.head_sex = nn.Linear(128, 1)\n",
    "\n",
    "    def forward(self, x):\n",
    "        shared_out = self.shared(x)\n",
    "        return self.head_adhd(shared_out), self.head_sex(shared_out)\n",
    "\n",
    "# Custom ADHD loss\n",
    "class WeightedADHDLoss(nn.Module):\n",
    "    def __init__(self, weight_female_adhd=2):\n",
    "        super().__init__()\n",
    "        self.weight_female_adhd = weight_female_adhd\n",
    "        self.bce = nn.BCEWithLogitsLoss(reduction='none')\n",
    "\n",
    "    def forward(self, adhd_preds, adhd_targets, sex_targets):\n",
    "        loss = self.bce(adhd_preds, adhd_targets)\n",
    "        weight = torch.ones_like(loss)\n",
    "        weight[(adhd_targets == 1) & (sex_targets == 1)] = self.weight_female_adhd\n",
    "        return (weight * loss).mean()\n",
    "\n",
    "# Initialize model and training setup\n",
    "model = BetterMultiOutputNN(X_select_train.shape[1])\n",
    "optimizer = torch.optim.AdamW(model.parameters(), lr=1e-3)\n",
    "scheduler = torch.optim.lr_scheduler.ReduceLROnPlateau(optimizer, patience=3, factor=0.5)\n",
    "\n",
    "adhd_criterion = WeightedADHDLoss(weight_female_adhd=2)\n",
    "# Calculate pos_weight based on class imbalance\n",
    "sex_positive_weight = (len(y) - y['Sex_F'].sum()) / y['Sex_F'].sum()\n",
    "sex_positive_weight = sex_positive_weight * 4\n",
    "sex_criterion = nn.BCEWithLogitsLoss(pos_weight=torch.tensor(sex_positive_weight, dtype=torch.float32))\n",
    "\n",
    "# Training loop\n",
    "best_val_loss = np.inf\n",
    "patience = 5\n",
    "epochs_no_improve = 0\n",
    "\n",
    "for epoch in range(50):\n",
    "    model.train()\n",
    "    running_loss = 0\n",
    "\n",
    "    for xb, yb in train_loader:\n",
    "        adhd_pred, sex_pred = model(xb)\n",
    "        adhd_labels = yb[:, 0]\n",
    "        sex_labels = yb[:, 1]\n",
    "\n",
    "        loss_adhd = adhd_criterion(adhd_pred.squeeze(), adhd_labels, sex_labels)\n",
    "        loss_sex = sex_criterion(sex_pred.squeeze(), sex_labels)\n",
    "        loss = loss_adhd + loss_sex\n",
    "\n",
    "        optimizer.zero_grad()\n",
    "        loss.backward()\n",
    "        optimizer.step()\n",
    "\n",
    "        running_loss += loss.item()\n",
    "\n",
    "    # Validation\n",
    "    model.eval()\n",
    "    val_losses = []\n",
    "    with torch.no_grad():\n",
    "        for xb, yb in test_loader:\n",
    "            adhd_pred, sex_pred = model(xb)\n",
    "            loss_adhd = adhd_criterion(adhd_pred.squeeze(), yb[:, 0], yb[:, 1])\n",
    "            loss_sex = sex_criterion(sex_pred.squeeze(), yb[:, 1])\n",
    "            val_loss = loss_adhd + loss_sex\n",
    "            val_losses.append(val_loss.item())\n",
    "\n",
    "    avg_val_loss = np.mean(val_losses)\n",
    "    scheduler.step(avg_val_loss)\n",
    "\n",
    "    print(f\"Epoch {epoch+1} | Train Loss: {running_loss/len(train_loader):.4f} | Val Loss: {avg_val_loss:.4f}\")\n",
    "\n",
    "    if avg_val_loss < best_val_loss:\n",
    "        best_val_loss = avg_val_loss\n",
    "        best_model = model.state_dict()\n",
    "        epochs_no_improve = 0\n",
    "    else:\n",
    "        epochs_no_improve += 1\n",
    "        if epochs_no_improve >= patience:\n",
    "            print(\"Early stopping triggered.\")\n",
    "            break\n",
    "\n",
    "# Evaluation\n",
    "model.load_state_dict(best_model)\n",
    "model.eval()\n",
    "all_preds, all_true = [], []\n",
    "\n",
    "with torch.no_grad():\n",
    "    for xb, yb in test_loader:\n",
    "        adhd_pred, sex_pred = model(xb)\n",
    "        adhd_pred = torch.sigmoid(adhd_pred)\n",
    "        sex_pred = torch.sigmoid(sex_pred)\n",
    "        preds = torch.cat([adhd_pred, sex_pred], dim=1)\n",
    "        all_preds.append(preds)\n",
    "        all_true.append(yb)\n",
    "\n",
    "all_preds = torch.cat(all_preds).numpy()\n",
    "all_true = torch.cat(all_true).numpy()\n",
    "\n",
    "# Thresholding\n",
    "adhd_pred_labels = (all_preds[:, 0] > 0.5).astype(int)\n",
    "sex_pred_labels = (all_preds[:, 1] > 0.5).astype(int)\n",
    "\n",
    "all_true_adhd = all_true[:, 0].astype(int)\n",
    "all_true_sex = all_true[:, 1].astype(int)\n",
    "\n",
    "# Metrics\n",
    "def print_metrics(y_true, y_pred, name):\n",
    "    print(f\"\\n{name} Metrics:\")\n",
    "    print(f\"Accuracy:  {accuracy_score(y_true, y_pred):.4f}\")\n",
    "    print(f\"F1 Score:  {f1_score(y_true, y_pred):.4f}\")\n",
    "    print(f\"Precision: {precision_score(y_true, y_pred):.4f}\")\n",
    "    print(f\"Recall:    {recall_score(y_true, y_pred):.4f}\")\n",
    "\n",
    "print_metrics(all_true_adhd, adhd_pred_labels, \"ADHD\")\n",
    "print_metrics(all_true_sex, sex_pred_labels, \"Sex\")"
   ]
  },
  {
   "cell_type": "code",
   "outputs": [
    {
     "data": {
      "text/plain": "    participant_id  fmri_pca_13  fmri_pca_2  ColorVision_CV_Score  \\\n0     Cfwaf5FX7jWK    -1.885215    0.798518                  14.0   \n1     vhGrzmvA3Hjq     3.968658   -2.606679                  12.0   \n2     ULliyEXjy4OV    -1.428745    0.156742                  13.0   \n3     LZfeAb1xMtql    -0.860696   -2.720716                  13.0   \n4     EnFOUv0YK1RG    -3.413086   -1.047284                  14.0   \n..             ...          ...         ...                   ...   \n299   UadZfjdEg7eG    -2.328931   -5.570785                  14.0   \n300   IUEHiLmQAqCi    -3.833227   -1.255951                  14.0   \n301   cRySmCadYFRO    -3.497823   -3.607900                  13.0   \n302   E3MvDUtJadc5     3.256703    0.912379                  14.0   \n303   dQJXfyRazknD    -2.466601   -0.212561                  13.0   \n\n     fmri_pca_41  fmri_pca_46  MRI_Track_Scan_Location_CUNY  \\\n0      -1.742198     0.537296                             1   \n1      -1.084569    -3.291825                             1   \n2       0.495617     1.211216                             1   \n3       1.671720     0.295043                             0   \n4      -0.550988    -2.343593                             1   \n..           ...          ...                           ...   \n299    -0.347845     2.276957                             1   \n300     1.773341     2.476305                             0   \n301    -0.178423     1.675037                             1   \n302     0.667161     0.993344                             1   \n303    -0.323237     2.027005                             1   \n\n     MRI_Track_Scan_Location_CBIC  APQ_P_APQ_P_CP  SDQ_SDQ_Prosocial  ...  \\\n0                               0             5.0                8.0  ...   \n1                               0             3.0                9.0  ...   \n2                               0             3.0                9.0  ...   \n3                               1             3.0                6.0  ...   \n4                               0             3.0               10.0  ...   \n..                            ...             ...                ...  ...   \n299                             0             3.0                7.0  ...   \n300                             1             5.0                8.0  ...   \n301                             0             3.0               10.0  ...   \n302                             0             3.0                0.0  ...   \n303                             0             3.0               10.0  ...   \n\n     fmri_pca_31  fmri_pca_33  SDQ_SDQ_Emotional_Problems  fmri_pca_32  \\\n0       0.793547    -0.849166                         3.0     0.227520   \n1       1.124243     2.003162                         8.0     1.661870   \n2       1.016285     0.301984                         1.0     2.472538   \n3       0.764329     0.126045                         4.0    -0.856699   \n4      -2.821317    -0.912005                         6.0    -2.390853   \n..           ...          ...                         ...          ...   \n299    -0.433611     0.184916                         7.0    -2.200096   \n300     0.383828    -4.780290                         2.0    -0.680996   \n301     2.515808    -0.729565                         4.0    -1.360757   \n302     3.339813    -2.718121                         2.0     2.972512   \n303    -1.058075    -0.927735                         0.0     1.959129   \n\n     APQ_P_APQ_P_PP  Barratt_Barratt_P1_Edu_Graduate degree  \\\n0              26.0                                       1   \n1              28.0                                       1   \n2              25.0                                       1   \n3              27.0                                       1   \n4              28.0                                       0   \n..              ...                                     ...   \n299            25.0                                       0   \n300            29.0                                       0   \n301            28.0                                       1   \n302            22.0                                       1   \n303            30.0                                       0   \n\n     Barratt_Barratt_P2_Occ_Homemaker, stay at home parent.  fmri_pca_22  \\\n0                                                    0          1.479896   \n1                                                    0         -1.941712   \n2                                                    0         -2.552891   \n3                                                    0         -1.041396   \n4                                                    0         -2.152863   \n..                                                 ...               ...   \n299                                                  0          0.342065   \n300                                                  0          1.476167   \n301                                                  0          0.982247   \n302                                                  0          2.026316   \n303                                                  0          0.115314   \n\n     SDQ_SDQ_Conduct_Problems  SDQ_SDQ_Externalizing  \n0                         2.0                    9.0  \n1                         2.0                    5.0  \n2                         1.0                    6.0  \n3                         4.0                   10.0  \n4                         2.0                   12.0  \n..                        ...                    ...  \n299                       1.0                    7.0  \n300                       2.0                   11.0  \n301                       1.0                    4.0  \n302                       5.0                   10.0  \n303                       0.0                    4.0  \n\n[304 rows x 50 columns]",
      "text/html": "<div>\n<style scoped>\n    .dataframe tbody tr th:only-of-type {\n        vertical-align: middle;\n    }\n\n    .dataframe tbody tr th {\n        vertical-align: top;\n    }\n\n    .dataframe thead th {\n        text-align: right;\n    }\n</style>\n<table border=\"1\" class=\"dataframe\">\n  <thead>\n    <tr style=\"text-align: right;\">\n      <th></th>\n      <th>participant_id</th>\n      <th>fmri_pca_13</th>\n      <th>fmri_pca_2</th>\n      <th>ColorVision_CV_Score</th>\n      <th>fmri_pca_41</th>\n      <th>fmri_pca_46</th>\n      <th>MRI_Track_Scan_Location_CUNY</th>\n      <th>MRI_Track_Scan_Location_CBIC</th>\n      <th>APQ_P_APQ_P_CP</th>\n      <th>SDQ_SDQ_Prosocial</th>\n      <th>...</th>\n      <th>fmri_pca_31</th>\n      <th>fmri_pca_33</th>\n      <th>SDQ_SDQ_Emotional_Problems</th>\n      <th>fmri_pca_32</th>\n      <th>APQ_P_APQ_P_PP</th>\n      <th>Barratt_Barratt_P1_Edu_Graduate degree</th>\n      <th>Barratt_Barratt_P2_Occ_Homemaker, stay at home parent.</th>\n      <th>fmri_pca_22</th>\n      <th>SDQ_SDQ_Conduct_Problems</th>\n      <th>SDQ_SDQ_Externalizing</th>\n    </tr>\n  </thead>\n  <tbody>\n    <tr>\n      <th>0</th>\n      <td>Cfwaf5FX7jWK</td>\n      <td>-1.885215</td>\n      <td>0.798518</td>\n      <td>14.0</td>\n      <td>-1.742198</td>\n      <td>0.537296</td>\n      <td>1</td>\n      <td>0</td>\n      <td>5.0</td>\n      <td>8.0</td>\n      <td>...</td>\n      <td>0.793547</td>\n      <td>-0.849166</td>\n      <td>3.0</td>\n      <td>0.227520</td>\n      <td>26.0</td>\n      <td>1</td>\n      <td>0</td>\n      <td>1.479896</td>\n      <td>2.0</td>\n      <td>9.0</td>\n    </tr>\n    <tr>\n      <th>1</th>\n      <td>vhGrzmvA3Hjq</td>\n      <td>3.968658</td>\n      <td>-2.606679</td>\n      <td>12.0</td>\n      <td>-1.084569</td>\n      <td>-3.291825</td>\n      <td>1</td>\n      <td>0</td>\n      <td>3.0</td>\n      <td>9.0</td>\n      <td>...</td>\n      <td>1.124243</td>\n      <td>2.003162</td>\n      <td>8.0</td>\n      <td>1.661870</td>\n      <td>28.0</td>\n      <td>1</td>\n      <td>0</td>\n      <td>-1.941712</td>\n      <td>2.0</td>\n      <td>5.0</td>\n    </tr>\n    <tr>\n      <th>2</th>\n      <td>ULliyEXjy4OV</td>\n      <td>-1.428745</td>\n      <td>0.156742</td>\n      <td>13.0</td>\n      <td>0.495617</td>\n      <td>1.211216</td>\n      <td>1</td>\n      <td>0</td>\n      <td>3.0</td>\n      <td>9.0</td>\n      <td>...</td>\n      <td>1.016285</td>\n      <td>0.301984</td>\n      <td>1.0</td>\n      <td>2.472538</td>\n      <td>25.0</td>\n      <td>1</td>\n      <td>0</td>\n      <td>-2.552891</td>\n      <td>1.0</td>\n      <td>6.0</td>\n    </tr>\n    <tr>\n      <th>3</th>\n      <td>LZfeAb1xMtql</td>\n      <td>-0.860696</td>\n      <td>-2.720716</td>\n      <td>13.0</td>\n      <td>1.671720</td>\n      <td>0.295043</td>\n      <td>0</td>\n      <td>1</td>\n      <td>3.0</td>\n      <td>6.0</td>\n      <td>...</td>\n      <td>0.764329</td>\n      <td>0.126045</td>\n      <td>4.0</td>\n      <td>-0.856699</td>\n      <td>27.0</td>\n      <td>1</td>\n      <td>0</td>\n      <td>-1.041396</td>\n      <td>4.0</td>\n      <td>10.0</td>\n    </tr>\n    <tr>\n      <th>4</th>\n      <td>EnFOUv0YK1RG</td>\n      <td>-3.413086</td>\n      <td>-1.047284</td>\n      <td>14.0</td>\n      <td>-0.550988</td>\n      <td>-2.343593</td>\n      <td>1</td>\n      <td>0</td>\n      <td>3.0</td>\n      <td>10.0</td>\n      <td>...</td>\n      <td>-2.821317</td>\n      <td>-0.912005</td>\n      <td>6.0</td>\n      <td>-2.390853</td>\n      <td>28.0</td>\n      <td>0</td>\n      <td>0</td>\n      <td>-2.152863</td>\n      <td>2.0</td>\n      <td>12.0</td>\n    </tr>\n    <tr>\n      <th>...</th>\n      <td>...</td>\n      <td>...</td>\n      <td>...</td>\n      <td>...</td>\n      <td>...</td>\n      <td>...</td>\n      <td>...</td>\n      <td>...</td>\n      <td>...</td>\n      <td>...</td>\n      <td>...</td>\n      <td>...</td>\n      <td>...</td>\n      <td>...</td>\n      <td>...</td>\n      <td>...</td>\n      <td>...</td>\n      <td>...</td>\n      <td>...</td>\n      <td>...</td>\n      <td>...</td>\n    </tr>\n    <tr>\n      <th>299</th>\n      <td>UadZfjdEg7eG</td>\n      <td>-2.328931</td>\n      <td>-5.570785</td>\n      <td>14.0</td>\n      <td>-0.347845</td>\n      <td>2.276957</td>\n      <td>1</td>\n      <td>0</td>\n      <td>3.0</td>\n      <td>7.0</td>\n      <td>...</td>\n      <td>-0.433611</td>\n      <td>0.184916</td>\n      <td>7.0</td>\n      <td>-2.200096</td>\n      <td>25.0</td>\n      <td>0</td>\n      <td>0</td>\n      <td>0.342065</td>\n      <td>1.0</td>\n      <td>7.0</td>\n    </tr>\n    <tr>\n      <th>300</th>\n      <td>IUEHiLmQAqCi</td>\n      <td>-3.833227</td>\n      <td>-1.255951</td>\n      <td>14.0</td>\n      <td>1.773341</td>\n      <td>2.476305</td>\n      <td>0</td>\n      <td>1</td>\n      <td>5.0</td>\n      <td>8.0</td>\n      <td>...</td>\n      <td>0.383828</td>\n      <td>-4.780290</td>\n      <td>2.0</td>\n      <td>-0.680996</td>\n      <td>29.0</td>\n      <td>0</td>\n      <td>0</td>\n      <td>1.476167</td>\n      <td>2.0</td>\n      <td>11.0</td>\n    </tr>\n    <tr>\n      <th>301</th>\n      <td>cRySmCadYFRO</td>\n      <td>-3.497823</td>\n      <td>-3.607900</td>\n      <td>13.0</td>\n      <td>-0.178423</td>\n      <td>1.675037</td>\n      <td>1</td>\n      <td>0</td>\n      <td>3.0</td>\n      <td>10.0</td>\n      <td>...</td>\n      <td>2.515808</td>\n      <td>-0.729565</td>\n      <td>4.0</td>\n      <td>-1.360757</td>\n      <td>28.0</td>\n      <td>1</td>\n      <td>0</td>\n      <td>0.982247</td>\n      <td>1.0</td>\n      <td>4.0</td>\n    </tr>\n    <tr>\n      <th>302</th>\n      <td>E3MvDUtJadc5</td>\n      <td>3.256703</td>\n      <td>0.912379</td>\n      <td>14.0</td>\n      <td>0.667161</td>\n      <td>0.993344</td>\n      <td>1</td>\n      <td>0</td>\n      <td>3.0</td>\n      <td>0.0</td>\n      <td>...</td>\n      <td>3.339813</td>\n      <td>-2.718121</td>\n      <td>2.0</td>\n      <td>2.972512</td>\n      <td>22.0</td>\n      <td>1</td>\n      <td>0</td>\n      <td>2.026316</td>\n      <td>5.0</td>\n      <td>10.0</td>\n    </tr>\n    <tr>\n      <th>303</th>\n      <td>dQJXfyRazknD</td>\n      <td>-2.466601</td>\n      <td>-0.212561</td>\n      <td>13.0</td>\n      <td>-0.323237</td>\n      <td>2.027005</td>\n      <td>1</td>\n      <td>0</td>\n      <td>3.0</td>\n      <td>10.0</td>\n      <td>...</td>\n      <td>-1.058075</td>\n      <td>-0.927735</td>\n      <td>0.0</td>\n      <td>1.959129</td>\n      <td>30.0</td>\n      <td>0</td>\n      <td>0</td>\n      <td>0.115314</td>\n      <td>0.0</td>\n      <td>4.0</td>\n    </tr>\n  </tbody>\n</table>\n<p>304 rows × 50 columns</p>\n</div>"
     },
     "execution_count": 60,
     "metadata": {},
     "output_type": "execute_result"
    }
   ],
   "source": [
    "X_select_test"
   ],
   "metadata": {
    "collapsed": false,
    "ExecuteTime": {
     "end_time": "2025-04-28T20:46:23.585986Z",
     "start_time": "2025-04-28T20:46:23.580802Z"
    }
   },
   "id": "69cb9650f7d650e8",
   "execution_count": 60
  },
  {
   "cell_type": "markdown",
   "source": [
    "## Testing and Submission"
   ],
   "metadata": {
    "collapsed": false
   },
   "id": "e1226e02566ee980"
  },
  {
   "cell_type": "code",
   "outputs": [
    {
     "name": "stdout",
     "output_type": "stream",
     "text": [
      "Number of samples: 304\n",
      "Predicted samples length: 304\n"
     ]
    },
    {
     "data": {
      "text/plain": "    participant_id  ADHD_Outcome  Sex_F\n0     Cfwaf5FX7jWK             1      0\n1     vhGrzmvA3Hjq             1      1\n2     ULliyEXjy4OV             1      1\n3     LZfeAb1xMtql             1      1\n4     EnFOUv0YK1RG             1      1\n..             ...           ...    ...\n299   UadZfjdEg7eG             1      1\n300   IUEHiLmQAqCi             1      1\n301   cRySmCadYFRO             1      1\n302   E3MvDUtJadc5             1      0\n303   dQJXfyRazknD             1      0\n\n[304 rows x 3 columns]",
      "text/html": "<div>\n<style scoped>\n    .dataframe tbody tr th:only-of-type {\n        vertical-align: middle;\n    }\n\n    .dataframe tbody tr th {\n        vertical-align: top;\n    }\n\n    .dataframe thead th {\n        text-align: right;\n    }\n</style>\n<table border=\"1\" class=\"dataframe\">\n  <thead>\n    <tr style=\"text-align: right;\">\n      <th></th>\n      <th>participant_id</th>\n      <th>ADHD_Outcome</th>\n      <th>Sex_F</th>\n    </tr>\n  </thead>\n  <tbody>\n    <tr>\n      <th>0</th>\n      <td>Cfwaf5FX7jWK</td>\n      <td>1</td>\n      <td>0</td>\n    </tr>\n    <tr>\n      <th>1</th>\n      <td>vhGrzmvA3Hjq</td>\n      <td>1</td>\n      <td>1</td>\n    </tr>\n    <tr>\n      <th>2</th>\n      <td>ULliyEXjy4OV</td>\n      <td>1</td>\n      <td>1</td>\n    </tr>\n    <tr>\n      <th>3</th>\n      <td>LZfeAb1xMtql</td>\n      <td>1</td>\n      <td>1</td>\n    </tr>\n    <tr>\n      <th>4</th>\n      <td>EnFOUv0YK1RG</td>\n      <td>1</td>\n      <td>1</td>\n    </tr>\n    <tr>\n      <th>...</th>\n      <td>...</td>\n      <td>...</td>\n      <td>...</td>\n    </tr>\n    <tr>\n      <th>299</th>\n      <td>UadZfjdEg7eG</td>\n      <td>1</td>\n      <td>1</td>\n    </tr>\n    <tr>\n      <th>300</th>\n      <td>IUEHiLmQAqCi</td>\n      <td>1</td>\n      <td>1</td>\n    </tr>\n    <tr>\n      <th>301</th>\n      <td>cRySmCadYFRO</td>\n      <td>1</td>\n      <td>1</td>\n    </tr>\n    <tr>\n      <th>302</th>\n      <td>E3MvDUtJadc5</td>\n      <td>1</td>\n      <td>0</td>\n    </tr>\n    <tr>\n      <th>303</th>\n      <td>dQJXfyRazknD</td>\n      <td>1</td>\n      <td>0</td>\n    </tr>\n  </tbody>\n</table>\n<p>304 rows × 3 columns</p>\n</div>"
     },
     "execution_count": 63,
     "metadata": {},
     "output_type": "execute_result"
    }
   ],
   "source": [
    "# Standardize test data (using the same scaler from training)\n",
    "# X_select_test = X_select_test.set_index('participant_id')\n",
    "X_test_scaled = scaler.transform(X_select_test)\n",
    "\n",
    "# Convert to PyTorch tensor\n",
    "X_test_tensor = torch.tensor(X_test_scaled, dtype=torch.float32)\n",
    "\n",
    "# Load test data into DataLoader (no need to include labels during testing)\n",
    "test_loader_final = DataLoader(X_test_tensor, batch_size=32, shuffle=False)  # No shuffling during test\n",
    "\n",
    "# Set model to eval mode and load best weights\n",
    "model.load_state_dict(best_model)  # Load the best model state\n",
    "model.eval()  # Set model to evaluation mode\n",
    "\n",
    "adhd_preds, sex_preds = [], []\n",
    "\n",
    "with torch.no_grad():\n",
    "    for xb in test_loader_final:\n",
    "        # Make predictions\n",
    "        adhd_out, sex_out = model(xb)\n",
    "        adhd_preds.append(adhd_out)\n",
    "        sex_preds.append(sex_out)\n",
    "\n",
    "# Concatenate predictions and apply threshold (0.5)\n",
    "adhd_preds = torch.cat(adhd_preds).squeeze().numpy()  # ADHD predictions\n",
    "sex_preds = torch.cat(sex_preds).squeeze().numpy()  # Sex predictions\n",
    "\n",
    "# Ensure the lengths match\n",
    "num_samples = len(X_select_test)\n",
    "print(f\"Number of samples: {num_samples}\")\n",
    "print(f\"Predicted samples length: {len(adhd_preds)}\")\n",
    "\n",
    "# Threshold at 0.5 for binary classification\n",
    "adhd_pred_labels = (adhd_preds > 0.5).astype(int)\n",
    "sex_pred_labels = (sex_preds > 0.5).astype(int)\n",
    "\n",
    "# Create test solution DataFrame\n",
    "test_soln = pd.DataFrame({\n",
    "    'participant_id': X_select_test.index,  # Assuming 'participant_id' is the index\n",
    "    'ADHD_Outcome': adhd_pred_labels,\n",
    "    'Sex_F': sex_pred_labels\n",
    "})\n",
    "\n",
    "# Save the DataFrame to a CSV for submission\n",
    "test_soln.to_csv(\"submission.csv\", index=False)\n",
    "\n",
    "# Output the final solution for review\n",
    "test_soln"
   ],
   "metadata": {
    "collapsed": false,
    "ExecuteTime": {
     "end_time": "2025-04-28T20:47:38.340215Z",
     "start_time": "2025-04-28T20:47:38.291533Z"
    }
   },
   "id": "a9da8b679a035942",
   "execution_count": 63
  },
  {
   "cell_type": "code",
   "outputs": [],
   "source": [],
   "metadata": {
    "collapsed": false,
    "ExecuteTime": {
     "start_time": "2025-04-28T20:46:23.634455Z"
    }
   },
   "id": "5d462c8c46aa2a6e"
  }
 ],
 "metadata": {
  "kernelspec": {
   "display_name": "base",
   "language": "python",
   "name": "python3"
  },
  "language_info": {
   "codemirror_mode": {
    "name": "ipython",
    "version": 3
   },
   "file_extension": ".py",
   "mimetype": "text/x-python",
   "name": "python",
   "nbconvert_exporter": "python",
   "pygments_lexer": "ipython3",
   "version": "3.11.7"
  }
 },
 "nbformat": 4,
 "nbformat_minor": 5
}
